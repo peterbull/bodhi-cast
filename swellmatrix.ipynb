{
 "cells": [
  {
   "cell_type": "code",
   "execution_count": 3,
   "metadata": {},
   "outputs": [],
   "source": [
    "# lat lon of 1st street jetty\n",
    "# 36.83088925769251, -75.96727139259976\n"
   ]
  },
  {
   "cell_type": "code",
   "execution_count": null,
   "metadata": {},
   "outputs": [],
   "source": []
  },
  {
   "cell_type": "code",
   "execution_count": 11,
   "metadata": {},
   "outputs": [],
   "source": [
    "import requests\n",
    "\n",
    "url = \"https://marine-api.open-meteo.com/v1/marine?latitude=36.83088925769251&longitude=-75.96727139259976&hourly=swell_wave_height,swell_wave_period\"\n",
    "res = requests.get(url)\n",
    "json_data = res.json()"
   ]
  },
  {
   "cell_type": "code",
   "execution_count": 17,
   "metadata": {},
   "outputs": [],
   "source": [
    "hourly_data = json_data.get('hourly', {})\n",
    "times = hourly_data.get('time', [])\n",
    "heights = hourly_data.get('swell_wave_height', [])\n",
    "periods = hourly_data.get('swell_wave_period', [])"
   ]
  },
  {
   "cell_type": "code",
   "execution_count": 20,
   "metadata": {},
   "outputs": [
    {
     "data": {
      "text/plain": [
       "[8.4,\n",
       " 8.25,\n",
       " 8.2,\n",
       " 8.15,\n",
       " 8.15,\n",
       " 8.15,\n",
       " 8.15,\n",
       " 8.2,\n",
       " 8.25,\n",
       " 8.3,\n",
       " 8.35,\n",
       " 8.35,\n",
       " 8.4,\n",
       " 8.5,\n",
       " 8.55,\n",
       " 8.65,\n",
       " 8.75,\n",
       " 8.85,\n",
       " 8.75,\n",
       " 8.2,\n",
       " 7.45,\n",
       " 6.85,\n",
       " 6.65,\n",
       " 6.65,\n",
       " 6.7,\n",
       " 6.75,\n",
       " 6.8,\n",
       " 6.85,\n",
       " 6.8,\n",
       " 6.7,\n",
       " 6.6,\n",
       " 6.55,\n",
       " 6.55,\n",
       " 6.6,\n",
       " 6.7,\n",
       " 6.85,\n",
       " 7.0,\n",
       " 7.25,\n",
       " 7.55,\n",
       " 7.75,\n",
       " 7.8,\n",
       " 7.8,\n",
       " 7.85,\n",
       " 7.95,\n",
       " 8.05,\n",
       " 8.2,\n",
       " 8.5,\n",
       " 8.85,\n",
       " 9.1,\n",
       " 9.15,\n",
       " 9.15,\n",
       " 9.15,\n",
       " 9.25,\n",
       " 9.4,\n",
       " 9.35,\n",
       " 9.0,\n",
       " 8.5,\n",
       " 7.95,\n",
       " 7.4,\n",
       " 6.8,\n",
       " 6.45,\n",
       " 6.4,\n",
       " 6.6,\n",
       " 6.7,\n",
       " 6.65,\n",
       " 6.6,\n",
       " 6.55,\n",
       " 6.6,\n",
       " 6.65,\n",
       " 6.7,\n",
       " 6.65,\n",
       " 6.5,\n",
       " 6.45,\n",
       " 6.45,\n",
       " 6.55,\n",
       " 6.6,\n",
       " 6.65,\n",
       " 6.75,\n",
       " 6.75,\n",
       " 6.7,\n",
       " 6.6,\n",
       " 6.5,\n",
       " 6.35,\n",
       " 6.15,\n",
       " 6.05,\n",
       " 6.15,\n",
       " 6.4,\n",
       " 6.5,\n",
       " 6.45,\n",
       " 6.25,\n",
       " 6.1,\n",
       " 5.9,\n",
       " 5.75,\n",
       " 5.6,\n",
       " 5.55,\n",
       " 5.55,\n",
       " 5.55,\n",
       " 5.55,\n",
       " 5.55,\n",
       " 5.6,\n",
       " 5.7,\n",
       " 5.8,\n",
       " 5.85,\n",
       " 5.8,\n",
       " 5.7,\n",
       " 5.65,\n",
       " 5.75,\n",
       " 5.9,\n",
       " 6.1,\n",
       " 6.3,\n",
       " 6.55,\n",
       " 6.6,\n",
       " 6.45,\n",
       " 6.15,\n",
       " 5.8,\n",
       " 5.35,\n",
       " 4.85,\n",
       " 4.5,\n",
       " 4.5,\n",
       " 4.65,\n",
       " 4.8,\n",
       " 4.85,\n",
       " 4.85,\n",
       " 4.8,\n",
       " 4.7,\n",
       " 4.55,\n",
       " 4.35,\n",
       " 4.05,\n",
       " 3.7,\n",
       " 3.5,\n",
       " 3.45,\n",
       " 3.55,\n",
       " 3.65,\n",
       " 3.7,\n",
       " 3.8,\n",
       " 3.85,\n",
       " 3.85,\n",
       " 3.8,\n",
       " 3.75,\n",
       " 3.7,\n",
       " 3.6,\n",
       " 3.55,\n",
       " 3.55,\n",
       " 3.6,\n",
       " 3.6,\n",
       " 3.6,\n",
       " 3.55,\n",
       " 3.55,\n",
       " 3.55,\n",
       " 3.6,\n",
       " 3.65,\n",
       " 3.7,\n",
       " 3.75,\n",
       " 3.85,\n",
       " 3.95,\n",
       " 4.05,\n",
       " 4.15,\n",
       " 4.2,\n",
       " 4.25,\n",
       " 4.3,\n",
       " 4.35,\n",
       " 4.4,\n",
       " 4.35,\n",
       " 4.1,\n",
       " 3.75,\n",
       " 3.5,\n",
       " 3.5,\n",
       " 3.55]"
      ]
     },
     "execution_count": 20,
     "metadata": {},
     "output_type": "execute_result"
    }
   ],
   "source": [
    "periods"
   ]
  },
  {
   "cell_type": "code",
   "execution_count": 21,
   "metadata": {},
   "outputs": [],
   "source": [
    "from backend.app.models.models import SwellData"
   ]
  },
  {
   "cell_type": "code",
   "execution_count": 23,
   "metadata": {},
   "outputs": [],
   "source": [
    "def parse_swell_data(json_data):\n",
    "    hourly_data = json_data.get('hourly', {})\n",
    "    times = hourly_data.get('time', [])\n",
    "    heights = hourly_data.get('swell_wave_height', [])\n",
    "    periods = hourly_data.get('swell_wave_period', [])\n",
    "\n",
    "    surf_data_list = []\n",
    "\n",
    "    for time, height, period in zip(times, heights, periods):\n",
    "        surf_data = SwellData(\n",
    "            latitude=json_data.get('latitude'),\n",
    "            longitude=json_data.get('longitude'),\n",
    "            generationtime_ms=json_data.get('generationtime_ms'),\n",
    "            utc_offset_seconds=json_data.get('utc_offset_seconds'),\n",
    "            timezone=json_data.get('timezone'),\n",
    "            timezone_abbreviation=json_data.get('timezone_abbreviation'),\n",
    "            elevation=json_data.get('elevation'),\n",
    "            hourly_units=json_data.get('hourly_units'),\n",
    "            hourly=time,\n",
    "            swell_wave_height=height,\n",
    "            swell_wave_period=period\n",
    "        )\n",
    "        surf_data_list.append(surf_data)\n",
    "\n",
    "    return surf_data_list"
   ]
  },
  {
   "cell_type": "code",
   "execution_count": 30,
   "metadata": {},
   "outputs": [],
   "source": [
    "import sys\n",
    "sys.path.append('./backend/app/')"
   ]
  },
  {
   "cell_type": "code",
   "execution_count": 37,
   "metadata": {},
   "outputs": [],
   "source": [
    "from models.models import SwellData\n",
    "from db.database import get_db\n",
    "from sqlalchemy.ext.asyncio import AsyncSession\n",
    "from contextlib import asynccontextmanager\n",
    "\n",
    "\n",
    "@asynccontextmanager\n",
    "async def get_db():\n",
    "    async with AsyncSessionLocal() as session:\n",
    "        yield session\n",
    "        \n"
   ]
  },
  {
   "cell_type": "code",
   "execution_count": 38,
   "metadata": {},
   "outputs": [],
   "source": [
    "async def save_swell_data(parsed_data):\n",
    "    async with get_db() as session:  # This now correctly provides an async context manager\n",
    "        for data in parsed_data:\n",
    "            session.add(data)  # Add each data instance to the session\n",
    "        await session.commit()  # Commit the transaction"
   ]
  },
  {
   "cell_type": "code",
   "execution_count": 40,
   "metadata": {},
   "outputs": [],
   "source": [
    "parsed_swell_data = parse_swell_data(json_data)"
   ]
  },
  {
   "cell_type": "code",
   "execution_count": 42,
   "metadata": {},
   "outputs": [
    {
     "data": {
      "text/plain": [
       "<coroutine object save_swell_data at 0x7f3ad5959d90>"
      ]
     },
     "execution_count": 42,
     "metadata": {},
     "output_type": "execute_result"
    }
   ],
   "source": [
    "save_swell_data(parsed_swell_data)"
   ]
  },
  {
   "cell_type": "code",
   "execution_count": null,
   "metadata": {},
   "outputs": [],
   "source": []
  }
 ],
 "metadata": {
  "kernelspec": {
   "display_name": "bodhi-cast-hzKNgM2E-py3.10",
   "language": "python",
   "name": "python3"
  },
  "language_info": {
   "codemirror_mode": {
    "name": "ipython",
    "version": 3
   },
   "file_extension": ".py",
   "mimetype": "text/x-python",
   "name": "python",
   "nbconvert_exporter": "python",
   "pygments_lexer": "ipython3",
   "version": "3.10.12"
  }
 },
 "nbformat": 4,
 "nbformat_minor": 2
}
