{
 "cells": [
  {
   "cell_type": "code",
   "execution_count": 5,
   "metadata": {},
   "outputs": [],
   "source": [
    "import (\n",
    "    \"github.com/janpfeifer/gonb/cache\"\n",
    "\t\t\"fmt\"\n",
    "\t\t\"os\"\n",
    "\t\t\"github.com/nilsmagnus/grib\"\n",
    ")"
   ]
  },
  {
   "cell_type": "code",
   "execution_count": 8,
   "metadata": {},
   "outputs": [
    {
     "name": "stdout",
     "output_type": "stream",
     "text": [
      "Error reading messages: Template number not supported: 40\n"
     ]
    },
    {
     "name": "stderr",
     "output_type": "stream",
     "text": [
      "2024/12/13 08:57:59 Error when parsing a message,  Template number not supported: 40\n"
     ]
    }
   ],
   "source": [
    "%%\n",
    "gribfile, err := os.Open(\"./data/gefs.wave.grib2\")\n",
    "if err != nil {\n",
    "\t\tfmt.Println(\"Error opening file:\", err)\n",
    "\t\treturn\n",
    "}\n",
    "defer gribfile.Close()\n",
    "\n",
    "// Read messages from the GRIB file\n",
    "messages, err := griblib.ReadMessages(gribfile)\n",
    "if err != nil {\n",
    "\t\tfmt.Println(\"Error reading messages:\", err)\n",
    "\t\treturn\n",
    "}\n",
    "\n",
    "// Process each message\n",
    "for _, message := range messages {\n",
    "\t\t// Replace with actual processing logic\n",
    "\t\tfmt.Println(\"Message:\", message)\n",
    "}\n"
   ]
  },
  {
   "cell_type": "code",
   "execution_count": null,
   "metadata": {},
   "outputs": [],
   "source": []
  }
 ],
 "metadata": {
  "kernelspec": {
   "display_name": "Go (gonb)",
   "language": "go",
   "name": "gonb"
  },
  "language_info": {
   "codemirror_mode": "",
   "file_extension": ".go",
   "mimetype": "",
   "name": "go",
   "nbconvert_exporter": "",
   "pygments_lexer": "",
   "version": "go1.23.4"
  }
 },
 "nbformat": 4,
 "nbformat_minor": 2
}
