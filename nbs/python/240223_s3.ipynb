{
 "cells": [
  {
   "cell_type": "code",
   "execution_count": 1,
   "metadata": {},
   "outputs": [],
   "source": [
    "import pandas as pd\n",
    "import json\n",
    "import requests\n",
    "import aiohttp\n",
    "import asyncio\n",
    "import pendulum"
   ]
  },
  {
   "cell_type": "code",
   "execution_count": 2,
   "metadata": {},
   "outputs": [],
   "source": [
    "spots = requests.get(\"http://api.peterbull.org/spots\")"
   ]
  },
  {
   "cell_type": "code",
   "execution_count": 3,
   "metadata": {},
   "outputs": [],
   "source": [
    "spots_list = json.loads(spots.content.decode('utf-8'))"
   ]
  },
  {
   "cell_type": "code",
   "execution_count": 4,
   "metadata": {},
   "outputs": [
    {
     "data": {
      "text/plain": [
       "36.83055459542353"
      ]
     },
     "execution_count": 4,
     "metadata": {},
     "output_type": "execute_result"
    }
   ],
   "source": [
    "spots_list[0][\"latitude\"]"
   ]
  },
  {
   "cell_type": "code",
   "execution_count": 5,
   "metadata": {},
   "outputs": [],
   "source": [
    "url = \"http://api.peterbull.org/\""
   ]
  },
  {
   "cell_type": "code",
   "execution_count": 6,
   "metadata": {},
   "outputs": [],
   "source": [
    "# async def fetch_spot(session, url):\n",
    "#         async with session.get(url) as response:\n",
    "#              return await response.text()\n",
    "\n",
    "# async def fetch_all(spots_list):\n",
    "#     data = []\n",
    "#     date = pendulum.now().format(\"YYYYMMDD\")\n",
    "#     async with aiohttp.ClientSession() as session:\n",
    "#         tasks = []\n",
    "#         for spot in spots_list:\n",
    "#             url = f\"http://api.peterbull.org/forecasts/spots/{date}/{spot['latitude']}/{spot['longitude']}\"\n",
    "#             tasks.append(fetch_spot(session, url))\n",
    "#         data = await asyncio.gather(*tasks)\n",
    "#     return data"
   ]
  },
  {
   "cell_type": "code",
   "execution_count": 7,
   "metadata": {},
   "outputs": [],
   "source": [
    "\n",
    "# for spot in spots_list[:100]:\n",
    "#     requests.get(f\"http://api.peterbull.org/forecasts/spots/20240223/{spot['latitude']}/{spot['longitude']}\")"
   ]
  },
  {
   "cell_type": "code",
   "execution_count": 8,
   "metadata": {},
   "outputs": [],
   "source": [
    "storage_gb = .023\n"
   ]
  },
  {
   "cell_type": "code",
   "execution_count": 9,
   "metadata": {},
   "outputs": [],
   "source": [
    "import boto3\n",
    "import os\n",
    "import json\n",
    "\n"
   ]
  },
  {
   "cell_type": "code",
   "execution_count": 10,
   "metadata": {},
   "outputs": [],
   "source": [
    "# !export $(cat ../../.env || xargs)"
   ]
  },
  {
   "cell_type": "code",
   "execution_count": 11,
   "metadata": {},
   "outputs": [],
   "source": [
    "S3_AWS_ACCESS_KEY_ID = os.environ.get('S3_AWS_ACCESS_KEY_ID')\n",
    "S3_AWS_SECRET_ACCESS_KEY = os.environ.get('S3_AWS_SECRET_ACCESS_KEY')\n",
    "S3_REGION_NAME = os.environ.get('S3_REGION_NAME')\n",
    "S3_BUCKET_SPOTS = os.environ.get('S3_BUCKET_SPOTS')"
   ]
  },
  {
   "cell_type": "code",
   "execution_count": 12,
   "metadata": {},
   "outputs": [],
   "source": [
    "s3 = boto3.client(\"s3\", region_name=S3_REGION_NAME, aws_access_key_id=S3_AWS_ACCESS_KEY_ID, aws_secret_access_key=S3_AWS_SECRET_ACCESS_KEY)"
   ]
  },
  {
   "cell_type": "code",
   "execution_count": 13,
   "metadata": {},
   "outputs": [
    {
     "data": {
      "text/plain": [
       "{'ResponseMetadata': {'RequestId': 'T1G6C0KSR7J9EMNE',\n",
       "  'HostId': 'pmjawq06WZRan9dMabkoOp9ZszjyHTHDwxcXZe7xXvF0qR4lZbGwW0Oo+cN6+AJ9djMGSqa21IHBFXl5pwVCKqoHIC9vIh5ZU+1YALll3lg=',\n",
       "  'HTTPStatusCode': 200,\n",
       "  'HTTPHeaders': {'x-amz-id-2': 'pmjawq06WZRan9dMabkoOp9ZszjyHTHDwxcXZe7xXvF0qR4lZbGwW0Oo+cN6+AJ9djMGSqa21IHBFXl5pwVCKqoHIC9vIh5ZU+1YALll3lg=',\n",
       "   'x-amz-request-id': 'T1G6C0KSR7J9EMNE',\n",
       "   'date': 'Sat, 24 Feb 2024 14:58:42 GMT',\n",
       "   'x-amz-bucket-region': 'us-east-1',\n",
       "   'content-type': 'application/xml',\n",
       "   'transfer-encoding': 'chunked',\n",
       "   'server': 'AmazonS3'},\n",
       "  'RetryAttempts': 0},\n",
       " 'IsTruncated': False,\n",
       " 'Contents': [{'Key': 'spots.json',\n",
       "   'LastModified': datetime.datetime(2024, 2, 24, 13, 2, 2, tzinfo=tzutc()),\n",
       "   'ETag': '\"fc51bde43a83ddff8d908d2fff7431a6\"',\n",
       "   'Size': 165453,\n",
       "   'StorageClass': 'STANDARD'}],\n",
       " 'Name': 'bodhi-cast-surf-spots',\n",
       " 'Prefix': '',\n",
       " 'MaxKeys': 1000,\n",
       " 'EncodingType': 'url',\n",
       " 'KeyCount': 1}"
      ]
     },
     "execution_count": 13,
     "metadata": {},
     "output_type": "execute_result"
    }
   ],
   "source": [
    "s3.list_objects_v2(Bucket=S3_BUCKET_SPOTS)"
   ]
  },
  {
   "cell_type": "code",
   "execution_count": 14,
   "metadata": {},
   "outputs": [],
   "source": [
    "spots_file = \"../../backend/app/data/spots/spots.py\""
   ]
  },
  {
   "cell_type": "code",
   "execution_count": 15,
   "metadata": {},
   "outputs": [],
   "source": [
    "namespace = {}\n",
    "exec(open(spots_file).read(), namespace)"
   ]
  },
  {
   "cell_type": "code",
   "execution_count": 16,
   "metadata": {},
   "outputs": [],
   "source": [
    "spots_dict = namespace['spots']\n",
    "spots_json = json.dumps(spots_dict)"
   ]
  },
  {
   "cell_type": "markdown",
   "metadata": {},
   "source": [
    "upload to S3"
   ]
  },
  {
   "cell_type": "code",
   "execution_count": 17,
   "metadata": {},
   "outputs": [],
   "source": [
    "# s3.put_object(Body=spots_json, Bucket=S3_BUCKET_SPOTS, Key='spots.json')"
   ]
  },
  {
   "cell_type": "code",
   "execution_count": 18,
   "metadata": {},
   "outputs": [],
   "source": [
    "response = s3.get_object(Bucket=S3_BUCKET_SPOTS, Key='spots.json')"
   ]
  },
  {
   "cell_type": "code",
   "execution_count": 19,
   "metadata": {},
   "outputs": [],
   "source": [
    "data = response[\"Body\"].read().decode(\"utf-8\")"
   ]
  },
  {
   "cell_type": "code",
   "execution_count": 21,
   "metadata": {},
   "outputs": [
    {
     "data": {
      "text/plain": [
       "'[{\"latitude\": 46.810'"
      ]
     },
     "execution_count": 21,
     "metadata": {},
     "output_type": "execute_result"
    }
   ],
   "source": [
    "data[:20]"
   ]
  },
  {
   "cell_type": "markdown",
   "metadata": {},
   "source": []
  },
  {
   "cell_type": "code",
   "execution_count": 22,
   "metadata": {},
   "outputs": [],
   "source": [
    "spots_dict = json.loads(data)"
   ]
  },
  {
   "cell_type": "code",
   "execution_count": 24,
   "metadata": {},
   "outputs": [
    {
     "data": {
      "text/plain": [
       "{'latitude': 46.810422,\n",
       " 'longitude': -90.671978,\n",
       " 'spot_name': 'Madeline Island/Big Bay',\n",
       " 'street_address': 'Town of La Pointe, Wisconsin'}"
      ]
     },
     "execution_count": 24,
     "metadata": {},
     "output_type": "execute_result"
    }
   ],
   "source": [
    "spots_dict[0]"
   ]
  },
  {
   "cell_type": "code",
   "execution_count": null,
   "metadata": {},
   "outputs": [],
   "source": [
    "new_dict[:2]"
   ]
  },
  {
   "cell_type": "code",
   "execution_count": null,
   "metadata": {},
   "outputs": [],
   "source": []
  }
 ],
 "metadata": {
  "kernelspec": {
   "display_name": ".venv",
   "language": "python",
   "name": "python3"
  },
  "language_info": {
   "codemirror_mode": {
    "name": "ipython",
    "version": 3
   },
   "file_extension": ".py",
   "mimetype": "text/x-python",
   "name": "python",
   "nbconvert_exporter": "python",
   "pygments_lexer": "ipython3",
   "version": "3.10.12"
  }
 },
 "nbformat": 4,
 "nbformat_minor": 2
}
