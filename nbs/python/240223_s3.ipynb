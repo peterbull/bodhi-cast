{
 "cells": [
  {
   "cell_type": "code",
   "execution_count": 1,
   "metadata": {},
   "outputs": [],
   "source": [
    "import pandas as pd\n",
    "import json\n",
    "import requests\n",
    "import aiohttp\n",
    "import asyncio\n",
    "import pendulum"
   ]
  },
  {
   "cell_type": "code",
   "execution_count": 2,
   "metadata": {},
   "outputs": [],
   "source": [
    "spots = requests.get(\"http://api.peterbull.org/spots\")"
   ]
  },
  {
   "cell_type": "code",
   "execution_count": 3,
   "metadata": {},
   "outputs": [],
   "source": [
    "spots_list = json.loads(spots.content.decode('utf-8'))"
   ]
  },
  {
   "cell_type": "code",
   "execution_count": 4,
   "metadata": {},
   "outputs": [
    {
     "data": {
      "text/plain": [
       "36.83055459542353"
      ]
     },
     "execution_count": 4,
     "metadata": {},
     "output_type": "execute_result"
    }
   ],
   "source": [
    "spots_list[0][\"latitude\"]"
   ]
  },
  {
   "cell_type": "code",
   "execution_count": 5,
   "metadata": {},
   "outputs": [],
   "source": [
    "url = \"http://api.peterbull.org/\""
   ]
  },
  {
   "cell_type": "code",
   "execution_count": 6,
   "metadata": {},
   "outputs": [],
   "source": [
    "# async def fetch_spot(session, url):\n",
    "#         async with session.get(url) as response:\n",
    "#              return await response.text()\n",
    "\n",
    "# async def fetch_all(spots_list):\n",
    "#     data = []\n",
    "#     date = pendulum.now().format(\"YYYYMMDD\")\n",
    "#     async with aiohttp.ClientSession() as session:\n",
    "#         tasks = []\n",
    "#         for spot in spots_list:\n",
    "#             url = f\"http://api.peterbull.org/forecasts/spots/{date}/{spot['latitude']}/{spot['longitude']}\"\n",
    "#             tasks.append(fetch_spot(session, url))\n",
    "#         data = await asyncio.gather(*tasks)\n",
    "#     return data"
   ]
  },
  {
   "cell_type": "code",
   "execution_count": 7,
   "metadata": {},
   "outputs": [],
   "source": [
    "\n",
    "# for spot in spots_list[:100]:\n",
    "#     requests.get(f\"http://api.peterbull.org/forecasts/spots/20240223/{spot['latitude']}/{spot['longitude']}\")"
   ]
  },
  {
   "cell_type": "code",
   "execution_count": 8,
   "metadata": {},
   "outputs": [],
   "source": [
    "import boto3\n",
    "import os\n",
    "import json\n",
    "\n"
   ]
  },
  {
   "cell_type": "code",
   "execution_count": 9,
   "metadata": {},
   "outputs": [],
   "source": [
    "# !export $(cat ../../.env || xargs)"
   ]
  },
  {
   "cell_type": "code",
   "execution_count": 10,
   "metadata": {},
   "outputs": [],
   "source": [
    "S3_AWS_ACCESS_KEY_ID = os.environ.get('S3_AWS_ACCESS_KEY_ID')\n",
    "S3_AWS_SECRET_ACCESS_KEY = os.environ.get('S3_AWS_SECRET_ACCESS_KEY')\n",
    "S3_REGION_NAME = os.environ.get('S3_REGION_NAME')\n",
    "S3_BUCKET_SPOTS = os.environ.get('S3_BUCKET_SPOTS')"
   ]
  },
  {
   "cell_type": "code",
   "execution_count": 12,
   "metadata": {},
   "outputs": [],
   "source": [
    "s3 = boto3.client(\"s3\", region_name=S3_REGION_NAME, aws_access_key_id=S3_AWS_ACCESS_KEY_ID, aws_secret_access_key=S3_AWS_SECRET_ACCESS_KEY)"
   ]
  },
  {
   "cell_type": "code",
   "execution_count": 13,
   "metadata": {},
   "outputs": [
    {
     "data": {
      "text/plain": [
       "{'ResponseMetadata': {'RequestId': 'ZTR7TSECYNGB4W8K',\n",
       "  'HostId': 'PgJfaZk2h00eeu0oJRhMpDQGQRWJqHQvVDONUbQzVSuKdt2R4+rDsyaYpjaan/alYTa8fLezM3k=',\n",
       "  'HTTPStatusCode': 200,\n",
       "  'HTTPHeaders': {'x-amz-id-2': 'PgJfaZk2h00eeu0oJRhMpDQGQRWJqHQvVDONUbQzVSuKdt2R4+rDsyaYpjaan/alYTa8fLezM3k=',\n",
       "   'x-amz-request-id': 'ZTR7TSECYNGB4W8K',\n",
       "   'date': 'Sat, 24 Feb 2024 12:54:22 GMT',\n",
       "   'x-amz-bucket-region': 'us-east-1',\n",
       "   'content-type': 'application/xml',\n",
       "   'transfer-encoding': 'chunked',\n",
       "   'server': 'AmazonS3'},\n",
       "  'RetryAttempts': 0},\n",
       " 'IsTruncated': False,\n",
       " 'Contents': [{'Key': 'taxi_zone_lookup.csv',\n",
       "   'LastModified': datetime.datetime(2024, 2, 24, 12, 18, 28, tzinfo=tzutc()),\n",
       "   'ETag': '\"9298b333bbecc94715b3996cecf07eaf\"',\n",
       "   'Size': 12322,\n",
       "   'StorageClass': 'STANDARD'}],\n",
       " 'Name': 'bodhi-cast-surf-spots',\n",
       " 'Prefix': '',\n",
       " 'MaxKeys': 1000,\n",
       " 'EncodingType': 'url',\n",
       " 'KeyCount': 1}"
      ]
     },
     "execution_count": 13,
     "metadata": {},
     "output_type": "execute_result"
    }
   ],
   "source": [
    "s3.list_objects_v2(Bucket=S3_BUCKET_SPOTS)"
   ]
  },
  {
   "cell_type": "code",
   "execution_count": null,
   "metadata": {},
   "outputs": [],
   "source": []
  }
 ],
 "metadata": {
  "kernelspec": {
   "display_name": ".venv",
   "language": "python",
   "name": "python3"
  },
  "language_info": {
   "codemirror_mode": {
    "name": "ipython",
    "version": 3
   },
   "file_extension": ".py",
   "mimetype": "text/x-python",
   "name": "python",
   "nbconvert_exporter": "python",
   "pygments_lexer": "ipython3",
   "version": "3.10.12"
  }
 },
 "nbformat": 4,
 "nbformat_minor": 2
}
