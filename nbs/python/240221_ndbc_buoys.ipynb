{
 "cells": [
  {
   "cell_type": "code",
   "execution_count": 2,
   "metadata": {},
   "outputs": [],
   "source": [
    "import requests\n",
    "import pandas as pd\n",
    "from io import StringIO"
   ]
  },
  {
   "cell_type": "markdown",
   "metadata": {},
   "source": [
    "## Buoy Data"
   ]
  },
  {
   "cell_type": "markdown",
   "metadata": {},
   "source": [
    "Links to \n",
    "- [Buoy Map](https://www.ndbc.noaa.gov/)\n",
    "- [NDBC Station List](https://www.ndbc.noaa.gov/to_station.shtml)\n",
    "- [Request protocols](https://www.ndbc.noaa.gov/faq/rt_data_access.shtml)"
   ]
  },
  {
   "cell_type": "markdown",
   "metadata": {},
   "source": [
    "The available data types are:\n",
    "\n",
    "- txt for standard meteorological data\n",
    "- drift for meteorological data from drifting buoys\n",
    "- cwind for continuous winds data\n",
    "- spec for spectral wave summaries\n",
    "- data_spec for raw spectral wave data\n",
    "- swdir for spectral wave data (alpha1)\n",
    "- swdir2 spectral wave data (alpha2)\n",
    "- swr1 for spectral wave data (r1)\n",
    "- swr2 for spectral wave data (r2)\n",
    "- adcp for Acoustic Doppler Current Profiler\n",
    "- ocean for oceanographic data\n",
    "- tide for tide data"
   ]
  },
  {
   "cell_type": "code",
   "execution_count": 3,
   "metadata": {},
   "outputs": [],
   "source": [
    "data_types = [\"txt\", \"drift\", \"cwind\", \"spec\", \"dataspec\", \"swdir\", \"swdir\", \"swdir2\", \"swr1\", \"swr2\", \"adcp\", \"ocean\", \"tide\"]"
   ]
  },
  {
   "cell_type": "code",
   "execution_count": 4,
   "metadata": {},
   "outputs": [],
   "source": [
    "buoy_num = 44099 # Cape Henry Va active SCRIPPS buoy"
   ]
  },
  {
   "cell_type": "code",
   "execution_count": 5,
   "metadata": {},
   "outputs": [],
   "source": [
    "res = requests.get(f\"https://www.ndbc.noaa.gov/data/realtime2/{buoy_num}.txt\")"
   ]
  },
  {
   "cell_type": "code",
   "execution_count": 6,
   "metadata": {},
   "outputs": [
    {
     "name": "stdout",
     "output_type": "stream",
     "text": [
      "#YY  MM DD hh mm WDIR WSPD GST  WVHT   DPD   APD MWD   PRES  ATMP  WTMP  DEWP  VIS PTDY  TIDE\n",
      "#yr  mo dy hr mn degT m/s  m/s     m   sec   sec degT   hPa  degC  degC  degC  nmi  hPa    ft\n",
      "2024 02 21 21 56  MM   MM   MM   2.0     9   5.9 110     MM    MM   6.9    MM   MM   MM    MM\n",
      "2024 02 21 21 26  MM   MM   MM   1.8     9   5.7 110     MM    MM   6.9    MM   MM   MM    MM\n",
      "2024 02 21 20 56  MM   MM   MM   1.9     8   5.7 104     MM    MM   6.9    MM   MM   MM    MM\n",
      "2024 02 21 20 26  MM   MM   MM\n"
     ]
    }
   ],
   "source": [
    "print(res.content.decode(\"utf-8\")[:500])"
   ]
  },
  {
   "cell_type": "markdown",
   "metadata": {},
   "source": [
    "Decode to utf-8 and replace missing with NaN"
   ]
  },
  {
   "cell_type": "code",
   "execution_count": 7,
   "metadata": {},
   "outputs": [],
   "source": [
    "data_io = StringIO(res.content.decode('utf-8').replace(\"MM\", \"NaN\"))"
   ]
  },
  {
   "cell_type": "markdown",
   "metadata": {},
   "source": [
    "Parse to dataframe, skipping initial comment lines"
   ]
  },
  {
   "cell_type": "code",
   "execution_count": 8,
   "metadata": {},
   "outputs": [],
   "source": [
    "df = pd.read_csv(data_io, sep=\"\\s+\", header=0, skiprows=[1])"
   ]
  },
  {
   "cell_type": "code",
   "execution_count": 9,
   "metadata": {},
   "outputs": [
    {
     "data": {
      "text/html": [
       "<div>\n",
       "<style scoped>\n",
       "    .dataframe tbody tr th:only-of-type {\n",
       "        vertical-align: middle;\n",
       "    }\n",
       "\n",
       "    .dataframe tbody tr th {\n",
       "        vertical-align: top;\n",
       "    }\n",
       "\n",
       "    .dataframe thead th {\n",
       "        text-align: right;\n",
       "    }\n",
       "</style>\n",
       "<table border=\"1\" class=\"dataframe\">\n",
       "  <thead>\n",
       "    <tr style=\"text-align: right;\">\n",
       "      <th></th>\n",
       "      <th>#YY</th>\n",
       "      <th>NaN</th>\n",
       "      <th>DD</th>\n",
       "      <th>hh</th>\n",
       "      <th>mm</th>\n",
       "      <th>WDIR</th>\n",
       "      <th>WSPD</th>\n",
       "      <th>GST</th>\n",
       "      <th>WVHT</th>\n",
       "      <th>DPD</th>\n",
       "      <th>APD</th>\n",
       "      <th>MWD</th>\n",
       "      <th>PRES</th>\n",
       "      <th>ATMP</th>\n",
       "      <th>WTMP</th>\n",
       "      <th>DEWP</th>\n",
       "      <th>VIS</th>\n",
       "      <th>PTDY</th>\n",
       "      <th>TIDE</th>\n",
       "    </tr>\n",
       "  </thead>\n",
       "  <tbody>\n",
       "    <tr>\n",
       "      <th>0</th>\n",
       "      <td>#yr</td>\n",
       "      <td>mo</td>\n",
       "      <td>dy</td>\n",
       "      <td>hr</td>\n",
       "      <td>mn</td>\n",
       "      <td>degT</td>\n",
       "      <td>m/s</td>\n",
       "      <td>m/s</td>\n",
       "      <td>m</td>\n",
       "      <td>sec</td>\n",
       "      <td>sec</td>\n",
       "      <td>degT</td>\n",
       "      <td>hPa</td>\n",
       "      <td>degC</td>\n",
       "      <td>degC</td>\n",
       "      <td>degC</td>\n",
       "      <td>nmi</td>\n",
       "      <td>hPa</td>\n",
       "      <td>ft</td>\n",
       "    </tr>\n",
       "    <tr>\n",
       "      <th>1</th>\n",
       "      <td>2024</td>\n",
       "      <td>02</td>\n",
       "      <td>21</td>\n",
       "      <td>21</td>\n",
       "      <td>56</td>\n",
       "      <td>NaN</td>\n",
       "      <td>NaN</td>\n",
       "      <td>NaN</td>\n",
       "      <td>2.0</td>\n",
       "      <td>9</td>\n",
       "      <td>5.9</td>\n",
       "      <td>110</td>\n",
       "      <td>NaN</td>\n",
       "      <td>NaN</td>\n",
       "      <td>6.9</td>\n",
       "      <td>NaN</td>\n",
       "      <td>NaN</td>\n",
       "      <td>NaN</td>\n",
       "      <td>NaN</td>\n",
       "    </tr>\n",
       "    <tr>\n",
       "      <th>2</th>\n",
       "      <td>2024</td>\n",
       "      <td>02</td>\n",
       "      <td>21</td>\n",
       "      <td>21</td>\n",
       "      <td>26</td>\n",
       "      <td>NaN</td>\n",
       "      <td>NaN</td>\n",
       "      <td>NaN</td>\n",
       "      <td>1.8</td>\n",
       "      <td>9</td>\n",
       "      <td>5.7</td>\n",
       "      <td>110</td>\n",
       "      <td>NaN</td>\n",
       "      <td>NaN</td>\n",
       "      <td>6.9</td>\n",
       "      <td>NaN</td>\n",
       "      <td>NaN</td>\n",
       "      <td>NaN</td>\n",
       "      <td>NaN</td>\n",
       "    </tr>\n",
       "    <tr>\n",
       "      <th>3</th>\n",
       "      <td>2024</td>\n",
       "      <td>02</td>\n",
       "      <td>21</td>\n",
       "      <td>20</td>\n",
       "      <td>56</td>\n",
       "      <td>NaN</td>\n",
       "      <td>NaN</td>\n",
       "      <td>NaN</td>\n",
       "      <td>1.9</td>\n",
       "      <td>8</td>\n",
       "      <td>5.7</td>\n",
       "      <td>104</td>\n",
       "      <td>NaN</td>\n",
       "      <td>NaN</td>\n",
       "      <td>6.9</td>\n",
       "      <td>NaN</td>\n",
       "      <td>NaN</td>\n",
       "      <td>NaN</td>\n",
       "      <td>NaN</td>\n",
       "    </tr>\n",
       "    <tr>\n",
       "      <th>4</th>\n",
       "      <td>2024</td>\n",
       "      <td>02</td>\n",
       "      <td>21</td>\n",
       "      <td>20</td>\n",
       "      <td>26</td>\n",
       "      <td>NaN</td>\n",
       "      <td>NaN</td>\n",
       "      <td>NaN</td>\n",
       "      <td>1.8</td>\n",
       "      <td>7</td>\n",
       "      <td>5.5</td>\n",
       "      <td>87</td>\n",
       "      <td>NaN</td>\n",
       "      <td>NaN</td>\n",
       "      <td>6.9</td>\n",
       "      <td>NaN</td>\n",
       "      <td>NaN</td>\n",
       "      <td>NaN</td>\n",
       "      <td>NaN</td>\n",
       "    </tr>\n",
       "  </tbody>\n",
       "</table>\n",
       "</div>"
      ],
      "text/plain": [
       "    #YY NaN  DD  hh  mm  WDIR WSPD  GST WVHT  DPD  APD   MWD PRES  ATMP  WTMP  \\\n",
       "0   #yr  mo  dy  hr  mn  degT  m/s  m/s    m  sec  sec  degT  hPa  degC  degC   \n",
       "1  2024  02  21  21  56   NaN  NaN  NaN  2.0    9  5.9   110  NaN   NaN   6.9   \n",
       "2  2024  02  21  21  26   NaN  NaN  NaN  1.8    9  5.7   110  NaN   NaN   6.9   \n",
       "3  2024  02  21  20  56   NaN  NaN  NaN  1.9    8  5.7   104  NaN   NaN   6.9   \n",
       "4  2024  02  21  20  26   NaN  NaN  NaN  1.8    7  5.5    87  NaN   NaN   6.9   \n",
       "\n",
       "   DEWP  VIS PTDY TIDE  \n",
       "0  degC  nmi  hPa   ft  \n",
       "1   NaN  NaN  NaN  NaN  \n",
       "2   NaN  NaN  NaN  NaN  \n",
       "3   NaN  NaN  NaN  NaN  \n",
       "4   NaN  NaN  NaN  NaN  "
      ]
     },
     "execution_count": 9,
     "metadata": {},
     "output_type": "execute_result"
    }
   ],
   "source": [
    "df.head()"
   ]
  },
  {
   "cell_type": "code",
   "execution_count": null,
   "metadata": {},
   "outputs": [],
   "source": []
  }
 ],
 "metadata": {
  "kernelspec": {
   "display_name": ".venv",
   "language": "python",
   "name": "python3"
  },
  "language_info": {
   "codemirror_mode": {
    "name": "ipython",
    "version": 3
   },
   "file_extension": ".py",
   "mimetype": "text/x-python",
   "name": "python",
   "nbconvert_exporter": "python",
   "pygments_lexer": "ipython3",
   "version": "3.10.12"
  }
 },
 "nbformat": 4,
 "nbformat_minor": 2
}
