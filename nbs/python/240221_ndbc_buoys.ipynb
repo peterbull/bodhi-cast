{
 "cells": [
  {
   "cell_type": "code",
   "execution_count": 2,
   "metadata": {},
   "outputs": [],
   "source": [
    "import requests\n",
    "import pandas as pd\n",
    "from io import StringIO"
   ]
  },
  {
   "cell_type": "markdown",
   "metadata": {},
   "source": [
    "## Buoy Data"
   ]
  },
  {
   "cell_type": "markdown",
   "metadata": {},
   "source": [
    "Links to \n",
    "- [Buoy Map](https://www.ndbc.noaa.gov/)\n",
    "- [NDBC Station List](https://www.ndbc.noaa.gov/to_station.shtml)\n",
    "- [Request protocols](https://www.ndbc.noaa.gov/faq/rt_data_access.shtml)"
   ]
  },
  {
   "cell_type": "markdown",
   "metadata": {},
   "source": [
    "The available data types are:\n",
    "\n",
    "- txt for standard meteorological data\n",
    "- drift for meteorological data from drifting buoys\n",
    "- cwind for continuous winds data\n",
    "- spec for spectral wave summaries\n",
    "- data_spec for raw spectral wave data\n",
    "- swdir for spectral wave data (alpha1)\n",
    "- swdir2 spectral wave data (alpha2)\n",
    "- swr1 for spectral wave data (r1)\n",
    "- swr2 for spectral wave data (r2)\n",
    "- adcp for Acoustic Doppler Current Profiler\n",
    "- ocean for oceanographic data\n",
    "- tide for tide data"
   ]
  },
  {
   "cell_type": "code",
   "execution_count": 3,
   "metadata": {},
   "outputs": [],
   "source": [
    "data_types = [\"txt\", \"drift\", \"cwind\", \"spec\", \"dataspec\", \"swdir\", \"swdir\", \"swdir2\", \"swr1\", \"swr2\", \"adcp\", \"ocean\", \"tide\"]"
   ]
  },
  {
   "cell_type": "code",
   "execution_count": 4,
   "metadata": {},
   "outputs": [],
   "source": [
    "buoy_num = 44099 # Cape Henry Va active SCRIPPS buoy"
   ]
  },
  {
   "cell_type": "code",
   "execution_count": 35,
   "metadata": {},
   "outputs": [],
   "source": [
    "res = requests.get(f\"https://www.ndbc.noaa.gov/data/realtime2/{buoy_num}.spec\")"
   ]
  },
  {
   "cell_type": "code",
   "execution_count": 36,
   "metadata": {},
   "outputs": [
    {
     "name": "stdout",
     "output_type": "stream",
     "text": [
      "#YY  MM DD hh mm WVHT  SwH  SwP  WWH  WWP SwD WWD  STEEPNESS  APD MWD\n",
      "#yr  mo dy hr mn    m    m  sec    m  sec  -  degT     -      sec degT\n",
      "2024 02 21 22 26  1.9  0.3 10.5  1.9  9.1 ESE ESE    AVERAGE  5.8 109\n",
      "2024 02 21 21 56  2.0  0.3 10.5  1.9  9.1 ESE ESE    AVERAGE  5.9 110\n",
      "2024 02 21 21 26  1.8  0.3 10.5  1.8  9.1 ESE ESE    AVERAGE  5.7 110\n",
      "2024 02 21 20 56  1.9  0.3 10.5  1.8  8.3 ESE ESE    AVERAGE  5.7 104\n",
      "2024 02 21 20 26  1.8  0.3 10.5  1.8  7.1 ESE   E      STEEP  5.5  87\n",
      "2024 02 21 19 56  1.8  0.2 10.5  1.8  9.1 ESE ESE    AVERAGE  5.6 109\n",
      "2024 02 21 19 26  1.7  0.3 10.5  1.7  8.3 ESE ESE    AVERAGE  5.4 114\n",
      "2024 02 21 18 56  1.7  0.2 10.5  1.7  7.7 ESE   E      STEEP  5.4 100\n",
      "2024 02 21 18 26  1.6  0.2 10.5  1.6  7.7 ESE   E    AVERAGE  5.2  97\n",
      "2024 02 21 17 56  1.6  0.2 10.5  1.6  7.7 ESE   E    AVERAGE  5.3  93\n",
      "2024 02 21 17 26  1.6  0.2 10.5  1.5  6.7 ESE ENE      STEEP  5.0  76\n",
      "2024 02 21 16 56  1.6  0.2 10.5  1.6  7.1 ESE   E      STEEP  5.1  86\n",
      "2024 02 21 16 26  1.6  0.2 10.5  1.6  7.7 ESE   E    AVERAGE  5.0  93\n",
      "2024 02 21 15 56  1.5  0.2 10.5  1.5  6.2 ESE ENE      STEEP  5.0  64\n",
      "2024 02 21 15 26  1.5  0.1 10.5  1.5  6.2 ESE ENE      STEEP  5.0  59\n",
      "2024 02 21 14 56  1.4  0.1 10.5  1.4  5.9   E ENE VERY_STEEP  4.8  64\n",
      "2024 02 21 14 26  1.5  0.1 10.5  1.5  6.2   E ENE      STEEP  4.9  64\n",
      "2024 02 21 13 56  1.5  0.1 11.1  1.5  6.7   E ENE      STEEP  4.8  66\n",
      "2024 02 21 13 26  1.4  0.1 10.5  1.4  6.7   E ENE      STEEP  4.8  68\n",
      "2024 02 21 12 56  1.5  0.1 10.5  1.5  7.7 ESE   E    AVERAGE  4.8  93\n",
      "2024 02 21 12 26  1.5  0.1 10.5  1.5  6.2 ESE ENE      STEEP  4.9  65\n",
      "2024 02 21 11 56  1.5  0.1 10.5  1.5  7.7   E   E    AVERAGE  4.9  90\n",
      "2024 02 21 11 26  1.5  0.1 10.5  1.5  6.2 ESE ENE      STEEP  4.8  68\n",
      "2024 02 21 10 56  1.6  0.1 10.5  1.6  6.7   E ENE      STEEP  4.8  73\n",
      "2024 02 21 10 26  1.6  0.1 11.1  1.5  6.2   E ENE      STEEP  4.8  66\n",
      "2024 02 21 09 56  1.6  0.1 10.5  1.6  5.9 ENE ENE VERY_STEEP  4.8  65\n",
      "2024 02 21 09 26  1.6  0.1 10.5  1.6  7.1   E   E      STEEP  4.8  89\n",
      "2024 02 21 08 56  1.7  0.1 10.5  1.7  7.1   E   E      STEEP  4.9  85\n",
      "2024 02 21 08 26  1.8  0.1 10.5  1.8  7.1 ESE   E      STEEP  5.0  89\n",
      "2024 02 21 07 56  1.6  0.1 10.5  1.6  7.1   E   E      STEEP  4.8  87\n",
      "2024 02 21 07 26  1.6  0.1 10.5  1.6  6.7 ENE ENE      STEEP  4.8  76\n",
      "2024 02 21 06 56  1.7  0.1 11.1  1.7  6.7   E ENE      STEEP  5.0  76\n",
      "2024 02 21 06 26  1.7  0.1 11.1  1.7  6.7   E ENE      STEEP  4.9  76\n",
      "2024 02 21 05 56  1.8  0.1 10.5  1.8  7.1 ESE   E      STEEP  5.0  86\n",
      "2024 02 21 05 26  1.8  0.1 11.1  1.8  6.2 ESE ENE VERY_STEEP  5.0  69\n",
      "2024 02 21 04 56  1.7  0.1 11.8  1.7  6.7   E ENE      STEEP  4.8  78\n",
      "2024 02 21 04 26  1.8  0.1 10.5  1.8  6.7 ESE ENE      STEEP  5.1  69\n",
      "2024 02 21 03 56  1.8  0.1 10.5  1.8  7.1 ENE ENE      STEEP  4.9  78\n",
      "2024 02 21 03 26  1.9  0.1 11.1  1.9  7.1   E   E      STEEP  5.0  79\n",
      "2024 02 21 02 56  1.8  0.1 10.5  1.8  6.7 ESE ENE      STEEP  4.9  68\n",
      "2024 02 21 02 26  1.7  0.1 10.5  1.7  7.1 ENE ENE      STEE\n"
     ]
    }
   ],
   "source": [
    "print(res.content.decode(\"utf-8\")[:3000])"
   ]
  },
  {
   "cell_type": "markdown",
   "metadata": {},
   "source": [
    "Decode to utf-8 and replace missing with NaN"
   ]
  },
  {
   "cell_type": "code",
   "execution_count": 37,
   "metadata": {},
   "outputs": [],
   "source": [
    "data_io = StringIO(res.content.decode('utf-8'))"
   ]
  },
  {
   "cell_type": "markdown",
   "metadata": {},
   "source": [
    "Parse to dataframe, skipping initial comment lines"
   ]
  },
  {
   "cell_type": "code",
   "execution_count": 38,
   "metadata": {},
   "outputs": [],
   "source": [
    "df = pd.read_csv(data_io, sep=\"\\s+\", header=0, skiprows=[1])\n"
   ]
  },
  {
   "cell_type": "code",
   "execution_count": 39,
   "metadata": {},
   "outputs": [
    {
     "data": {
      "text/html": [
       "<div>\n",
       "<style scoped>\n",
       "    .dataframe tbody tr th:only-of-type {\n",
       "        vertical-align: middle;\n",
       "    }\n",
       "\n",
       "    .dataframe tbody tr th {\n",
       "        vertical-align: top;\n",
       "    }\n",
       "\n",
       "    .dataframe thead th {\n",
       "        text-align: right;\n",
       "    }\n",
       "</style>\n",
       "<table border=\"1\" class=\"dataframe\">\n",
       "  <thead>\n",
       "    <tr style=\"text-align: right;\">\n",
       "      <th></th>\n",
       "      <th>#YY</th>\n",
       "      <th>MM</th>\n",
       "      <th>DD</th>\n",
       "      <th>hh</th>\n",
       "      <th>mm</th>\n",
       "      <th>WVHT</th>\n",
       "      <th>SwH</th>\n",
       "      <th>SwP</th>\n",
       "      <th>WWH</th>\n",
       "      <th>WWP</th>\n",
       "      <th>SwD</th>\n",
       "      <th>WWD</th>\n",
       "      <th>STEEPNESS</th>\n",
       "      <th>APD</th>\n",
       "      <th>MWD</th>\n",
       "    </tr>\n",
       "  </thead>\n",
       "  <tbody>\n",
       "    <tr>\n",
       "      <th>0</th>\n",
       "      <td>2024</td>\n",
       "      <td>2</td>\n",
       "      <td>21</td>\n",
       "      <td>22</td>\n",
       "      <td>26</td>\n",
       "      <td>1.9</td>\n",
       "      <td>0.3</td>\n",
       "      <td>10.5</td>\n",
       "      <td>1.9</td>\n",
       "      <td>9.1</td>\n",
       "      <td>ESE</td>\n",
       "      <td>ESE</td>\n",
       "      <td>AVERAGE</td>\n",
       "      <td>5.8</td>\n",
       "      <td>109</td>\n",
       "    </tr>\n",
       "    <tr>\n",
       "      <th>1</th>\n",
       "      <td>2024</td>\n",
       "      <td>2</td>\n",
       "      <td>21</td>\n",
       "      <td>21</td>\n",
       "      <td>56</td>\n",
       "      <td>2.0</td>\n",
       "      <td>0.3</td>\n",
       "      <td>10.5</td>\n",
       "      <td>1.9</td>\n",
       "      <td>9.1</td>\n",
       "      <td>ESE</td>\n",
       "      <td>ESE</td>\n",
       "      <td>AVERAGE</td>\n",
       "      <td>5.9</td>\n",
       "      <td>110</td>\n",
       "    </tr>\n",
       "    <tr>\n",
       "      <th>2</th>\n",
       "      <td>2024</td>\n",
       "      <td>2</td>\n",
       "      <td>21</td>\n",
       "      <td>21</td>\n",
       "      <td>26</td>\n",
       "      <td>1.8</td>\n",
       "      <td>0.3</td>\n",
       "      <td>10.5</td>\n",
       "      <td>1.8</td>\n",
       "      <td>9.1</td>\n",
       "      <td>ESE</td>\n",
       "      <td>ESE</td>\n",
       "      <td>AVERAGE</td>\n",
       "      <td>5.7</td>\n",
       "      <td>110</td>\n",
       "    </tr>\n",
       "    <tr>\n",
       "      <th>3</th>\n",
       "      <td>2024</td>\n",
       "      <td>2</td>\n",
       "      <td>21</td>\n",
       "      <td>20</td>\n",
       "      <td>56</td>\n",
       "      <td>1.9</td>\n",
       "      <td>0.3</td>\n",
       "      <td>10.5</td>\n",
       "      <td>1.8</td>\n",
       "      <td>8.3</td>\n",
       "      <td>ESE</td>\n",
       "      <td>ESE</td>\n",
       "      <td>AVERAGE</td>\n",
       "      <td>5.7</td>\n",
       "      <td>104</td>\n",
       "    </tr>\n",
       "    <tr>\n",
       "      <th>4</th>\n",
       "      <td>2024</td>\n",
       "      <td>2</td>\n",
       "      <td>21</td>\n",
       "      <td>20</td>\n",
       "      <td>26</td>\n",
       "      <td>1.8</td>\n",
       "      <td>0.3</td>\n",
       "      <td>10.5</td>\n",
       "      <td>1.8</td>\n",
       "      <td>7.1</td>\n",
       "      <td>ESE</td>\n",
       "      <td>E</td>\n",
       "      <td>STEEP</td>\n",
       "      <td>5.5</td>\n",
       "      <td>87</td>\n",
       "    </tr>\n",
       "  </tbody>\n",
       "</table>\n",
       "</div>"
      ],
      "text/plain": [
       "    #YY  MM  DD  hh  mm  WVHT  SwH   SwP  WWH  WWP  SwD  WWD STEEPNESS  APD  \\\n",
       "0  2024   2  21  22  26   1.9  0.3  10.5  1.9  9.1  ESE  ESE   AVERAGE  5.8   \n",
       "1  2024   2  21  21  56   2.0  0.3  10.5  1.9  9.1  ESE  ESE   AVERAGE  5.9   \n",
       "2  2024   2  21  21  26   1.8  0.3  10.5  1.8  9.1  ESE  ESE   AVERAGE  5.7   \n",
       "3  2024   2  21  20  56   1.9  0.3  10.5  1.8  8.3  ESE  ESE   AVERAGE  5.7   \n",
       "4  2024   2  21  20  26   1.8  0.3  10.5  1.8  7.1  ESE    E     STEEP  5.5   \n",
       "\n",
       "   MWD  \n",
       "0  109  \n",
       "1  110  \n",
       "2  110  \n",
       "3  104  \n",
       "4   87  "
      ]
     },
     "execution_count": 39,
     "metadata": {},
     "output_type": "execute_result"
    }
   ],
   "source": [
    "df.head()"
   ]
  },
  {
   "cell_type": "code",
   "execution_count": 26,
   "metadata": {},
   "outputs": [
    {
     "data": {
      "text/plain": [
       "(1018, 13)"
      ]
     },
     "execution_count": 26,
     "metadata": {},
     "output_type": "execute_result"
    }
   ],
   "source": [
    "df.shape"
   ]
  },
  {
   "cell_type": "code",
   "execution_count": null,
   "metadata": {},
   "outputs": [],
   "source": []
  }
 ],
 "metadata": {
  "kernelspec": {
   "display_name": ".venv",
   "language": "python",
   "name": "python3"
  },
  "language_info": {
   "codemirror_mode": {
    "name": "ipython",
    "version": 3
   },
   "file_extension": ".py",
   "mimetype": "text/x-python",
   "name": "python",
   "nbconvert_exporter": "python",
   "pygments_lexer": "ipython3",
   "version": "3.10.12"
  }
 },
 "nbformat": 4,
 "nbformat_minor": 2
}
