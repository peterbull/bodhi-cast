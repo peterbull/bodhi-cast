{
 "cells": [
  {
   "cell_type": "code",
   "execution_count": 3,
   "metadata": {},
   "outputs": [],
   "source": [
    "import pandas as pd\n",
    "import json\n",
    "import requests\n",
    "import aiohttp\n",
    "import asyncio\n",
    "import numpy as np"
   ]
  },
  {
   "cell_type": "code",
   "execution_count": null,
   "metadata": {},
   "outputs": [],
   "source": [
    "response = requests.get(\"https://services.surfline.com/taxonomy?type=taxonomy&id=58f7ed51dadb30820bb3879c&maxDepth=0\")"
   ]
  },
  {
   "cell_type": "markdown",
   "metadata": {},
   "source": [
    "* You will not get Surfline forecast data without a valid Surfline premium login. Add your credentials to `.env.development`:\n",
    "  ```\n",
    "  SURFLINE_EMAIL=xxx\n",
    "  SURFLINE_PASSWORD=yyy\n",
    "  ```"
   ]
  },
  {
   "cell_type": "markdown",
   "metadata": {},
   "source": [
    "##### Requests\n",
    "\n",
    "`https://services.surfline.com/kbyg/spots/forecasts/{type}?{params}`\n",
    "\n",
    "\n",
    "Type|Data\n",
    "----|----\n",
    "rating|array of human-readable and numeric (0-6) ratings\n",
    "wave|array of min/max sizes & optimal scores\n",
    "wind|array of wind directions/speeds & optimal scores\n",
    "tides|array of types & heights\n",
    "weather|array of sunrise/set times, array of temperatures/weather conditions\n",
    "\n",
    "Param|Values|Effect\n",
    "-----|------|------\n",
    "spotId|string|Surfline spot id that you want data for. A typical Surfline URL is `https://www.surfline.com/surf-report/venice-breakwater/590927576a2e4300134fbed8` where `590927576a2e4300134fbed8` is the `spotId`\n",
    "days|integer|Number of forecast days to get (Max 6 w/o access token, Max 17 w/ premium token)\n",
    "intervalHours|integer|Minimum of 1 (hour)\n",
    "maxHeights|boolean|`true` seems to remove min & optimal values from the wave data output\n",
    "sds|boolean|If true, use the new LOTUS forecast engine\n",
    "accesstoken|string|Auth token to get premium data access (optional)\n",
    "\n",
    "Anywhere there is an `optimalScore` the value can be interpreted as follows:\n",
    "\n",
    "Value|Meaning\n",
    "-----|-------\n",
    "0|Suboptimal\n",
    "1|Good\n",
    "2|Optimal\n"
   ]
  }
 ],
 "metadata": {
  "kernelspec": {
   "display_name": ".venv",
   "language": "python",
   "name": "python3"
  },
  "language_info": {
   "codemirror_mode": {
    "name": "ipython",
    "version": 3
   },
   "file_extension": ".py",
   "mimetype": "text/x-python",
   "name": "python",
   "nbconvert_exporter": "python",
   "pygments_lexer": "ipython3",
   "version": "3.10.12"
  }
 },
 "nbformat": 4,
 "nbformat_minor": 2
}
