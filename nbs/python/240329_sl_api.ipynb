{
 "cells": [
  {
   "cell_type": "code",
   "execution_count": 1,
   "metadata": {},
   "outputs": [],
   "source": [
    "import asyncio\n",
    "import json\n",
    "import time\n",
    "from pathlib import Path\n",
    "\n",
    "import aiohttp\n",
    "import numpy as np\n",
    "import pandas as pd\n",
    "import pendulum\n",
    "import requests\n",
    "from dataclasses import dataclass\n",
    "from enum import Enum\n",
    "\n",
    "from sqlalchemy import create_engine, select, text, and_\n",
    "\n",
    "from sqlalchemy.orm import sessionmaker, declarative_base\n",
    "from utils.utils import LOCAL_AIRFLOW_PG_URI, LOCAL_PG_URI"
   ]
  },
  {
   "cell_type": "code",
   "execution_count": 2,
   "metadata": {},
   "outputs": [],
   "source": [
    "Base = declarative_base()"
   ]
  },
  {
   "cell_type": "code",
   "execution_count": 3,
   "metadata": {},
   "outputs": [],
   "source": [
    "engine = create_engine(LOCAL_AIRFLOW_PG_URI)\n",
    "SessionLocal = sessionmaker(bind=engine)"
   ]
  },
  {
   "cell_type": "markdown",
   "metadata": {},
   "source": [
    "## Note:\n",
    "See `240220_sl_surf_spots.ipynb` for spot getter"
   ]
  },
  {
   "cell_type": "code",
   "execution_count": 4,
   "metadata": {},
   "outputs": [],
   "source": [
    "response = requests.get(\"https://services.surfline.com/taxonomy?type=taxonomy&id=58f7ed51dadb30820bb3879c&maxDepth=0\")"
   ]
  },
  {
   "cell_type": "markdown",
   "metadata": {},
   "source": [
    "* You will not get Surfline forecast data without a valid Surfline premium login. Add your credentials to `.env.development`:\n",
    "  ```\n",
    "  SURFLINE_EMAIL=xxx\n",
    "  SURFLINE_PASSWORD=yyy\n",
    "  ```"
   ]
  },
  {
   "cell_type": "markdown",
   "metadata": {},
   "source": [
    "##### Requests\n",
    "\n",
    "`https://services.surfline.com/kbyg/spots/forecasts/{type}?{params}`\n",
    "\n",
    "\n",
    "Type|Data\n",
    "----|----\n",
    "rating|array of human-readable and numeric (0-6) ratings\n",
    "wave|array of min/max sizes & optimal scores\n",
    "wind|array of wind directions/speeds & optimal scores\n",
    "tides|array of types & heights\n",
    "weather|array of sunrise/set times, array of temperatures/weather conditions\n",
    "\n",
    "Param|Values|Effect\n",
    "-----|------|------\n",
    "spotId|string|Surfline spot id that you want data for. A typical Surfline URL is `https://www.surfline.com/surf-report/venice-breakwater/590927576a2e4300134fbed8` where `590927576a2e4300134fbed8` is the `spotId`\n",
    "days|integer|Number of forecast days to get (Max 6 w/o access token, Max 17 w/ premium token)\n",
    "intervalHours|integer|Minimum of 1 (hour)\n",
    "maxHeights|boolean|`true` seems to remove min & optimal values from the wave data output\n",
    "sds|boolean|If true, use the new LOTUS forecast engine\n",
    "accesstoken|string|Auth token to get premium data access (optional)\n",
    "\n",
    "Anywhere there is an `optimalScore` the value can be interpreted as follows:\n",
    "\n",
    "Value|Meaning\n",
    "-----|-------\n",
    "0|Suboptimal\n",
    "1|Good\n",
    "2|Optimal\n"
   ]
  },
  {
   "cell_type": "code",
   "execution_count": 5,
   "metadata": {},
   "outputs": [],
   "source": [
    "types = [\"rating\", \"wave\", \"wind\", \"tides\", \"weather\"]\n",
    "params = [\"spotId\", \"days\", \"intervalHours\", \"maxHeights\", \"sds\", \"accesstoken\"]\n",
    "base = \"https://services.surfline.com/kbyg/spots/forecasts\""
   ]
  },
  {
   "cell_type": "code",
   "execution_count": 6,
   "metadata": {},
   "outputs": [],
   "source": [
    "datapath = Path('./data')\n"
   ]
  },
  {
   "cell_type": "code",
   "execution_count": 7,
   "metadata": {},
   "outputs": [],
   "source": [
    "df = pd.read_csv(datapath/'spot_list.csv')"
   ]
  },
  {
   "cell_type": "code",
   "execution_count": 8,
   "metadata": {},
   "outputs": [
    {
     "data": {
      "text/html": [
       "<div>\n",
       "<style scoped>\n",
       "    .dataframe tbody tr th:only-of-type {\n",
       "        vertical-align: middle;\n",
       "    }\n",
       "\n",
       "    .dataframe tbody tr th {\n",
       "        vertical-align: top;\n",
       "    }\n",
       "\n",
       "    .dataframe thead th {\n",
       "        text-align: right;\n",
       "    }\n",
       "</style>\n",
       "<table border=\"1\" class=\"dataframe\">\n",
       "  <thead>\n",
       "    <tr style=\"text-align: right;\">\n",
       "      <th></th>\n",
       "      <th>Unnamed: 0</th>\n",
       "      <th>ids</th>\n",
       "      <th>names</th>\n",
       "      <th>lon</th>\n",
       "      <th>lat</th>\n",
       "      <th>urls</th>\n",
       "    </tr>\n",
       "  </thead>\n",
       "  <tbody>\n",
       "    <tr>\n",
       "      <th>0</th>\n",
       "      <td>0</td>\n",
       "      <td>584204204e65fad6a7709b5d</td>\n",
       "      <td>Dauphin Island</td>\n",
       "      <td>-88.11700</td>\n",
       "      <td>30.229000</td>\n",
       "      <td>https://www.surfline.com/surf-report/dauphin-i...</td>\n",
       "    </tr>\n",
       "    <tr>\n",
       "      <th>1</th>\n",
       "      <td>1</td>\n",
       "      <td>584204204e65fad6a7709b61</td>\n",
       "      <td>Spuds</td>\n",
       "      <td>-87.54900</td>\n",
       "      <td>30.273000</td>\n",
       "      <td>https://www.surfline.com/surf-report/spuds/584...</td>\n",
       "    </tr>\n",
       "    <tr>\n",
       "      <th>2</th>\n",
       "      <td>2</td>\n",
       "      <td>584204204e65fad6a7709b62</td>\n",
       "      <td>Alabama Point</td>\n",
       "      <td>-87.56200</td>\n",
       "      <td>30.270000</td>\n",
       "      <td>https://www.surfline.com/surf-report/alabama-p...</td>\n",
       "    </tr>\n",
       "    <tr>\n",
       "      <th>3</th>\n",
       "      <td>3</td>\n",
       "      <td>584204204e65fad6a7709b60</td>\n",
       "      <td>West Pass</td>\n",
       "      <td>-87.73700</td>\n",
       "      <td>30.239000</td>\n",
       "      <td>https://www.surfline.com/surf-report/west-pass...</td>\n",
       "    </tr>\n",
       "    <tr>\n",
       "      <th>4</th>\n",
       "      <td>4</td>\n",
       "      <td>65948156c329a78a0914a15e</td>\n",
       "      <td>Morgantown Beach</td>\n",
       "      <td>-87.91913</td>\n",
       "      <td>30.230299</td>\n",
       "      <td>https://www.surfline.com/surf-report/morgantow...</td>\n",
       "    </tr>\n",
       "  </tbody>\n",
       "</table>\n",
       "</div>"
      ],
      "text/plain": [
       "   Unnamed: 0                       ids             names       lon  \\\n",
       "0           0  584204204e65fad6a7709b5d    Dauphin Island -88.11700   \n",
       "1           1  584204204e65fad6a7709b61             Spuds -87.54900   \n",
       "2           2  584204204e65fad6a7709b62     Alabama Point -87.56200   \n",
       "3           3  584204204e65fad6a7709b60         West Pass -87.73700   \n",
       "4           4  65948156c329a78a0914a15e  Morgantown Beach -87.91913   \n",
       "\n",
       "         lat                                               urls  \n",
       "0  30.229000  https://www.surfline.com/surf-report/dauphin-i...  \n",
       "1  30.273000  https://www.surfline.com/surf-report/spuds/584...  \n",
       "2  30.270000  https://www.surfline.com/surf-report/alabama-p...  \n",
       "3  30.239000  https://www.surfline.com/surf-report/west-pass...  \n",
       "4  30.230299  https://www.surfline.com/surf-report/morgantow...  "
      ]
     },
     "execution_count": 8,
     "metadata": {},
     "output_type": "execute_result"
    }
   ],
   "source": [
    "df.head()"
   ]
  },
  {
   "cell_type": "markdown",
   "metadata": {},
   "source": [
    "Get the spot `id` for 1st Street Jetty in Va Beach"
   ]
  },
  {
   "cell_type": "code",
   "execution_count": 9,
   "metadata": {},
   "outputs": [
    {
     "data": {
      "text/plain": [
       "'584204214e65fad6a7709ce7'"
      ]
     },
     "execution_count": 9,
     "metadata": {},
     "output_type": "execute_result"
    }
   ],
   "source": [
    "jetty_id = df[df['names'].str.contains('1st Street Jetty', case=False, na=False)]['ids'].values[0]\n",
    "jetty_id"
   ]
  },
  {
   "cell_type": "code",
   "execution_count": 10,
   "metadata": {},
   "outputs": [
    {
     "data": {
      "text/plain": [
       "{'spotId': '584204214e65fad6a7709ce7'}"
      ]
     },
     "execution_count": 10,
     "metadata": {},
     "output_type": "execute_result"
    }
   ],
   "source": [
    "ex_params = {params[0]: jetty_id}\n",
    "ex_params"
   ]
  },
  {
   "cell_type": "markdown",
   "metadata": {},
   "source": [
    "Surfline seems to change their spot IDs periodically. Check a spot on the website and pass the objectId from the url as a param to debug if this is the case. If they've changed you'll need to run the notebook `240220_sl_surf_spots.ipynb` as mentioned above to refresh the spots dataset"
   ]
  },
  {
   "cell_type": "code",
   "execution_count": 11,
   "metadata": {},
   "outputs": [],
   "source": [
    "debug_params = {params[0]: \"584204214e65fad6a7709ce7\"}"
   ]
  },
  {
   "cell_type": "code",
   "execution_count": 12,
   "metadata": {},
   "outputs": [
    {
     "data": {
      "text/plain": [
       "200"
      ]
     },
     "execution_count": 12,
     "metadata": {},
     "output_type": "execute_result"
    }
   ],
   "source": [
    "res = requests.get(f\"{base}/{types[0]}\", params=ex_params)\n",
    "res.status_code"
   ]
  },
  {
   "cell_type": "code",
   "execution_count": 13,
   "metadata": {},
   "outputs": [],
   "source": [
    "rating_json = res.json()"
   ]
  },
  {
   "cell_type": "code",
   "execution_count": 14,
   "metadata": {},
   "outputs": [],
   "source": [
    "four_day_json = res.json()\n",
    "if 'data' in four_day_json and 'rating' in four_day_json['data']:\n",
    "    four_day_json['data']['rating'] = four_day_json['data']['rating'][:24]"
   ]
  },
  {
   "cell_type": "code",
   "execution_count": 15,
   "metadata": {},
   "outputs": [],
   "source": [
    "def cull_extra_days(full_json):\n",
    "    if 'data' in full_json and 'rating' in full_json['data']:\n",
    "        full_json['data']['rating'] = full_json['data']['rating'][:24]"
   ]
  },
  {
   "cell_type": "markdown",
   "metadata": {},
   "source": [
    "Drop extra days of forecast"
   ]
  },
  {
   "cell_type": "code",
   "execution_count": 16,
   "metadata": {},
   "outputs": [],
   "source": [
    "cull_extra_days(four_day_json)"
   ]
  },
  {
   "cell_type": "code",
   "execution_count": 17,
   "metadata": {},
   "outputs": [
    {
     "data": {
      "text/plain": [
       "24"
      ]
     },
     "execution_count": 17,
     "metadata": {},
     "output_type": "execute_result"
    }
   ],
   "source": [
    "len(four_day_json['data']['rating'])"
   ]
  },
  {
   "cell_type": "markdown",
   "metadata": {},
   "source": [
    "Convert a unix timestamp -> utc"
   ]
  },
  {
   "cell_type": "code",
   "execution_count": 18,
   "metadata": {},
   "outputs": [
    {
     "data": {
      "text/plain": [
       "DateTime(2024, 6, 9, 4, 0, 0, tzinfo=Timezone('UTC'))"
      ]
     },
     "execution_count": 18,
     "metadata": {},
     "output_type": "execute_result"
    }
   ],
   "source": [
    "pendulum.from_timestamp(rating_json['data']['rating'][0]['timestamp'], 'UTC')"
   ]
  },
  {
   "cell_type": "code",
   "execution_count": 19,
   "metadata": {},
   "outputs": [
    {
     "data": {
      "text/plain": [
       "DateTime(2024, 6, 10, 3, 0, 0, tzinfo=Timezone('UTC'))"
      ]
     },
     "execution_count": 19,
     "metadata": {},
     "output_type": "execute_result"
    }
   ],
   "source": [
    "pendulum.from_timestamp(rating_json['data']['rating'][int(72 / 3)-1]['timestamp'], 'UTC')"
   ]
  },
  {
   "cell_type": "markdown",
   "metadata": {},
   "source": [
    "The `utcOffset` field seems to be aware that I'm working in EST currently. Either that or it's the time coding for the spot itself.\n",
    "\n",
    "Let's check a west coast spot to confirm how this is handled"
   ]
  },
  {
   "cell_type": "code",
   "execution_count": 20,
   "metadata": {},
   "outputs": [
    {
     "data": {
      "text/html": [
       "<div>\n",
       "<style scoped>\n",
       "    .dataframe tbody tr th:only-of-type {\n",
       "        vertical-align: middle;\n",
       "    }\n",
       "\n",
       "    .dataframe tbody tr th {\n",
       "        vertical-align: top;\n",
       "    }\n",
       "\n",
       "    .dataframe thead th {\n",
       "        text-align: right;\n",
       "    }\n",
       "</style>\n",
       "<table border=\"1\" class=\"dataframe\">\n",
       "  <thead>\n",
       "    <tr style=\"text-align: right;\">\n",
       "      <th></th>\n",
       "      <th>Unnamed: 0</th>\n",
       "      <th>ids</th>\n",
       "      <th>names</th>\n",
       "      <th>lon</th>\n",
       "      <th>lat</th>\n",
       "      <th>urls</th>\n",
       "    </tr>\n",
       "  </thead>\n",
       "  <tbody>\n",
       "    <tr>\n",
       "      <th>0</th>\n",
       "      <td>0</td>\n",
       "      <td>584204204e65fad6a7709b5d</td>\n",
       "      <td>Dauphin Island</td>\n",
       "      <td>-88.117000</td>\n",
       "      <td>30.229000</td>\n",
       "      <td>https://www.surfline.com/surf-report/dauphin-i...</td>\n",
       "    </tr>\n",
       "    <tr>\n",
       "      <th>1</th>\n",
       "      <td>1</td>\n",
       "      <td>584204204e65fad6a7709b61</td>\n",
       "      <td>Spuds</td>\n",
       "      <td>-87.549000</td>\n",
       "      <td>30.273000</td>\n",
       "      <td>https://www.surfline.com/surf-report/spuds/584...</td>\n",
       "    </tr>\n",
       "    <tr>\n",
       "      <th>2</th>\n",
       "      <td>2</td>\n",
       "      <td>584204204e65fad6a7709b62</td>\n",
       "      <td>Alabama Point</td>\n",
       "      <td>-87.562000</td>\n",
       "      <td>30.270000</td>\n",
       "      <td>https://www.surfline.com/surf-report/alabama-p...</td>\n",
       "    </tr>\n",
       "    <tr>\n",
       "      <th>3</th>\n",
       "      <td>3</td>\n",
       "      <td>584204204e65fad6a7709b60</td>\n",
       "      <td>West Pass</td>\n",
       "      <td>-87.737000</td>\n",
       "      <td>30.239000</td>\n",
       "      <td>https://www.surfline.com/surf-report/west-pass...</td>\n",
       "    </tr>\n",
       "    <tr>\n",
       "      <th>4</th>\n",
       "      <td>4</td>\n",
       "      <td>65948156c329a78a0914a15e</td>\n",
       "      <td>Morgantown Beach</td>\n",
       "      <td>-87.919130</td>\n",
       "      <td>30.230299</td>\n",
       "      <td>https://www.surfline.com/surf-report/morgantow...</td>\n",
       "    </tr>\n",
       "    <tr>\n",
       "      <th>...</th>\n",
       "      <td>...</td>\n",
       "      <td>...</td>\n",
       "      <td>...</td>\n",
       "      <td>...</td>\n",
       "      <td>...</td>\n",
       "      <td>...</td>\n",
       "    </tr>\n",
       "    <tr>\n",
       "      <th>1298</th>\n",
       "      <td>1298</td>\n",
       "      <td>640a2d14451905376297f483</td>\n",
       "      <td>Rutherford Beach</td>\n",
       "      <td>-93.124300</td>\n",
       "      <td>29.758500</td>\n",
       "      <td>https://www.surfline.com/surf-report/rutherfor...</td>\n",
       "    </tr>\n",
       "    <tr>\n",
       "      <th>1299</th>\n",
       "      <td>1299</td>\n",
       "      <td>5842041f4e65fad6a7708a1a</td>\n",
       "      <td>Assateague</td>\n",
       "      <td>-75.177040</td>\n",
       "      <td>38.148058</td>\n",
       "      <td>https://www.surfline.com/surf-report/assateagu...</td>\n",
       "    </tr>\n",
       "    <tr>\n",
       "      <th>1300</th>\n",
       "      <td>1300</td>\n",
       "      <td>5842041f4e65fad6a770886d</td>\n",
       "      <td>Ocean City Boardwalk</td>\n",
       "      <td>-75.081170</td>\n",
       "      <td>38.338461</td>\n",
       "      <td>https://www.surfline.com/surf-report/ocean-cit...</td>\n",
       "    </tr>\n",
       "    <tr>\n",
       "      <th>1301</th>\n",
       "      <td>1301</td>\n",
       "      <td>5842041f4e65fad6a7708a1b</td>\n",
       "      <td>North End to Ocean City Inlet</td>\n",
       "      <td>-75.080177</td>\n",
       "      <td>38.338890</td>\n",
       "      <td>https://www.surfline.com/surf-report/north-end...</td>\n",
       "    </tr>\n",
       "    <tr>\n",
       "      <th>1302</th>\n",
       "      <td>1302</td>\n",
       "      <td>6307df22782926254d3d5210</td>\n",
       "      <td>Midtown</td>\n",
       "      <td>-75.070130</td>\n",
       "      <td>38.365051</td>\n",
       "      <td>https://www.surfline.com/surf-report/midtown/6...</td>\n",
       "    </tr>\n",
       "  </tbody>\n",
       "</table>\n",
       "<p>1303 rows × 6 columns</p>\n",
       "</div>"
      ],
      "text/plain": [
       "      Unnamed: 0                       ids                          names  \\\n",
       "0              0  584204204e65fad6a7709b5d                 Dauphin Island   \n",
       "1              1  584204204e65fad6a7709b61                          Spuds   \n",
       "2              2  584204204e65fad6a7709b62                  Alabama Point   \n",
       "3              3  584204204e65fad6a7709b60                      West Pass   \n",
       "4              4  65948156c329a78a0914a15e               Morgantown Beach   \n",
       "...          ...                       ...                            ...   \n",
       "1298        1298  640a2d14451905376297f483               Rutherford Beach   \n",
       "1299        1299  5842041f4e65fad6a7708a1a                     Assateague   \n",
       "1300        1300  5842041f4e65fad6a770886d           Ocean City Boardwalk   \n",
       "1301        1301  5842041f4e65fad6a7708a1b  North End to Ocean City Inlet   \n",
       "1302        1302  6307df22782926254d3d5210                        Midtown   \n",
       "\n",
       "            lon        lat                                               urls  \n",
       "0    -88.117000  30.229000  https://www.surfline.com/surf-report/dauphin-i...  \n",
       "1    -87.549000  30.273000  https://www.surfline.com/surf-report/spuds/584...  \n",
       "2    -87.562000  30.270000  https://www.surfline.com/surf-report/alabama-p...  \n",
       "3    -87.737000  30.239000  https://www.surfline.com/surf-report/west-pass...  \n",
       "4    -87.919130  30.230299  https://www.surfline.com/surf-report/morgantow...  \n",
       "...         ...        ...                                                ...  \n",
       "1298 -93.124300  29.758500  https://www.surfline.com/surf-report/rutherfor...  \n",
       "1299 -75.177040  38.148058  https://www.surfline.com/surf-report/assateagu...  \n",
       "1300 -75.081170  38.338461  https://www.surfline.com/surf-report/ocean-cit...  \n",
       "1301 -75.080177  38.338890  https://www.surfline.com/surf-report/north-end...  \n",
       "1302 -75.070130  38.365051  https://www.surfline.com/surf-report/midtown/6...  \n",
       "\n",
       "[1303 rows x 6 columns]"
      ]
     },
     "execution_count": 20,
     "metadata": {},
     "output_type": "execute_result"
    }
   ],
   "source": [
    "df"
   ]
  },
  {
   "cell_type": "code",
   "execution_count": 21,
   "metadata": {},
   "outputs": [],
   "source": [
    "la_jolla_id = df[df['names'].str.contains(\"La Jolla\", case=False, na=False)]['ids'].values[0]\n",
    "la_jolla_dict = {params[0]: la_jolla_id}"
   ]
  },
  {
   "cell_type": "code",
   "execution_count": 22,
   "metadata": {},
   "outputs": [
    {
     "data": {
      "text/plain": [
       "{'spotId': '5842041f4e65fad6a77088cc'}"
      ]
     },
     "execution_count": 22,
     "metadata": {},
     "output_type": "execute_result"
    }
   ],
   "source": [
    "la_jolla_dict"
   ]
  },
  {
   "cell_type": "code",
   "execution_count": 23,
   "metadata": {},
   "outputs": [
    {
     "data": {
      "text/plain": [
       "DateTime(2024, 6, 9, 21, 56, 48, 656985, tzinfo=Timezone('UTC'))"
      ]
     },
     "execution_count": 23,
     "metadata": {},
     "output_type": "execute_result"
    }
   ],
   "source": [
    "pendulum.now(\"utc\")"
   ]
  },
  {
   "cell_type": "code",
   "execution_count": 24,
   "metadata": {},
   "outputs": [],
   "source": [
    "new_dict = {\"spot_id\": \"test\", \"spot_name\": \"test_2\", \"date\": pendulum.now(\"utc\"), \"forecast\": four_day_json}"
   ]
  },
  {
   "cell_type": "code",
   "execution_count": 25,
   "metadata": {},
   "outputs": [],
   "source": [
    "@dataclass\n",
    "class SlApiEndpoints(Enum):\n",
    "    RATING = 'rating'\n",
    "    WAVE = 'wave'\n",
    "    WIND = 'wind'\n",
    "    TIDES = 'tides'\n",
    "    WEATHER = 'weather'"
   ]
  },
  {
   "cell_type": "code",
   "execution_count": 26,
   "metadata": {},
   "outputs": [],
   "source": [
    "@dataclass\n",
    "class SlApiParams(Enum):\n",
    "    SPOT_ID = 'spotId'\n",
    "    DAYS = 'days'\n",
    "    INTERVAL_HOURS = 'intervalHours'\n",
    "    MAX_HEIGHTS = 'maxHeights'\n",
    "    SDS = 'sds'\n",
    "    ACCESSTOKEN = 'accesstoken'"
   ]
  },
  {
   "cell_type": "code",
   "execution_count": 27,
   "metadata": {},
   "outputs": [],
   "source": [
    "def fetch_from_sl_api(endpoint: SlApiEndpoints, param_type: SlApiParams, param: str):\n",
    "    base_url = \"https://services.surfline.com/kbyg/spots/forecasts\"\n",
    "    res = requests.get(f\"{base_url}/{endpoint}\", params={param_type: param})\n",
    "    data = res.json()\n",
    "    return data"
   ]
  },
  {
   "cell_type": "code",
   "execution_count": 28,
   "metadata": {},
   "outputs": [],
   "source": [
    "test_res = fetch_from_sl_api(SlApiEndpoints.RATING.value, SlApiParams.SPOT_ID.value, param=jetty_id)"
   ]
  },
  {
   "cell_type": "code",
   "execution_count": 29,
   "metadata": {},
   "outputs": [],
   "source": [
    "spot_ratings = []\n",
    "for spot_id, spot_name in df[['ids', 'names']][:3].values:\n",
    "    res = requests.get(f\"{base}/rating\", params={'spotId': spot_id})\n",
    "    data = res.json()\n",
    "    cull_extra_days(data)\n",
    "    current_date = pendulum.now(\"utc\")\n",
    "    utc_date = current_date.strftime(\"%Y-%m-%d\")\n",
    "    data['spot_id'] = spot_id\n",
    "    data['spot_name'] = spot_name\n",
    "    data['utc_fetch_date'] = utc_date\n",
    "    spot_ratings.append(data)\n",
    "    # time.sleep()"
   ]
  },
  {
   "cell_type": "markdown",
   "metadata": {},
   "source": []
  },
  {
   "cell_type": "code",
   "execution_count": 30,
   "metadata": {},
   "outputs": [
    {
     "data": {
      "text/plain": [
       "DateTime(2024, 6, 9, 4, 0, 0, tzinfo=Timezone('UTC'))"
      ]
     },
     "execution_count": 30,
     "metadata": {},
     "output_type": "execute_result"
    }
   ],
   "source": [
    "pendulum.from_timestamp(rating_json['data']['rating'][0]['timestamp'], 'UTC')"
   ]
  },
  {
   "cell_type": "code",
   "execution_count": 31,
   "metadata": {},
   "outputs": [],
   "source": [
    "ratings_df = pd.json_normalize(spot_ratings, record_path=['data', 'rating'], meta=['spot_id', 'spot_name', 'utc_fetch_date'] )"
   ]
  },
  {
   "cell_type": "code",
   "execution_count": 32,
   "metadata": {},
   "outputs": [
    {
     "data": {
      "text/html": [
       "<div>\n",
       "<style scoped>\n",
       "    .dataframe tbody tr th:only-of-type {\n",
       "        vertical-align: middle;\n",
       "    }\n",
       "\n",
       "    .dataframe tbody tr th {\n",
       "        vertical-align: top;\n",
       "    }\n",
       "\n",
       "    .dataframe thead th {\n",
       "        text-align: right;\n",
       "    }\n",
       "</style>\n",
       "<table border=\"1\" class=\"dataframe\">\n",
       "  <thead>\n",
       "    <tr style=\"text-align: right;\">\n",
       "      <th></th>\n",
       "      <th>timestamp</th>\n",
       "      <th>utcOffset</th>\n",
       "      <th>rating.key</th>\n",
       "      <th>rating.value</th>\n",
       "      <th>spot_id</th>\n",
       "      <th>spot_name</th>\n",
       "      <th>utc_fetch_date</th>\n",
       "    </tr>\n",
       "  </thead>\n",
       "  <tbody>\n",
       "    <tr>\n",
       "      <th>0</th>\n",
       "      <td>1717909200</td>\n",
       "      <td>-5</td>\n",
       "      <td>VERY_POOR</td>\n",
       "      <td>0</td>\n",
       "      <td>584204204e65fad6a7709b5d</td>\n",
       "      <td>Dauphin Island</td>\n",
       "      <td>2024-06-09</td>\n",
       "    </tr>\n",
       "    <tr>\n",
       "      <th>1</th>\n",
       "      <td>1717912800</td>\n",
       "      <td>-5</td>\n",
       "      <td>VERY_POOR</td>\n",
       "      <td>0</td>\n",
       "      <td>584204204e65fad6a7709b5d</td>\n",
       "      <td>Dauphin Island</td>\n",
       "      <td>2024-06-09</td>\n",
       "    </tr>\n",
       "    <tr>\n",
       "      <th>2</th>\n",
       "      <td>1717916400</td>\n",
       "      <td>-5</td>\n",
       "      <td>VERY_POOR</td>\n",
       "      <td>0</td>\n",
       "      <td>584204204e65fad6a7709b5d</td>\n",
       "      <td>Dauphin Island</td>\n",
       "      <td>2024-06-09</td>\n",
       "    </tr>\n",
       "    <tr>\n",
       "      <th>3</th>\n",
       "      <td>1717920000</td>\n",
       "      <td>-5</td>\n",
       "      <td>VERY_POOR</td>\n",
       "      <td>0</td>\n",
       "      <td>584204204e65fad6a7709b5d</td>\n",
       "      <td>Dauphin Island</td>\n",
       "      <td>2024-06-09</td>\n",
       "    </tr>\n",
       "    <tr>\n",
       "      <th>4</th>\n",
       "      <td>1717923600</td>\n",
       "      <td>-5</td>\n",
       "      <td>VERY_POOR</td>\n",
       "      <td>0</td>\n",
       "      <td>584204204e65fad6a7709b5d</td>\n",
       "      <td>Dauphin Island</td>\n",
       "      <td>2024-06-09</td>\n",
       "    </tr>\n",
       "    <tr>\n",
       "      <th>...</th>\n",
       "      <td>...</td>\n",
       "      <td>...</td>\n",
       "      <td>...</td>\n",
       "      <td>...</td>\n",
       "      <td>...</td>\n",
       "      <td>...</td>\n",
       "      <td>...</td>\n",
       "    </tr>\n",
       "    <tr>\n",
       "      <th>67</th>\n",
       "      <td>1717977600</td>\n",
       "      <td>-5</td>\n",
       "      <td>VERY_POOR</td>\n",
       "      <td>0</td>\n",
       "      <td>584204204e65fad6a7709b62</td>\n",
       "      <td>Alabama Point</td>\n",
       "      <td>2024-06-09</td>\n",
       "    </tr>\n",
       "    <tr>\n",
       "      <th>68</th>\n",
       "      <td>1717981200</td>\n",
       "      <td>-5</td>\n",
       "      <td>VERY_POOR</td>\n",
       "      <td>0</td>\n",
       "      <td>584204204e65fad6a7709b62</td>\n",
       "      <td>Alabama Point</td>\n",
       "      <td>2024-06-09</td>\n",
       "    </tr>\n",
       "    <tr>\n",
       "      <th>69</th>\n",
       "      <td>1717984800</td>\n",
       "      <td>-5</td>\n",
       "      <td>VERY_POOR</td>\n",
       "      <td>0</td>\n",
       "      <td>584204204e65fad6a7709b62</td>\n",
       "      <td>Alabama Point</td>\n",
       "      <td>2024-06-09</td>\n",
       "    </tr>\n",
       "    <tr>\n",
       "      <th>70</th>\n",
       "      <td>1717988400</td>\n",
       "      <td>-5</td>\n",
       "      <td>VERY_POOR</td>\n",
       "      <td>0</td>\n",
       "      <td>584204204e65fad6a7709b62</td>\n",
       "      <td>Alabama Point</td>\n",
       "      <td>2024-06-09</td>\n",
       "    </tr>\n",
       "    <tr>\n",
       "      <th>71</th>\n",
       "      <td>1717992000</td>\n",
       "      <td>-5</td>\n",
       "      <td>VERY_POOR</td>\n",
       "      <td>0</td>\n",
       "      <td>584204204e65fad6a7709b62</td>\n",
       "      <td>Alabama Point</td>\n",
       "      <td>2024-06-09</td>\n",
       "    </tr>\n",
       "  </tbody>\n",
       "</table>\n",
       "<p>72 rows × 7 columns</p>\n",
       "</div>"
      ],
      "text/plain": [
       "     timestamp  utcOffset rating.key  rating.value                   spot_id  \\\n",
       "0   1717909200         -5  VERY_POOR             0  584204204e65fad6a7709b5d   \n",
       "1   1717912800         -5  VERY_POOR             0  584204204e65fad6a7709b5d   \n",
       "2   1717916400         -5  VERY_POOR             0  584204204e65fad6a7709b5d   \n",
       "3   1717920000         -5  VERY_POOR             0  584204204e65fad6a7709b5d   \n",
       "4   1717923600         -5  VERY_POOR             0  584204204e65fad6a7709b5d   \n",
       "..         ...        ...        ...           ...                       ...   \n",
       "67  1717977600         -5  VERY_POOR             0  584204204e65fad6a7709b62   \n",
       "68  1717981200         -5  VERY_POOR             0  584204204e65fad6a7709b62   \n",
       "69  1717984800         -5  VERY_POOR             0  584204204e65fad6a7709b62   \n",
       "70  1717988400         -5  VERY_POOR             0  584204204e65fad6a7709b62   \n",
       "71  1717992000         -5  VERY_POOR             0  584204204e65fad6a7709b62   \n",
       "\n",
       "         spot_name utc_fetch_date  \n",
       "0   Dauphin Island     2024-06-09  \n",
       "1   Dauphin Island     2024-06-09  \n",
       "2   Dauphin Island     2024-06-09  \n",
       "3   Dauphin Island     2024-06-09  \n",
       "4   Dauphin Island     2024-06-09  \n",
       "..             ...            ...  \n",
       "67   Alabama Point     2024-06-09  \n",
       "68   Alabama Point     2024-06-09  \n",
       "69   Alabama Point     2024-06-09  \n",
       "70   Alabama Point     2024-06-09  \n",
       "71   Alabama Point     2024-06-09  \n",
       "\n",
       "[72 rows x 7 columns]"
      ]
     },
     "execution_count": 32,
     "metadata": {},
     "output_type": "execute_result"
    }
   ],
   "source": [
    "ratings_df"
   ]
  },
  {
   "cell_type": "code",
   "execution_count": 33,
   "metadata": {},
   "outputs": [],
   "source": [
    "ratings_df['timestamp'] = ratings_df['timestamp'].apply(lambda x: pendulum.from_timestamp(x).to_datetime_string())"
   ]
  },
  {
   "cell_type": "markdown",
   "metadata": {},
   "source": [
    "Alright, so it looks like each spot's forecast starts at 12am *local time*, with the timestamp for that time in unix. To figure out the flat `UTC` time for each spot you can just apply the `utcOffset` that is included in response. "
   ]
  },
  {
   "cell_type": "code",
   "execution_count": 34,
   "metadata": {},
   "outputs": [],
   "source": [
    "ratings_df['timestamp'] = pd.to_datetime(ratings_df['timestamp'])"
   ]
  },
  {
   "cell_type": "code",
   "execution_count": 35,
   "metadata": {},
   "outputs": [
    {
     "data": {
      "text/html": [
       "<div>\n",
       "<style scoped>\n",
       "    .dataframe tbody tr th:only-of-type {\n",
       "        vertical-align: middle;\n",
       "    }\n",
       "\n",
       "    .dataframe tbody tr th {\n",
       "        vertical-align: top;\n",
       "    }\n",
       "\n",
       "    .dataframe thead th {\n",
       "        text-align: right;\n",
       "    }\n",
       "</style>\n",
       "<table border=\"1\" class=\"dataframe\">\n",
       "  <thead>\n",
       "    <tr style=\"text-align: right;\">\n",
       "      <th></th>\n",
       "      <th>timestamp</th>\n",
       "      <th>utcOffset</th>\n",
       "      <th>rating.key</th>\n",
       "      <th>rating.value</th>\n",
       "      <th>spot_id</th>\n",
       "      <th>spot_name</th>\n",
       "      <th>utc_fetch_date</th>\n",
       "    </tr>\n",
       "  </thead>\n",
       "  <tbody>\n",
       "    <tr>\n",
       "      <th>0</th>\n",
       "      <td>2024-06-09 05:00:00</td>\n",
       "      <td>-5</td>\n",
       "      <td>VERY_POOR</td>\n",
       "      <td>0</td>\n",
       "      <td>584204204e65fad6a7709b5d</td>\n",
       "      <td>Dauphin Island</td>\n",
       "      <td>2024-06-09</td>\n",
       "    </tr>\n",
       "    <tr>\n",
       "      <th>1</th>\n",
       "      <td>2024-06-09 06:00:00</td>\n",
       "      <td>-5</td>\n",
       "      <td>VERY_POOR</td>\n",
       "      <td>0</td>\n",
       "      <td>584204204e65fad6a7709b5d</td>\n",
       "      <td>Dauphin Island</td>\n",
       "      <td>2024-06-09</td>\n",
       "    </tr>\n",
       "    <tr>\n",
       "      <th>2</th>\n",
       "      <td>2024-06-09 07:00:00</td>\n",
       "      <td>-5</td>\n",
       "      <td>VERY_POOR</td>\n",
       "      <td>0</td>\n",
       "      <td>584204204e65fad6a7709b5d</td>\n",
       "      <td>Dauphin Island</td>\n",
       "      <td>2024-06-09</td>\n",
       "    </tr>\n",
       "    <tr>\n",
       "      <th>3</th>\n",
       "      <td>2024-06-09 08:00:00</td>\n",
       "      <td>-5</td>\n",
       "      <td>VERY_POOR</td>\n",
       "      <td>0</td>\n",
       "      <td>584204204e65fad6a7709b5d</td>\n",
       "      <td>Dauphin Island</td>\n",
       "      <td>2024-06-09</td>\n",
       "    </tr>\n",
       "    <tr>\n",
       "      <th>4</th>\n",
       "      <td>2024-06-09 09:00:00</td>\n",
       "      <td>-5</td>\n",
       "      <td>VERY_POOR</td>\n",
       "      <td>0</td>\n",
       "      <td>584204204e65fad6a7709b5d</td>\n",
       "      <td>Dauphin Island</td>\n",
       "      <td>2024-06-09</td>\n",
       "    </tr>\n",
       "    <tr>\n",
       "      <th>...</th>\n",
       "      <td>...</td>\n",
       "      <td>...</td>\n",
       "      <td>...</td>\n",
       "      <td>...</td>\n",
       "      <td>...</td>\n",
       "      <td>...</td>\n",
       "      <td>...</td>\n",
       "    </tr>\n",
       "    <tr>\n",
       "      <th>67</th>\n",
       "      <td>2024-06-10 00:00:00</td>\n",
       "      <td>-5</td>\n",
       "      <td>VERY_POOR</td>\n",
       "      <td>0</td>\n",
       "      <td>584204204e65fad6a7709b62</td>\n",
       "      <td>Alabama Point</td>\n",
       "      <td>2024-06-09</td>\n",
       "    </tr>\n",
       "    <tr>\n",
       "      <th>68</th>\n",
       "      <td>2024-06-10 01:00:00</td>\n",
       "      <td>-5</td>\n",
       "      <td>VERY_POOR</td>\n",
       "      <td>0</td>\n",
       "      <td>584204204e65fad6a7709b62</td>\n",
       "      <td>Alabama Point</td>\n",
       "      <td>2024-06-09</td>\n",
       "    </tr>\n",
       "    <tr>\n",
       "      <th>69</th>\n",
       "      <td>2024-06-10 02:00:00</td>\n",
       "      <td>-5</td>\n",
       "      <td>VERY_POOR</td>\n",
       "      <td>0</td>\n",
       "      <td>584204204e65fad6a7709b62</td>\n",
       "      <td>Alabama Point</td>\n",
       "      <td>2024-06-09</td>\n",
       "    </tr>\n",
       "    <tr>\n",
       "      <th>70</th>\n",
       "      <td>2024-06-10 03:00:00</td>\n",
       "      <td>-5</td>\n",
       "      <td>VERY_POOR</td>\n",
       "      <td>0</td>\n",
       "      <td>584204204e65fad6a7709b62</td>\n",
       "      <td>Alabama Point</td>\n",
       "      <td>2024-06-09</td>\n",
       "    </tr>\n",
       "    <tr>\n",
       "      <th>71</th>\n",
       "      <td>2024-06-10 04:00:00</td>\n",
       "      <td>-5</td>\n",
       "      <td>VERY_POOR</td>\n",
       "      <td>0</td>\n",
       "      <td>584204204e65fad6a7709b62</td>\n",
       "      <td>Alabama Point</td>\n",
       "      <td>2024-06-09</td>\n",
       "    </tr>\n",
       "  </tbody>\n",
       "</table>\n",
       "<p>72 rows × 7 columns</p>\n",
       "</div>"
      ],
      "text/plain": [
       "             timestamp  utcOffset rating.key  rating.value  \\\n",
       "0  2024-06-09 05:00:00         -5  VERY_POOR             0   \n",
       "1  2024-06-09 06:00:00         -5  VERY_POOR             0   \n",
       "2  2024-06-09 07:00:00         -5  VERY_POOR             0   \n",
       "3  2024-06-09 08:00:00         -5  VERY_POOR             0   \n",
       "4  2024-06-09 09:00:00         -5  VERY_POOR             0   \n",
       "..                 ...        ...        ...           ...   \n",
       "67 2024-06-10 00:00:00         -5  VERY_POOR             0   \n",
       "68 2024-06-10 01:00:00         -5  VERY_POOR             0   \n",
       "69 2024-06-10 02:00:00         -5  VERY_POOR             0   \n",
       "70 2024-06-10 03:00:00         -5  VERY_POOR             0   \n",
       "71 2024-06-10 04:00:00         -5  VERY_POOR             0   \n",
       "\n",
       "                     spot_id       spot_name utc_fetch_date  \n",
       "0   584204204e65fad6a7709b5d  Dauphin Island     2024-06-09  \n",
       "1   584204204e65fad6a7709b5d  Dauphin Island     2024-06-09  \n",
       "2   584204204e65fad6a7709b5d  Dauphin Island     2024-06-09  \n",
       "3   584204204e65fad6a7709b5d  Dauphin Island     2024-06-09  \n",
       "4   584204204e65fad6a7709b5d  Dauphin Island     2024-06-09  \n",
       "..                       ...             ...            ...  \n",
       "67  584204204e65fad6a7709b62   Alabama Point     2024-06-09  \n",
       "68  584204204e65fad6a7709b62   Alabama Point     2024-06-09  \n",
       "69  584204204e65fad6a7709b62   Alabama Point     2024-06-09  \n",
       "70  584204204e65fad6a7709b62   Alabama Point     2024-06-09  \n",
       "71  584204204e65fad6a7709b62   Alabama Point     2024-06-09  \n",
       "\n",
       "[72 rows x 7 columns]"
      ]
     },
     "execution_count": 35,
     "metadata": {},
     "output_type": "execute_result"
    }
   ],
   "source": [
    "ratings_df"
   ]
  },
  {
   "cell_type": "code",
   "execution_count": 36,
   "metadata": {},
   "outputs": [],
   "source": [
    "ratings_df['timestamp_utc'] = ratings_df.apply(lambda row: row['timestamp'] + pd.Timedelta(hours=row['utcOffset']), axis=1)"
   ]
  },
  {
   "cell_type": "code",
   "execution_count": 37,
   "metadata": {},
   "outputs": [
    {
     "data": {
      "text/html": [
       "<div>\n",
       "<style scoped>\n",
       "    .dataframe tbody tr th:only-of-type {\n",
       "        vertical-align: middle;\n",
       "    }\n",
       "\n",
       "    .dataframe tbody tr th {\n",
       "        vertical-align: top;\n",
       "    }\n",
       "\n",
       "    .dataframe thead th {\n",
       "        text-align: right;\n",
       "    }\n",
       "</style>\n",
       "<table border=\"1\" class=\"dataframe\">\n",
       "  <thead>\n",
       "    <tr style=\"text-align: right;\">\n",
       "      <th></th>\n",
       "      <th>timestamp</th>\n",
       "      <th>utcOffset</th>\n",
       "      <th>rating.key</th>\n",
       "      <th>rating.value</th>\n",
       "      <th>spot_id</th>\n",
       "      <th>spot_name</th>\n",
       "      <th>utc_fetch_date</th>\n",
       "      <th>timestamp_utc</th>\n",
       "    </tr>\n",
       "  </thead>\n",
       "  <tbody>\n",
       "    <tr>\n",
       "      <th>0</th>\n",
       "      <td>2024-06-09 05:00:00</td>\n",
       "      <td>-5</td>\n",
       "      <td>VERY_POOR</td>\n",
       "      <td>0</td>\n",
       "      <td>584204204e65fad6a7709b5d</td>\n",
       "      <td>Dauphin Island</td>\n",
       "      <td>2024-06-09</td>\n",
       "      <td>2024-06-09 00:00:00</td>\n",
       "    </tr>\n",
       "    <tr>\n",
       "      <th>1</th>\n",
       "      <td>2024-06-09 06:00:00</td>\n",
       "      <td>-5</td>\n",
       "      <td>VERY_POOR</td>\n",
       "      <td>0</td>\n",
       "      <td>584204204e65fad6a7709b5d</td>\n",
       "      <td>Dauphin Island</td>\n",
       "      <td>2024-06-09</td>\n",
       "      <td>2024-06-09 01:00:00</td>\n",
       "    </tr>\n",
       "    <tr>\n",
       "      <th>2</th>\n",
       "      <td>2024-06-09 07:00:00</td>\n",
       "      <td>-5</td>\n",
       "      <td>VERY_POOR</td>\n",
       "      <td>0</td>\n",
       "      <td>584204204e65fad6a7709b5d</td>\n",
       "      <td>Dauphin Island</td>\n",
       "      <td>2024-06-09</td>\n",
       "      <td>2024-06-09 02:00:00</td>\n",
       "    </tr>\n",
       "    <tr>\n",
       "      <th>3</th>\n",
       "      <td>2024-06-09 08:00:00</td>\n",
       "      <td>-5</td>\n",
       "      <td>VERY_POOR</td>\n",
       "      <td>0</td>\n",
       "      <td>584204204e65fad6a7709b5d</td>\n",
       "      <td>Dauphin Island</td>\n",
       "      <td>2024-06-09</td>\n",
       "      <td>2024-06-09 03:00:00</td>\n",
       "    </tr>\n",
       "    <tr>\n",
       "      <th>4</th>\n",
       "      <td>2024-06-09 09:00:00</td>\n",
       "      <td>-5</td>\n",
       "      <td>VERY_POOR</td>\n",
       "      <td>0</td>\n",
       "      <td>584204204e65fad6a7709b5d</td>\n",
       "      <td>Dauphin Island</td>\n",
       "      <td>2024-06-09</td>\n",
       "      <td>2024-06-09 04:00:00</td>\n",
       "    </tr>\n",
       "    <tr>\n",
       "      <th>...</th>\n",
       "      <td>...</td>\n",
       "      <td>...</td>\n",
       "      <td>...</td>\n",
       "      <td>...</td>\n",
       "      <td>...</td>\n",
       "      <td>...</td>\n",
       "      <td>...</td>\n",
       "      <td>...</td>\n",
       "    </tr>\n",
       "    <tr>\n",
       "      <th>67</th>\n",
       "      <td>2024-06-10 00:00:00</td>\n",
       "      <td>-5</td>\n",
       "      <td>VERY_POOR</td>\n",
       "      <td>0</td>\n",
       "      <td>584204204e65fad6a7709b62</td>\n",
       "      <td>Alabama Point</td>\n",
       "      <td>2024-06-09</td>\n",
       "      <td>2024-06-09 19:00:00</td>\n",
       "    </tr>\n",
       "    <tr>\n",
       "      <th>68</th>\n",
       "      <td>2024-06-10 01:00:00</td>\n",
       "      <td>-5</td>\n",
       "      <td>VERY_POOR</td>\n",
       "      <td>0</td>\n",
       "      <td>584204204e65fad6a7709b62</td>\n",
       "      <td>Alabama Point</td>\n",
       "      <td>2024-06-09</td>\n",
       "      <td>2024-06-09 20:00:00</td>\n",
       "    </tr>\n",
       "    <tr>\n",
       "      <th>69</th>\n",
       "      <td>2024-06-10 02:00:00</td>\n",
       "      <td>-5</td>\n",
       "      <td>VERY_POOR</td>\n",
       "      <td>0</td>\n",
       "      <td>584204204e65fad6a7709b62</td>\n",
       "      <td>Alabama Point</td>\n",
       "      <td>2024-06-09</td>\n",
       "      <td>2024-06-09 21:00:00</td>\n",
       "    </tr>\n",
       "    <tr>\n",
       "      <th>70</th>\n",
       "      <td>2024-06-10 03:00:00</td>\n",
       "      <td>-5</td>\n",
       "      <td>VERY_POOR</td>\n",
       "      <td>0</td>\n",
       "      <td>584204204e65fad6a7709b62</td>\n",
       "      <td>Alabama Point</td>\n",
       "      <td>2024-06-09</td>\n",
       "      <td>2024-06-09 22:00:00</td>\n",
       "    </tr>\n",
       "    <tr>\n",
       "      <th>71</th>\n",
       "      <td>2024-06-10 04:00:00</td>\n",
       "      <td>-5</td>\n",
       "      <td>VERY_POOR</td>\n",
       "      <td>0</td>\n",
       "      <td>584204204e65fad6a7709b62</td>\n",
       "      <td>Alabama Point</td>\n",
       "      <td>2024-06-09</td>\n",
       "      <td>2024-06-09 23:00:00</td>\n",
       "    </tr>\n",
       "  </tbody>\n",
       "</table>\n",
       "<p>72 rows × 8 columns</p>\n",
       "</div>"
      ],
      "text/plain": [
       "             timestamp  utcOffset rating.key  rating.value  \\\n",
       "0  2024-06-09 05:00:00         -5  VERY_POOR             0   \n",
       "1  2024-06-09 06:00:00         -5  VERY_POOR             0   \n",
       "2  2024-06-09 07:00:00         -5  VERY_POOR             0   \n",
       "3  2024-06-09 08:00:00         -5  VERY_POOR             0   \n",
       "4  2024-06-09 09:00:00         -5  VERY_POOR             0   \n",
       "..                 ...        ...        ...           ...   \n",
       "67 2024-06-10 00:00:00         -5  VERY_POOR             0   \n",
       "68 2024-06-10 01:00:00         -5  VERY_POOR             0   \n",
       "69 2024-06-10 02:00:00         -5  VERY_POOR             0   \n",
       "70 2024-06-10 03:00:00         -5  VERY_POOR             0   \n",
       "71 2024-06-10 04:00:00         -5  VERY_POOR             0   \n",
       "\n",
       "                     spot_id       spot_name utc_fetch_date  \\\n",
       "0   584204204e65fad6a7709b5d  Dauphin Island     2024-06-09   \n",
       "1   584204204e65fad6a7709b5d  Dauphin Island     2024-06-09   \n",
       "2   584204204e65fad6a7709b5d  Dauphin Island     2024-06-09   \n",
       "3   584204204e65fad6a7709b5d  Dauphin Island     2024-06-09   \n",
       "4   584204204e65fad6a7709b5d  Dauphin Island     2024-06-09   \n",
       "..                       ...             ...            ...   \n",
       "67  584204204e65fad6a7709b62   Alabama Point     2024-06-09   \n",
       "68  584204204e65fad6a7709b62   Alabama Point     2024-06-09   \n",
       "69  584204204e65fad6a7709b62   Alabama Point     2024-06-09   \n",
       "70  584204204e65fad6a7709b62   Alabama Point     2024-06-09   \n",
       "71  584204204e65fad6a7709b62   Alabama Point     2024-06-09   \n",
       "\n",
       "         timestamp_utc  \n",
       "0  2024-06-09 00:00:00  \n",
       "1  2024-06-09 01:00:00  \n",
       "2  2024-06-09 02:00:00  \n",
       "3  2024-06-09 03:00:00  \n",
       "4  2024-06-09 04:00:00  \n",
       "..                 ...  \n",
       "67 2024-06-09 19:00:00  \n",
       "68 2024-06-09 20:00:00  \n",
       "69 2024-06-09 21:00:00  \n",
       "70 2024-06-09 22:00:00  \n",
       "71 2024-06-09 23:00:00  \n",
       "\n",
       "[72 rows x 8 columns]"
      ]
     },
     "execution_count": 37,
     "metadata": {},
     "output_type": "execute_result"
    }
   ],
   "source": [
    "ratings_df"
   ]
  },
  {
   "cell_type": "code",
   "execution_count": 38,
   "metadata": {},
   "outputs": [
    {
     "data": {
      "text/plain": [
       "timestamp         datetime64[ns]\n",
       "utcOffset                  int64\n",
       "rating.key                object\n",
       "rating.value               int64\n",
       "spot_id                   object\n",
       "spot_name                 object\n",
       "utc_fetch_date            object\n",
       "timestamp_utc     datetime64[ns]\n",
       "dtype: object"
      ]
     },
     "execution_count": 38,
     "metadata": {},
     "output_type": "execute_result"
    }
   ],
   "source": [
    "ratings_df.dtypes"
   ]
  },
  {
   "cell_type": "code",
   "execution_count": 39,
   "metadata": {},
   "outputs": [],
   "source": [
    "with SessionLocal() as db:\n",
    "    matching_spots = []\n",
    "    for spot in df['names']:\n",
    "        stmt = text(\"\"\"select * from spots where spot_name like :spot\"\"\")\n",
    "        result = db.execute(stmt, {\"spot\": spot}).fetchall()\n",
    "        if len(result) > 0:\n",
    "            matching_spots.append(result)\n",
    "    "
   ]
  },
  {
   "cell_type": "code",
   "execution_count": 40,
   "metadata": {},
   "outputs": [
    {
     "data": {
      "text/plain": [
       "1302"
      ]
     },
     "execution_count": 40,
     "metadata": {},
     "output_type": "execute_result"
    }
   ],
   "source": [
    "len(matching_spots)"
   ]
  },
  {
   "cell_type": "code",
   "execution_count": 43,
   "metadata": {},
   "outputs": [],
   "source": [
    "jetty_waves = fetch_from_sl_api(SlApiEndpoints.WAVE.value, SlApiParams.SPOT_ID.value, jetty_id)"
   ]
  },
  {
   "cell_type": "code",
   "execution_count": 56,
   "metadata": {},
   "outputs": [
    {
     "data": {
      "text/plain": [
       "dict_keys(['timestamp', 'probability', 'utcOffset', 'surf', 'power', 'swells'])"
      ]
     },
     "execution_count": 56,
     "metadata": {},
     "output_type": "execute_result"
    }
   ],
   "source": [
    "jetty_waves['data']['wave'][0].keys()"
   ]
  },
  {
   "cell_type": "code",
   "execution_count": 57,
   "metadata": {},
   "outputs": [
    {
     "data": {
      "text/plain": [
       "dict_keys(['units', 'utcOffset', 'location', 'forecastLocation', 'offshoreLocation', 'runInitializationTimestamp'])"
      ]
     },
     "execution_count": 57,
     "metadata": {},
     "output_type": "execute_result"
    }
   ],
   "source": [
    "jetty_waves['associated'].keys()"
   ]
  },
  {
   "cell_type": "code",
   "execution_count": 72,
   "metadata": {},
   "outputs": [
    {
     "data": {
      "text/plain": [
       "{'units': {'temperature': 'F',\n",
       "  'tideHeight': 'FT',\n",
       "  'swellHeight': 'FT',\n",
       "  'waveHeight': 'FT',\n",
       "  'windSpeed': 'KTS',\n",
       "  'pressure': 'MB'},\n",
       " 'utcOffset': -4,\n",
       " 'location': {'lon': -75.96648, 'lat': 36.83036135089083},\n",
       " 'forecastLocation': {'lon': -75.947, 'lat': 36.847},\n",
       " 'offshoreLocation': {'lon': -75.75, 'lat': 37},\n",
       " 'runInitializationTimestamp': 1717934400}"
      ]
     },
     "execution_count": 72,
     "metadata": {},
     "output_type": "execute_result"
    }
   ],
   "source": [
    "jetty_waves['associated']"
   ]
  },
  {
   "cell_type": "code",
   "execution_count": 84,
   "metadata": {},
   "outputs": [],
   "source": [
    "jetty_meta_df = pd.json_normalize(jetty_waves)\n",
    "jetty_meta_df.drop(['data.wave','permissions.data', 'permissions.violations'], inplace=True, axis=1)\n"
   ]
  },
  {
   "cell_type": "code",
   "execution_count": 85,
   "metadata": {},
   "outputs": [
    {
     "data": {
      "text/plain": [
       "Index(['associated.units.temperature', 'associated.units.tideHeight',\n",
       "       'associated.units.swellHeight', 'associated.units.waveHeight',\n",
       "       'associated.units.windSpeed', 'associated.units.pressure',\n",
       "       'associated.utcOffset', 'associated.location.lon',\n",
       "       'associated.location.lat', 'associated.forecastLocation.lon',\n",
       "       'associated.forecastLocation.lat', 'associated.offshoreLocation.lon',\n",
       "       'associated.offshoreLocation.lat',\n",
       "       'associated.runInitializationTimestamp'],\n",
       "      dtype='object')"
      ]
     },
     "execution_count": 85,
     "metadata": {},
     "output_type": "execute_result"
    }
   ],
   "source": [
    "jetty_meta_df.columns"
   ]
  },
  {
   "cell_type": "code",
   "execution_count": 86,
   "metadata": {},
   "outputs": [],
   "source": [
    "jetty_wave_df = pd.json_normalize(\n",
    "    jetty_waves,\n",
    "    record_path=[\"data\", \"wave\", \"swells\"],\n",
    ")"
   ]
  },
  {
   "cell_type": "code",
   "execution_count": 87,
   "metadata": {},
   "outputs": [
    {
     "data": {
      "text/plain": [
       "720"
      ]
     },
     "execution_count": 87,
     "metadata": {},
     "output_type": "execute_result"
    }
   ],
   "source": [
    "len(jetty_wave_df)"
   ]
  },
  {
   "cell_type": "code",
   "execution_count": 80,
   "metadata": {},
   "outputs": [],
   "source": [
    "jetty_comb_df = pd.merge(jetty_meta_df, jetty_wave_df, how='cross')"
   ]
  },
  {
   "cell_type": "code",
   "execution_count": 81,
   "metadata": {},
   "outputs": [
    {
     "data": {
      "text/html": [
       "<div>\n",
       "<style scoped>\n",
       "    .dataframe tbody tr th:only-of-type {\n",
       "        vertical-align: middle;\n",
       "    }\n",
       "\n",
       "    .dataframe tbody tr th {\n",
       "        vertical-align: top;\n",
       "    }\n",
       "\n",
       "    .dataframe thead th {\n",
       "        text-align: right;\n",
       "    }\n",
       "</style>\n",
       "<table border=\"1\" class=\"dataframe\">\n",
       "  <thead>\n",
       "    <tr style=\"text-align: right;\">\n",
       "      <th></th>\n",
       "      <th>associated.units.temperature</th>\n",
       "      <th>associated.units.tideHeight</th>\n",
       "      <th>associated.units.swellHeight</th>\n",
       "      <th>associated.units.waveHeight</th>\n",
       "      <th>associated.units.windSpeed</th>\n",
       "      <th>associated.units.pressure</th>\n",
       "      <th>associated.utcOffset</th>\n",
       "      <th>associated.location.lon</th>\n",
       "      <th>associated.location.lat</th>\n",
       "      <th>associated.forecastLocation.lon</th>\n",
       "      <th>...</th>\n",
       "      <th>data.wave</th>\n",
       "      <th>permissions.data</th>\n",
       "      <th>permissions.violations</th>\n",
       "      <th>height</th>\n",
       "      <th>period</th>\n",
       "      <th>impact</th>\n",
       "      <th>power</th>\n",
       "      <th>direction</th>\n",
       "      <th>directionMin</th>\n",
       "      <th>optimalScore</th>\n",
       "    </tr>\n",
       "  </thead>\n",
       "  <tbody>\n",
       "    <tr>\n",
       "      <th>0</th>\n",
       "      <td>F</td>\n",
       "      <td>FT</td>\n",
       "      <td>FT</td>\n",
       "      <td>FT</td>\n",
       "      <td>KTS</td>\n",
       "      <td>MB</td>\n",
       "      <td>-4</td>\n",
       "      <td>-75.96648</td>\n",
       "      <td>36.830361</td>\n",
       "      <td>-75.947</td>\n",
       "      <td>...</td>\n",
       "      <td>[{'timestamp': 1717905600, 'probability': 63.3...</td>\n",
       "      <td>[]</td>\n",
       "      <td>[{'code': 4001, 'message': 'User does not have...</td>\n",
       "      <td>1.21391</td>\n",
       "      <td>7</td>\n",
       "      <td>0.4727</td>\n",
       "      <td>5.48166</td>\n",
       "      <td>134.57</td>\n",
       "      <td>126.900</td>\n",
       "      <td>0</td>\n",
       "    </tr>\n",
       "    <tr>\n",
       "      <th>1</th>\n",
       "      <td>F</td>\n",
       "      <td>FT</td>\n",
       "      <td>FT</td>\n",
       "      <td>FT</td>\n",
       "      <td>KTS</td>\n",
       "      <td>MB</td>\n",
       "      <td>-4</td>\n",
       "      <td>-75.96648</td>\n",
       "      <td>36.830361</td>\n",
       "      <td>-75.947</td>\n",
       "      <td>...</td>\n",
       "      <td>[{'timestamp': 1717905600, 'probability': 63.3...</td>\n",
       "      <td>[]</td>\n",
       "      <td>[{'code': 4001, 'message': 'User does not have...</td>\n",
       "      <td>0.49213</td>\n",
       "      <td>8</td>\n",
       "      <td>0.2265</td>\n",
       "      <td>0.71579</td>\n",
       "      <td>70.56</td>\n",
       "      <td>65.260</td>\n",
       "      <td>0</td>\n",
       "    </tr>\n",
       "    <tr>\n",
       "      <th>2</th>\n",
       "      <td>F</td>\n",
       "      <td>FT</td>\n",
       "      <td>FT</td>\n",
       "      <td>FT</td>\n",
       "      <td>KTS</td>\n",
       "      <td>MB</td>\n",
       "      <td>-4</td>\n",
       "      <td>-75.96648</td>\n",
       "      <td>36.830361</td>\n",
       "      <td>-75.947</td>\n",
       "      <td>...</td>\n",
       "      <td>[{'timestamp': 1717905600, 'probability': 63.3...</td>\n",
       "      <td>[]</td>\n",
       "      <td>[{'code': 4001, 'message': 'User does not have...</td>\n",
       "      <td>0.00000</td>\n",
       "      <td>0</td>\n",
       "      <td>0.0000</td>\n",
       "      <td>0.00000</td>\n",
       "      <td>0.00</td>\n",
       "      <td>0.000</td>\n",
       "      <td>0</td>\n",
       "    </tr>\n",
       "    <tr>\n",
       "      <th>3</th>\n",
       "      <td>F</td>\n",
       "      <td>FT</td>\n",
       "      <td>FT</td>\n",
       "      <td>FT</td>\n",
       "      <td>KTS</td>\n",
       "      <td>MB</td>\n",
       "      <td>-4</td>\n",
       "      <td>-75.96648</td>\n",
       "      <td>36.830361</td>\n",
       "      <td>-75.947</td>\n",
       "      <td>...</td>\n",
       "      <td>[{'timestamp': 1717905600, 'probability': 63.3...</td>\n",
       "      <td>[]</td>\n",
       "      <td>[{'code': 4001, 'message': 'User does not have...</td>\n",
       "      <td>1.11549</td>\n",
       "      <td>3</td>\n",
       "      <td>0.2698</td>\n",
       "      <td>0.58062</td>\n",
       "      <td>156.87</td>\n",
       "      <td>143.265</td>\n",
       "      <td>0</td>\n",
       "    </tr>\n",
       "    <tr>\n",
       "      <th>4</th>\n",
       "      <td>F</td>\n",
       "      <td>FT</td>\n",
       "      <td>FT</td>\n",
       "      <td>FT</td>\n",
       "      <td>KTS</td>\n",
       "      <td>MB</td>\n",
       "      <td>-4</td>\n",
       "      <td>-75.96648</td>\n",
       "      <td>36.830361</td>\n",
       "      <td>-75.947</td>\n",
       "      <td>...</td>\n",
       "      <td>[{'timestamp': 1717905600, 'probability': 63.3...</td>\n",
       "      <td>[]</td>\n",
       "      <td>[{'code': 4001, 'message': 'User does not have...</td>\n",
       "      <td>0.00000</td>\n",
       "      <td>0</td>\n",
       "      <td>0.0000</td>\n",
       "      <td>0.00000</td>\n",
       "      <td>0.00</td>\n",
       "      <td>0.000</td>\n",
       "      <td>0</td>\n",
       "    </tr>\n",
       "    <tr>\n",
       "      <th>...</th>\n",
       "      <td>...</td>\n",
       "      <td>...</td>\n",
       "      <td>...</td>\n",
       "      <td>...</td>\n",
       "      <td>...</td>\n",
       "      <td>...</td>\n",
       "      <td>...</td>\n",
       "      <td>...</td>\n",
       "      <td>...</td>\n",
       "      <td>...</td>\n",
       "      <td>...</td>\n",
       "      <td>...</td>\n",
       "      <td>...</td>\n",
       "      <td>...</td>\n",
       "      <td>...</td>\n",
       "      <td>...</td>\n",
       "      <td>...</td>\n",
       "      <td>...</td>\n",
       "      <td>...</td>\n",
       "      <td>...</td>\n",
       "      <td>...</td>\n",
       "    </tr>\n",
       "    <tr>\n",
       "      <th>715</th>\n",
       "      <td>F</td>\n",
       "      <td>FT</td>\n",
       "      <td>FT</td>\n",
       "      <td>FT</td>\n",
       "      <td>KTS</td>\n",
       "      <td>MB</td>\n",
       "      <td>-4</td>\n",
       "      <td>-75.96648</td>\n",
       "      <td>36.830361</td>\n",
       "      <td>-75.947</td>\n",
       "      <td>...</td>\n",
       "      <td>[{'timestamp': 1717905600, 'probability': 63.3...</td>\n",
       "      <td>[]</td>\n",
       "      <td>[{'code': 4001, 'message': 'User does not have...</td>\n",
       "      <td>0.29528</td>\n",
       "      <td>11</td>\n",
       "      <td>0.1464</td>\n",
       "      <td>0.28056</td>\n",
       "      <td>105.90</td>\n",
       "      <td>101.775</td>\n",
       "      <td>0</td>\n",
       "    </tr>\n",
       "    <tr>\n",
       "      <th>716</th>\n",
       "      <td>F</td>\n",
       "      <td>FT</td>\n",
       "      <td>FT</td>\n",
       "      <td>FT</td>\n",
       "      <td>KTS</td>\n",
       "      <td>MB</td>\n",
       "      <td>-4</td>\n",
       "      <td>-75.96648</td>\n",
       "      <td>36.830361</td>\n",
       "      <td>-75.947</td>\n",
       "      <td>...</td>\n",
       "      <td>[{'timestamp': 1717905600, 'probability': 63.3...</td>\n",
       "      <td>[]</td>\n",
       "      <td>[{'code': 4001, 'message': 'User does not have...</td>\n",
       "      <td>0.00000</td>\n",
       "      <td>0</td>\n",
       "      <td>0.0000</td>\n",
       "      <td>0.00000</td>\n",
       "      <td>0.00</td>\n",
       "      <td>0.000</td>\n",
       "      <td>0</td>\n",
       "    </tr>\n",
       "    <tr>\n",
       "      <th>717</th>\n",
       "      <td>F</td>\n",
       "      <td>FT</td>\n",
       "      <td>FT</td>\n",
       "      <td>FT</td>\n",
       "      <td>KTS</td>\n",
       "      <td>MB</td>\n",
       "      <td>-4</td>\n",
       "      <td>-75.96648</td>\n",
       "      <td>36.830361</td>\n",
       "      <td>-75.947</td>\n",
       "      <td>...</td>\n",
       "      <td>[{'timestamp': 1717905600, 'probability': 63.3...</td>\n",
       "      <td>[]</td>\n",
       "      <td>[{'code': 4001, 'message': 'User does not have...</td>\n",
       "      <td>0.26247</td>\n",
       "      <td>17</td>\n",
       "      <td>0.1724</td>\n",
       "      <td>0.62355</td>\n",
       "      <td>102.49</td>\n",
       "      <td>98.775</td>\n",
       "      <td>0</td>\n",
       "    </tr>\n",
       "    <tr>\n",
       "      <th>718</th>\n",
       "      <td>F</td>\n",
       "      <td>FT</td>\n",
       "      <td>FT</td>\n",
       "      <td>FT</td>\n",
       "      <td>KTS</td>\n",
       "      <td>MB</td>\n",
       "      <td>-4</td>\n",
       "      <td>-75.96648</td>\n",
       "      <td>36.830361</td>\n",
       "      <td>-75.947</td>\n",
       "      <td>...</td>\n",
       "      <td>[{'timestamp': 1717905600, 'probability': 63.3...</td>\n",
       "      <td>[]</td>\n",
       "      <td>[{'code': 4001, 'message': 'User does not have...</td>\n",
       "      <td>0.00000</td>\n",
       "      <td>0</td>\n",
       "      <td>0.0000</td>\n",
       "      <td>0.00000</td>\n",
       "      <td>0.00</td>\n",
       "      <td>0.000</td>\n",
       "      <td>0</td>\n",
       "    </tr>\n",
       "    <tr>\n",
       "      <th>719</th>\n",
       "      <td>F</td>\n",
       "      <td>FT</td>\n",
       "      <td>FT</td>\n",
       "      <td>FT</td>\n",
       "      <td>KTS</td>\n",
       "      <td>MB</td>\n",
       "      <td>-4</td>\n",
       "      <td>-75.96648</td>\n",
       "      <td>36.830361</td>\n",
       "      <td>-75.947</td>\n",
       "      <td>...</td>\n",
       "      <td>[{'timestamp': 1717905600, 'probability': 63.3...</td>\n",
       "      <td>[]</td>\n",
       "      <td>[{'code': 4001, 'message': 'User does not have...</td>\n",
       "      <td>0.75459</td>\n",
       "      <td>8</td>\n",
       "      <td>0.2448</td>\n",
       "      <td>1.54614</td>\n",
       "      <td>111.39</td>\n",
       "      <td>104.435</td>\n",
       "      <td>0</td>\n",
       "    </tr>\n",
       "  </tbody>\n",
       "</table>\n",
       "<p>720 rows × 24 columns</p>\n",
       "</div>"
      ],
      "text/plain": [
       "    associated.units.temperature associated.units.tideHeight  \\\n",
       "0                              F                          FT   \n",
       "1                              F                          FT   \n",
       "2                              F                          FT   \n",
       "3                              F                          FT   \n",
       "4                              F                          FT   \n",
       "..                           ...                         ...   \n",
       "715                            F                          FT   \n",
       "716                            F                          FT   \n",
       "717                            F                          FT   \n",
       "718                            F                          FT   \n",
       "719                            F                          FT   \n",
       "\n",
       "    associated.units.swellHeight associated.units.waveHeight  \\\n",
       "0                             FT                          FT   \n",
       "1                             FT                          FT   \n",
       "2                             FT                          FT   \n",
       "3                             FT                          FT   \n",
       "4                             FT                          FT   \n",
       "..                           ...                         ...   \n",
       "715                           FT                          FT   \n",
       "716                           FT                          FT   \n",
       "717                           FT                          FT   \n",
       "718                           FT                          FT   \n",
       "719                           FT                          FT   \n",
       "\n",
       "    associated.units.windSpeed associated.units.pressure  \\\n",
       "0                          KTS                        MB   \n",
       "1                          KTS                        MB   \n",
       "2                          KTS                        MB   \n",
       "3                          KTS                        MB   \n",
       "4                          KTS                        MB   \n",
       "..                         ...                       ...   \n",
       "715                        KTS                        MB   \n",
       "716                        KTS                        MB   \n",
       "717                        KTS                        MB   \n",
       "718                        KTS                        MB   \n",
       "719                        KTS                        MB   \n",
       "\n",
       "     associated.utcOffset  associated.location.lon  associated.location.lat  \\\n",
       "0                      -4                -75.96648                36.830361   \n",
       "1                      -4                -75.96648                36.830361   \n",
       "2                      -4                -75.96648                36.830361   \n",
       "3                      -4                -75.96648                36.830361   \n",
       "4                      -4                -75.96648                36.830361   \n",
       "..                    ...                      ...                      ...   \n",
       "715                    -4                -75.96648                36.830361   \n",
       "716                    -4                -75.96648                36.830361   \n",
       "717                    -4                -75.96648                36.830361   \n",
       "718                    -4                -75.96648                36.830361   \n",
       "719                    -4                -75.96648                36.830361   \n",
       "\n",
       "     associated.forecastLocation.lon  ...  \\\n",
       "0                            -75.947  ...   \n",
       "1                            -75.947  ...   \n",
       "2                            -75.947  ...   \n",
       "3                            -75.947  ...   \n",
       "4                            -75.947  ...   \n",
       "..                               ...  ...   \n",
       "715                          -75.947  ...   \n",
       "716                          -75.947  ...   \n",
       "717                          -75.947  ...   \n",
       "718                          -75.947  ...   \n",
       "719                          -75.947  ...   \n",
       "\n",
       "                                             data.wave  permissions.data  \\\n",
       "0    [{'timestamp': 1717905600, 'probability': 63.3...                []   \n",
       "1    [{'timestamp': 1717905600, 'probability': 63.3...                []   \n",
       "2    [{'timestamp': 1717905600, 'probability': 63.3...                []   \n",
       "3    [{'timestamp': 1717905600, 'probability': 63.3...                []   \n",
       "4    [{'timestamp': 1717905600, 'probability': 63.3...                []   \n",
       "..                                                 ...               ...   \n",
       "715  [{'timestamp': 1717905600, 'probability': 63.3...                []   \n",
       "716  [{'timestamp': 1717905600, 'probability': 63.3...                []   \n",
       "717  [{'timestamp': 1717905600, 'probability': 63.3...                []   \n",
       "718  [{'timestamp': 1717905600, 'probability': 63.3...                []   \n",
       "719  [{'timestamp': 1717905600, 'probability': 63.3...                []   \n",
       "\n",
       "                                permissions.violations   height period  \\\n",
       "0    [{'code': 4001, 'message': 'User does not have...  1.21391      7   \n",
       "1    [{'code': 4001, 'message': 'User does not have...  0.49213      8   \n",
       "2    [{'code': 4001, 'message': 'User does not have...  0.00000      0   \n",
       "3    [{'code': 4001, 'message': 'User does not have...  1.11549      3   \n",
       "4    [{'code': 4001, 'message': 'User does not have...  0.00000      0   \n",
       "..                                                 ...      ...    ...   \n",
       "715  [{'code': 4001, 'message': 'User does not have...  0.29528     11   \n",
       "716  [{'code': 4001, 'message': 'User does not have...  0.00000      0   \n",
       "717  [{'code': 4001, 'message': 'User does not have...  0.26247     17   \n",
       "718  [{'code': 4001, 'message': 'User does not have...  0.00000      0   \n",
       "719  [{'code': 4001, 'message': 'User does not have...  0.75459      8   \n",
       "\n",
       "     impact    power  direction  directionMin  optimalScore  \n",
       "0    0.4727  5.48166     134.57       126.900             0  \n",
       "1    0.2265  0.71579      70.56        65.260             0  \n",
       "2    0.0000  0.00000       0.00         0.000             0  \n",
       "3    0.2698  0.58062     156.87       143.265             0  \n",
       "4    0.0000  0.00000       0.00         0.000             0  \n",
       "..      ...      ...        ...           ...           ...  \n",
       "715  0.1464  0.28056     105.90       101.775             0  \n",
       "716  0.0000  0.00000       0.00         0.000             0  \n",
       "717  0.1724  0.62355     102.49        98.775             0  \n",
       "718  0.0000  0.00000       0.00         0.000             0  \n",
       "719  0.2448  1.54614     111.39       104.435             0  \n",
       "\n",
       "[720 rows x 24 columns]"
      ]
     },
     "execution_count": 81,
     "metadata": {},
     "output_type": "execute_result"
    }
   ],
   "source": [
    "jetty_comb_df"
   ]
  },
  {
   "cell_type": "code",
   "execution_count": null,
   "metadata": {},
   "outputs": [],
   "source": []
  }
 ],
 "metadata": {
  "kernelspec": {
   "display_name": ".venv",
   "language": "python",
   "name": "python3"
  },
  "language_info": {
   "codemirror_mode": {
    "name": "ipython",
    "version": 3
   },
   "file_extension": ".py",
   "mimetype": "text/x-python",
   "name": "python",
   "nbconvert_exporter": "python",
   "pygments_lexer": "ipython3",
   "version": "3.10.12"
  }
 },
 "nbformat": 4,
 "nbformat_minor": 2
}
