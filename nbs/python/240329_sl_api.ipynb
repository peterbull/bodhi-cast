{
 "cells": [
  {
   "cell_type": "code",
   "execution_count": 57,
   "metadata": {},
   "outputs": [],
   "source": [
    "import asyncio\n",
    "import json\n",
    "import time\n",
    "from pathlib import Path\n",
    "\n",
    "import aiohttp\n",
    "import numpy as np\n",
    "import pandas as pd\n",
    "import pendulum\n",
    "import requests\n",
    "from dataclasses import dataclass\n",
    "from enum import Enum\n",
    "\n",
    "from sqlalchemy import create_engine, select, text, and_\n",
    "\n",
    "from sqlalchemy.orm import sessionmaker, declarative_base\n",
    "from utils.utils import LOCAL_DATBASE_URL"
   ]
  },
  {
   "cell_type": "code",
   "execution_count": 2,
   "metadata": {},
   "outputs": [],
   "source": [
    "Base = declarative_base()"
   ]
  },
  {
   "cell_type": "code",
   "execution_count": 3,
   "metadata": {},
   "outputs": [],
   "source": [
    "engine = create_engine(LOCAL_DATBASE_URL)\n",
    "SessionLocal = sessionmaker(bind=engine)"
   ]
  },
  {
   "cell_type": "markdown",
   "metadata": {},
   "source": [
    "## Note:\n",
    "See `240220_sl_surf_spots.ipynb` for spot getter"
   ]
  },
  {
   "cell_type": "code",
   "execution_count": 4,
   "metadata": {},
   "outputs": [],
   "source": [
    "response = requests.get(\"https://services.surfline.com/taxonomy?type=taxonomy&id=58f7ed51dadb30820bb3879c&maxDepth=0\")"
   ]
  },
  {
   "cell_type": "markdown",
   "metadata": {},
   "source": [
    "* You will not get Surfline forecast data without a valid Surfline premium login. Add your credentials to `.env.development`:\n",
    "  ```\n",
    "  SURFLINE_EMAIL=xxx\n",
    "  SURFLINE_PASSWORD=yyy\n",
    "  ```"
   ]
  },
  {
   "cell_type": "markdown",
   "metadata": {},
   "source": [
    "##### Requests\n",
    "\n",
    "`https://services.surfline.com/kbyg/spots/forecasts/{type}?{params}`\n",
    "\n",
    "\n",
    "Type|Data\n",
    "----|----\n",
    "rating|array of human-readable and numeric (0-6) ratings\n",
    "wave|array of min/max sizes & optimal scores\n",
    "wind|array of wind directions/speeds & optimal scores\n",
    "tides|array of types & heights\n",
    "weather|array of sunrise/set times, array of temperatures/weather conditions\n",
    "\n",
    "Param|Values|Effect\n",
    "-----|------|------\n",
    "spotId|string|Surfline spot id that you want data for. A typical Surfline URL is `https://www.surfline.com/surf-report/venice-breakwater/590927576a2e4300134fbed8` where `590927576a2e4300134fbed8` is the `spotId`\n",
    "days|integer|Number of forecast days to get (Max 6 w/o access token, Max 17 w/ premium token)\n",
    "intervalHours|integer|Minimum of 1 (hour)\n",
    "maxHeights|boolean|`true` seems to remove min & optimal values from the wave data output\n",
    "sds|boolean|If true, use the new LOTUS forecast engine\n",
    "accesstoken|string|Auth token to get premium data access (optional)\n",
    "\n",
    "Anywhere there is an `optimalScore` the value can be interpreted as follows:\n",
    "\n",
    "Value|Meaning\n",
    "-----|-------\n",
    "0|Suboptimal\n",
    "1|Good\n",
    "2|Optimal\n"
   ]
  },
  {
   "cell_type": "code",
   "execution_count": 5,
   "metadata": {},
   "outputs": [],
   "source": [
    "types = [\"rating\", \"wave\", \"wind\", \"tides\", \"weather\"]\n",
    "params = [\"spotId\", \"days\", \"intervalHours\", \"maxHeights\", \"sds\", \"accesstoken\"]\n",
    "base = \"https://services.surfline.com/kbyg/spots/forecasts\""
   ]
  },
  {
   "cell_type": "code",
   "execution_count": 6,
   "metadata": {},
   "outputs": [],
   "source": [
    "datapath = Path('./data')\n"
   ]
  },
  {
   "cell_type": "code",
   "execution_count": 7,
   "metadata": {},
   "outputs": [],
   "source": [
    "df = pd.read_csv(datapath/'spot_list.csv')"
   ]
  },
  {
   "cell_type": "code",
   "execution_count": 8,
   "metadata": {},
   "outputs": [
    {
     "data": {
      "text/html": [
       "<div>\n",
       "<style scoped>\n",
       "    .dataframe tbody tr th:only-of-type {\n",
       "        vertical-align: middle;\n",
       "    }\n",
       "\n",
       "    .dataframe tbody tr th {\n",
       "        vertical-align: top;\n",
       "    }\n",
       "\n",
       "    .dataframe thead th {\n",
       "        text-align: right;\n",
       "    }\n",
       "</style>\n",
       "<table border=\"1\" class=\"dataframe\">\n",
       "  <thead>\n",
       "    <tr style=\"text-align: right;\">\n",
       "      <th></th>\n",
       "      <th>Unnamed: 0</th>\n",
       "      <th>ids</th>\n",
       "      <th>names</th>\n",
       "      <th>lon</th>\n",
       "      <th>lat</th>\n",
       "      <th>urls</th>\n",
       "    </tr>\n",
       "  </thead>\n",
       "  <tbody>\n",
       "    <tr>\n",
       "      <th>0</th>\n",
       "      <td>0</td>\n",
       "      <td>584204204e65fad6a7709b5d</td>\n",
       "      <td>Dauphin Island</td>\n",
       "      <td>-88.11700</td>\n",
       "      <td>30.229000</td>\n",
       "      <td>https://www.surfline.com/surf-report/dauphin-i...</td>\n",
       "    </tr>\n",
       "    <tr>\n",
       "      <th>1</th>\n",
       "      <td>1</td>\n",
       "      <td>584204204e65fad6a7709b61</td>\n",
       "      <td>Spuds</td>\n",
       "      <td>-87.54900</td>\n",
       "      <td>30.273000</td>\n",
       "      <td>https://www.surfline.com/surf-report/spuds/584...</td>\n",
       "    </tr>\n",
       "    <tr>\n",
       "      <th>2</th>\n",
       "      <td>2</td>\n",
       "      <td>584204204e65fad6a7709b62</td>\n",
       "      <td>Alabama Point</td>\n",
       "      <td>-87.56200</td>\n",
       "      <td>30.270000</td>\n",
       "      <td>https://www.surfline.com/surf-report/alabama-p...</td>\n",
       "    </tr>\n",
       "    <tr>\n",
       "      <th>3</th>\n",
       "      <td>3</td>\n",
       "      <td>584204204e65fad6a7709b60</td>\n",
       "      <td>West Pass</td>\n",
       "      <td>-87.73700</td>\n",
       "      <td>30.239000</td>\n",
       "      <td>https://www.surfline.com/surf-report/west-pass...</td>\n",
       "    </tr>\n",
       "    <tr>\n",
       "      <th>4</th>\n",
       "      <td>4</td>\n",
       "      <td>65948156c329a78a0914a15e</td>\n",
       "      <td>Morgantown Beach</td>\n",
       "      <td>-87.91913</td>\n",
       "      <td>30.230299</td>\n",
       "      <td>https://www.surfline.com/surf-report/morgantow...</td>\n",
       "    </tr>\n",
       "  </tbody>\n",
       "</table>\n",
       "</div>"
      ],
      "text/plain": [
       "   Unnamed: 0                       ids             names       lon  \\\n",
       "0           0  584204204e65fad6a7709b5d    Dauphin Island -88.11700   \n",
       "1           1  584204204e65fad6a7709b61             Spuds -87.54900   \n",
       "2           2  584204204e65fad6a7709b62     Alabama Point -87.56200   \n",
       "3           3  584204204e65fad6a7709b60         West Pass -87.73700   \n",
       "4           4  65948156c329a78a0914a15e  Morgantown Beach -87.91913   \n",
       "\n",
       "         lat                                               urls  \n",
       "0  30.229000  https://www.surfline.com/surf-report/dauphin-i...  \n",
       "1  30.273000  https://www.surfline.com/surf-report/spuds/584...  \n",
       "2  30.270000  https://www.surfline.com/surf-report/alabama-p...  \n",
       "3  30.239000  https://www.surfline.com/surf-report/west-pass...  \n",
       "4  30.230299  https://www.surfline.com/surf-report/morgantow...  "
      ]
     },
     "execution_count": 8,
     "metadata": {},
     "output_type": "execute_result"
    }
   ],
   "source": [
    "df.head()"
   ]
  },
  {
   "cell_type": "markdown",
   "metadata": {},
   "source": [
    "Get the spot `id` for 1st Street Jetty in Va Beach"
   ]
  },
  {
   "cell_type": "code",
   "execution_count": 9,
   "metadata": {},
   "outputs": [
    {
     "data": {
      "text/plain": [
       "'584204214e65fad6a7709ce7'"
      ]
     },
     "execution_count": 9,
     "metadata": {},
     "output_type": "execute_result"
    }
   ],
   "source": [
    "jetty_id = df[df['names'].str.contains('1st Street Jetty', case=False, na=False)]['ids'].values[0]\n",
    "jetty_id"
   ]
  },
  {
   "cell_type": "code",
   "execution_count": 10,
   "metadata": {},
   "outputs": [
    {
     "data": {
      "text/plain": [
       "{'spotId': '584204214e65fad6a7709ce7'}"
      ]
     },
     "execution_count": 10,
     "metadata": {},
     "output_type": "execute_result"
    }
   ],
   "source": [
    "ex_params = {params[0]: jetty_id}\n",
    "ex_params"
   ]
  },
  {
   "cell_type": "markdown",
   "metadata": {},
   "source": [
    "Surfline seems to change their spot IDs periodically. Check a spot on the website and pass the objectId from the url as a param to debug if this is the case. If they've changed you'll need to run the notebook `240220_sl_surf_spots.ipynb` as mentioned above to refresh the spots dataset"
   ]
  },
  {
   "cell_type": "code",
   "execution_count": 11,
   "metadata": {},
   "outputs": [],
   "source": [
    "debug_params = {params[0]: \"584204214e65fad6a7709ce7\"}"
   ]
  },
  {
   "cell_type": "code",
   "execution_count": 12,
   "metadata": {},
   "outputs": [
    {
     "data": {
      "text/plain": [
       "200"
      ]
     },
     "execution_count": 12,
     "metadata": {},
     "output_type": "execute_result"
    }
   ],
   "source": [
    "res = requests.get(f\"{base}/{types[0]}\", params=ex_params)\n",
    "res.status_code"
   ]
  },
  {
   "cell_type": "code",
   "execution_count": 13,
   "metadata": {},
   "outputs": [],
   "source": [
    "rating_json = res.json()"
   ]
  },
  {
   "cell_type": "code",
   "execution_count": 14,
   "metadata": {},
   "outputs": [],
   "source": [
    "four_day_json = res.json()\n",
    "if 'data' in four_day_json and 'rating' in four_day_json['data']:\n",
    "    four_day_json['data']['rating'] = four_day_json['data']['rating'][:24]"
   ]
  },
  {
   "cell_type": "code",
   "execution_count": 15,
   "metadata": {},
   "outputs": [],
   "source": [
    "def cull_extra_days(full_json):\n",
    "    if 'data' in full_json and 'rating' in full_json['data']:\n",
    "        full_json['data']['rating'] = full_json['data']['rating'][:24]"
   ]
  },
  {
   "cell_type": "markdown",
   "metadata": {},
   "source": [
    "Drop extra days of forecast"
   ]
  },
  {
   "cell_type": "code",
   "execution_count": 16,
   "metadata": {},
   "outputs": [],
   "source": [
    "cull_extra_days(four_day_json)"
   ]
  },
  {
   "cell_type": "code",
   "execution_count": 17,
   "metadata": {},
   "outputs": [
    {
     "data": {
      "text/plain": [
       "24"
      ]
     },
     "execution_count": 17,
     "metadata": {},
     "output_type": "execute_result"
    }
   ],
   "source": [
    "len(four_day_json['data']['rating'])"
   ]
  },
  {
   "cell_type": "markdown",
   "metadata": {},
   "source": [
    "Convert a unix timestamp -> utc"
   ]
  },
  {
   "cell_type": "code",
   "execution_count": 18,
   "metadata": {},
   "outputs": [
    {
     "data": {
      "text/plain": [
       "DateTime(2024, 6, 9, 4, 0, 0, tzinfo=Timezone('UTC'))"
      ]
     },
     "execution_count": 18,
     "metadata": {},
     "output_type": "execute_result"
    }
   ],
   "source": [
    "pendulum.from_timestamp(rating_json['data']['rating'][0]['timestamp'], 'UTC')"
   ]
  },
  {
   "cell_type": "code",
   "execution_count": 19,
   "metadata": {},
   "outputs": [
    {
     "data": {
      "text/plain": [
       "DateTime(2024, 6, 10, 3, 0, 0, tzinfo=Timezone('UTC'))"
      ]
     },
     "execution_count": 19,
     "metadata": {},
     "output_type": "execute_result"
    }
   ],
   "source": [
    "pendulum.from_timestamp(rating_json['data']['rating'][int(72 / 3)-1]['timestamp'], 'UTC')"
   ]
  },
  {
   "cell_type": "markdown",
   "metadata": {},
   "source": [
    "The `utcOffset` field seems to be aware that I'm working in EST currently. Either that or it's the time coding for the spot itself.\n",
    "\n",
    "Let's check a west coast spot to confirm how this is handled"
   ]
  },
  {
   "cell_type": "code",
   "execution_count": 20,
   "metadata": {},
   "outputs": [
    {
     "data": {
      "text/html": [
       "<div>\n",
       "<style scoped>\n",
       "    .dataframe tbody tr th:only-of-type {\n",
       "        vertical-align: middle;\n",
       "    }\n",
       "\n",
       "    .dataframe tbody tr th {\n",
       "        vertical-align: top;\n",
       "    }\n",
       "\n",
       "    .dataframe thead th {\n",
       "        text-align: right;\n",
       "    }\n",
       "</style>\n",
       "<table border=\"1\" class=\"dataframe\">\n",
       "  <thead>\n",
       "    <tr style=\"text-align: right;\">\n",
       "      <th></th>\n",
       "      <th>Unnamed: 0</th>\n",
       "      <th>ids</th>\n",
       "      <th>names</th>\n",
       "      <th>lon</th>\n",
       "      <th>lat</th>\n",
       "      <th>urls</th>\n",
       "    </tr>\n",
       "  </thead>\n",
       "  <tbody>\n",
       "    <tr>\n",
       "      <th>0</th>\n",
       "      <td>0</td>\n",
       "      <td>584204204e65fad6a7709b5d</td>\n",
       "      <td>Dauphin Island</td>\n",
       "      <td>-88.117000</td>\n",
       "      <td>30.229000</td>\n",
       "      <td>https://www.surfline.com/surf-report/dauphin-i...</td>\n",
       "    </tr>\n",
       "    <tr>\n",
       "      <th>1</th>\n",
       "      <td>1</td>\n",
       "      <td>584204204e65fad6a7709b61</td>\n",
       "      <td>Spuds</td>\n",
       "      <td>-87.549000</td>\n",
       "      <td>30.273000</td>\n",
       "      <td>https://www.surfline.com/surf-report/spuds/584...</td>\n",
       "    </tr>\n",
       "    <tr>\n",
       "      <th>2</th>\n",
       "      <td>2</td>\n",
       "      <td>584204204e65fad6a7709b62</td>\n",
       "      <td>Alabama Point</td>\n",
       "      <td>-87.562000</td>\n",
       "      <td>30.270000</td>\n",
       "      <td>https://www.surfline.com/surf-report/alabama-p...</td>\n",
       "    </tr>\n",
       "    <tr>\n",
       "      <th>3</th>\n",
       "      <td>3</td>\n",
       "      <td>584204204e65fad6a7709b60</td>\n",
       "      <td>West Pass</td>\n",
       "      <td>-87.737000</td>\n",
       "      <td>30.239000</td>\n",
       "      <td>https://www.surfline.com/surf-report/west-pass...</td>\n",
       "    </tr>\n",
       "    <tr>\n",
       "      <th>4</th>\n",
       "      <td>4</td>\n",
       "      <td>65948156c329a78a0914a15e</td>\n",
       "      <td>Morgantown Beach</td>\n",
       "      <td>-87.919130</td>\n",
       "      <td>30.230299</td>\n",
       "      <td>https://www.surfline.com/surf-report/morgantow...</td>\n",
       "    </tr>\n",
       "    <tr>\n",
       "      <th>...</th>\n",
       "      <td>...</td>\n",
       "      <td>...</td>\n",
       "      <td>...</td>\n",
       "      <td>...</td>\n",
       "      <td>...</td>\n",
       "      <td>...</td>\n",
       "    </tr>\n",
       "    <tr>\n",
       "      <th>1298</th>\n",
       "      <td>1298</td>\n",
       "      <td>640a2d14451905376297f483</td>\n",
       "      <td>Rutherford Beach</td>\n",
       "      <td>-93.124300</td>\n",
       "      <td>29.758500</td>\n",
       "      <td>https://www.surfline.com/surf-report/rutherfor...</td>\n",
       "    </tr>\n",
       "    <tr>\n",
       "      <th>1299</th>\n",
       "      <td>1299</td>\n",
       "      <td>5842041f4e65fad6a7708a1a</td>\n",
       "      <td>Assateague</td>\n",
       "      <td>-75.177040</td>\n",
       "      <td>38.148058</td>\n",
       "      <td>https://www.surfline.com/surf-report/assateagu...</td>\n",
       "    </tr>\n",
       "    <tr>\n",
       "      <th>1300</th>\n",
       "      <td>1300</td>\n",
       "      <td>5842041f4e65fad6a770886d</td>\n",
       "      <td>Ocean City Boardwalk</td>\n",
       "      <td>-75.081170</td>\n",
       "      <td>38.338461</td>\n",
       "      <td>https://www.surfline.com/surf-report/ocean-cit...</td>\n",
       "    </tr>\n",
       "    <tr>\n",
       "      <th>1301</th>\n",
       "      <td>1301</td>\n",
       "      <td>5842041f4e65fad6a7708a1b</td>\n",
       "      <td>North End to Ocean City Inlet</td>\n",
       "      <td>-75.080177</td>\n",
       "      <td>38.338890</td>\n",
       "      <td>https://www.surfline.com/surf-report/north-end...</td>\n",
       "    </tr>\n",
       "    <tr>\n",
       "      <th>1302</th>\n",
       "      <td>1302</td>\n",
       "      <td>6307df22782926254d3d5210</td>\n",
       "      <td>Midtown</td>\n",
       "      <td>-75.070130</td>\n",
       "      <td>38.365051</td>\n",
       "      <td>https://www.surfline.com/surf-report/midtown/6...</td>\n",
       "    </tr>\n",
       "  </tbody>\n",
       "</table>\n",
       "<p>1303 rows × 6 columns</p>\n",
       "</div>"
      ],
      "text/plain": [
       "      Unnamed: 0                       ids                          names  \\\n",
       "0              0  584204204e65fad6a7709b5d                 Dauphin Island   \n",
       "1              1  584204204e65fad6a7709b61                          Spuds   \n",
       "2              2  584204204e65fad6a7709b62                  Alabama Point   \n",
       "3              3  584204204e65fad6a7709b60                      West Pass   \n",
       "4              4  65948156c329a78a0914a15e               Morgantown Beach   \n",
       "...          ...                       ...                            ...   \n",
       "1298        1298  640a2d14451905376297f483               Rutherford Beach   \n",
       "1299        1299  5842041f4e65fad6a7708a1a                     Assateague   \n",
       "1300        1300  5842041f4e65fad6a770886d           Ocean City Boardwalk   \n",
       "1301        1301  5842041f4e65fad6a7708a1b  North End to Ocean City Inlet   \n",
       "1302        1302  6307df22782926254d3d5210                        Midtown   \n",
       "\n",
       "            lon        lat                                               urls  \n",
       "0    -88.117000  30.229000  https://www.surfline.com/surf-report/dauphin-i...  \n",
       "1    -87.549000  30.273000  https://www.surfline.com/surf-report/spuds/584...  \n",
       "2    -87.562000  30.270000  https://www.surfline.com/surf-report/alabama-p...  \n",
       "3    -87.737000  30.239000  https://www.surfline.com/surf-report/west-pass...  \n",
       "4    -87.919130  30.230299  https://www.surfline.com/surf-report/morgantow...  \n",
       "...         ...        ...                                                ...  \n",
       "1298 -93.124300  29.758500  https://www.surfline.com/surf-report/rutherfor...  \n",
       "1299 -75.177040  38.148058  https://www.surfline.com/surf-report/assateagu...  \n",
       "1300 -75.081170  38.338461  https://www.surfline.com/surf-report/ocean-cit...  \n",
       "1301 -75.080177  38.338890  https://www.surfline.com/surf-report/north-end...  \n",
       "1302 -75.070130  38.365051  https://www.surfline.com/surf-report/midtown/6...  \n",
       "\n",
       "[1303 rows x 6 columns]"
      ]
     },
     "execution_count": 20,
     "metadata": {},
     "output_type": "execute_result"
    }
   ],
   "source": [
    "df"
   ]
  },
  {
   "cell_type": "code",
   "execution_count": 21,
   "metadata": {},
   "outputs": [],
   "source": [
    "la_jolla_id = df[df['names'].str.contains(\"La Jolla\", case=False, na=False)]['ids'].values[0]\n",
    "la_jolla_dict = {params[0]: la_jolla_id}"
   ]
  },
  {
   "cell_type": "code",
   "execution_count": 22,
   "metadata": {},
   "outputs": [
    {
     "data": {
      "text/plain": [
       "{'spotId': '5842041f4e65fad6a77088cc'}"
      ]
     },
     "execution_count": 22,
     "metadata": {},
     "output_type": "execute_result"
    }
   ],
   "source": [
    "la_jolla_dict"
   ]
  },
  {
   "cell_type": "code",
   "execution_count": 23,
   "metadata": {},
   "outputs": [
    {
     "data": {
      "text/plain": [
       "DateTime(2024, 6, 9, 12, 54, 10, 347369, tzinfo=Timezone('UTC'))"
      ]
     },
     "execution_count": 23,
     "metadata": {},
     "output_type": "execute_result"
    }
   ],
   "source": [
    "pendulum.now(\"utc\")"
   ]
  },
  {
   "cell_type": "code",
   "execution_count": 24,
   "metadata": {},
   "outputs": [],
   "source": [
    "new_dict = {\"spot_id\": \"test\", \"spot_name\": \"test_2\", \"date\": pendulum.now(\"utc\"), \"forecast\": four_day_json}"
   ]
  },
  {
   "cell_type": "code",
   "execution_count": 59,
   "metadata": {},
   "outputs": [],
   "source": [
    "@dataclass\n",
    "class SlApiEndpoints(Enum):\n",
    "    RATING = 'rating'\n",
    "    WAVE = 'wave'\n",
    "    WIND = 'wind'\n",
    "    TIDES = 'tides'\n",
    "    WEATHER = 'weather'"
   ]
  },
  {
   "cell_type": "code",
   "execution_count": 60,
   "metadata": {},
   "outputs": [],
   "source": [
    "@dataclass\n",
    "class SlApiParams(Enum):\n",
    "    SPOT_ID = 'spotId'\n",
    "    DAYS = 'days'\n",
    "    INTERVAL_HOURS = 'intervalHours'\n",
    "    MAX_HEIGHTS = 'maxHeights'\n",
    "    SDS = 'sds'\n",
    "    ACCESSTOKEN = 'accesstoken'"
   ]
  },
  {
   "cell_type": "code",
   "execution_count": 65,
   "metadata": {},
   "outputs": [],
   "source": [
    "def fetch_from_sl_api(endpoint: SlApiEndpoints, param_type: SlApiParams, param: str):\n",
    "    base_url = \"https://services.surfline.com/kbyg/spots/forecasts\"\n",
    "    res = requests.get(f\"{base_url}/{endpoint}\", params={param_type: param})\n",
    "    data = res.json()\n",
    "    return data"
   ]
  },
  {
   "cell_type": "code",
   "execution_count": 71,
   "metadata": {},
   "outputs": [],
   "source": [
    "test = SlApiEndpoints.RATING"
   ]
  },
  {
   "cell_type": "code",
   "execution_count": 74,
   "metadata": {},
   "outputs": [],
   "source": [
    "test_res = fetch_from_sl_api(SlApiEndpoints.RATING.value, SlApiParams.SPOT_ID.value, param=jetty_id)"
   ]
  },
  {
   "cell_type": "code",
   "execution_count": 25,
   "metadata": {},
   "outputs": [],
   "source": [
    "spot_ratings = []\n",
    "for spot_id, spot_name in df[['ids', 'names']][:3].values:\n",
    "    res = requests.get(f\"{base}/rating\", params={'spotId': spot_id})\n",
    "    data = res.json()\n",
    "    cull_extra_days(data)\n",
    "    current_date = pendulum.now(\"utc\")\n",
    "    utc_date = current_date.strftime(\"%Y-%m-%d\")\n",
    "    data['spot_id'] = spot_id\n",
    "    data['spot_name'] = spot_name\n",
    "    data['utc_fetch_date'] = utc_date\n",
    "    spot_ratings.append(data)\n",
    "    # time.sleep()"
   ]
  },
  {
   "cell_type": "markdown",
   "metadata": {},
   "source": []
  },
  {
   "cell_type": "code",
   "execution_count": 26,
   "metadata": {},
   "outputs": [
    {
     "data": {
      "text/plain": [
       "DateTime(2024, 6, 9, 4, 0, 0, tzinfo=Timezone('UTC'))"
      ]
     },
     "execution_count": 26,
     "metadata": {},
     "output_type": "execute_result"
    }
   ],
   "source": [
    "pendulum.from_timestamp(rating_json['data']['rating'][0]['timestamp'], 'UTC')"
   ]
  },
  {
   "cell_type": "code",
   "execution_count": 27,
   "metadata": {},
   "outputs": [],
   "source": [
    "ratings_df = pd.json_normalize(spot_ratings, record_path=['data', 'rating'], meta=['spot_id', 'spot_name', 'utc_fetch_date'] )"
   ]
  },
  {
   "cell_type": "code",
   "execution_count": 28,
   "metadata": {},
   "outputs": [
    {
     "data": {
      "text/html": [
       "<div>\n",
       "<style scoped>\n",
       "    .dataframe tbody tr th:only-of-type {\n",
       "        vertical-align: middle;\n",
       "    }\n",
       "\n",
       "    .dataframe tbody tr th {\n",
       "        vertical-align: top;\n",
       "    }\n",
       "\n",
       "    .dataframe thead th {\n",
       "        text-align: right;\n",
       "    }\n",
       "</style>\n",
       "<table border=\"1\" class=\"dataframe\">\n",
       "  <thead>\n",
       "    <tr style=\"text-align: right;\">\n",
       "      <th></th>\n",
       "      <th>timestamp</th>\n",
       "      <th>utcOffset</th>\n",
       "      <th>rating.key</th>\n",
       "      <th>rating.value</th>\n",
       "      <th>spot_id</th>\n",
       "      <th>spot_name</th>\n",
       "      <th>utc_fetch_date</th>\n",
       "    </tr>\n",
       "  </thead>\n",
       "  <tbody>\n",
       "    <tr>\n",
       "      <th>0</th>\n",
       "      <td>1717909200</td>\n",
       "      <td>-5</td>\n",
       "      <td>VERY_POOR</td>\n",
       "      <td>0</td>\n",
       "      <td>584204204e65fad6a7709b5d</td>\n",
       "      <td>Dauphin Island</td>\n",
       "      <td>2024-06-09</td>\n",
       "    </tr>\n",
       "    <tr>\n",
       "      <th>1</th>\n",
       "      <td>1717912800</td>\n",
       "      <td>-5</td>\n",
       "      <td>VERY_POOR</td>\n",
       "      <td>0</td>\n",
       "      <td>584204204e65fad6a7709b5d</td>\n",
       "      <td>Dauphin Island</td>\n",
       "      <td>2024-06-09</td>\n",
       "    </tr>\n",
       "    <tr>\n",
       "      <th>2</th>\n",
       "      <td>1717916400</td>\n",
       "      <td>-5</td>\n",
       "      <td>VERY_POOR</td>\n",
       "      <td>0</td>\n",
       "      <td>584204204e65fad6a7709b5d</td>\n",
       "      <td>Dauphin Island</td>\n",
       "      <td>2024-06-09</td>\n",
       "    </tr>\n",
       "    <tr>\n",
       "      <th>3</th>\n",
       "      <td>1717920000</td>\n",
       "      <td>-5</td>\n",
       "      <td>VERY_POOR</td>\n",
       "      <td>0</td>\n",
       "      <td>584204204e65fad6a7709b5d</td>\n",
       "      <td>Dauphin Island</td>\n",
       "      <td>2024-06-09</td>\n",
       "    </tr>\n",
       "    <tr>\n",
       "      <th>4</th>\n",
       "      <td>1717923600</td>\n",
       "      <td>-5</td>\n",
       "      <td>VERY_POOR</td>\n",
       "      <td>0</td>\n",
       "      <td>584204204e65fad6a7709b5d</td>\n",
       "      <td>Dauphin Island</td>\n",
       "      <td>2024-06-09</td>\n",
       "    </tr>\n",
       "    <tr>\n",
       "      <th>...</th>\n",
       "      <td>...</td>\n",
       "      <td>...</td>\n",
       "      <td>...</td>\n",
       "      <td>...</td>\n",
       "      <td>...</td>\n",
       "      <td>...</td>\n",
       "      <td>...</td>\n",
       "    </tr>\n",
       "    <tr>\n",
       "      <th>67</th>\n",
       "      <td>1717977600</td>\n",
       "      <td>-5</td>\n",
       "      <td>VERY_POOR</td>\n",
       "      <td>0</td>\n",
       "      <td>584204204e65fad6a7709b62</td>\n",
       "      <td>Alabama Point</td>\n",
       "      <td>2024-06-09</td>\n",
       "    </tr>\n",
       "    <tr>\n",
       "      <th>68</th>\n",
       "      <td>1717981200</td>\n",
       "      <td>-5</td>\n",
       "      <td>VERY_POOR</td>\n",
       "      <td>0</td>\n",
       "      <td>584204204e65fad6a7709b62</td>\n",
       "      <td>Alabama Point</td>\n",
       "      <td>2024-06-09</td>\n",
       "    </tr>\n",
       "    <tr>\n",
       "      <th>69</th>\n",
       "      <td>1717984800</td>\n",
       "      <td>-5</td>\n",
       "      <td>VERY_POOR</td>\n",
       "      <td>0</td>\n",
       "      <td>584204204e65fad6a7709b62</td>\n",
       "      <td>Alabama Point</td>\n",
       "      <td>2024-06-09</td>\n",
       "    </tr>\n",
       "    <tr>\n",
       "      <th>70</th>\n",
       "      <td>1717988400</td>\n",
       "      <td>-5</td>\n",
       "      <td>POOR</td>\n",
       "      <td>1</td>\n",
       "      <td>584204204e65fad6a7709b62</td>\n",
       "      <td>Alabama Point</td>\n",
       "      <td>2024-06-09</td>\n",
       "    </tr>\n",
       "    <tr>\n",
       "      <th>71</th>\n",
       "      <td>1717992000</td>\n",
       "      <td>-5</td>\n",
       "      <td>POOR</td>\n",
       "      <td>1</td>\n",
       "      <td>584204204e65fad6a7709b62</td>\n",
       "      <td>Alabama Point</td>\n",
       "      <td>2024-06-09</td>\n",
       "    </tr>\n",
       "  </tbody>\n",
       "</table>\n",
       "<p>72 rows × 7 columns</p>\n",
       "</div>"
      ],
      "text/plain": [
       "     timestamp  utcOffset rating.key  rating.value                   spot_id  \\\n",
       "0   1717909200         -5  VERY_POOR             0  584204204e65fad6a7709b5d   \n",
       "1   1717912800         -5  VERY_POOR             0  584204204e65fad6a7709b5d   \n",
       "2   1717916400         -5  VERY_POOR             0  584204204e65fad6a7709b5d   \n",
       "3   1717920000         -5  VERY_POOR             0  584204204e65fad6a7709b5d   \n",
       "4   1717923600         -5  VERY_POOR             0  584204204e65fad6a7709b5d   \n",
       "..         ...        ...        ...           ...                       ...   \n",
       "67  1717977600         -5  VERY_POOR             0  584204204e65fad6a7709b62   \n",
       "68  1717981200         -5  VERY_POOR             0  584204204e65fad6a7709b62   \n",
       "69  1717984800         -5  VERY_POOR             0  584204204e65fad6a7709b62   \n",
       "70  1717988400         -5       POOR             1  584204204e65fad6a7709b62   \n",
       "71  1717992000         -5       POOR             1  584204204e65fad6a7709b62   \n",
       "\n",
       "         spot_name utc_fetch_date  \n",
       "0   Dauphin Island     2024-06-09  \n",
       "1   Dauphin Island     2024-06-09  \n",
       "2   Dauphin Island     2024-06-09  \n",
       "3   Dauphin Island     2024-06-09  \n",
       "4   Dauphin Island     2024-06-09  \n",
       "..             ...            ...  \n",
       "67   Alabama Point     2024-06-09  \n",
       "68   Alabama Point     2024-06-09  \n",
       "69   Alabama Point     2024-06-09  \n",
       "70   Alabama Point     2024-06-09  \n",
       "71   Alabama Point     2024-06-09  \n",
       "\n",
       "[72 rows x 7 columns]"
      ]
     },
     "execution_count": 28,
     "metadata": {},
     "output_type": "execute_result"
    }
   ],
   "source": [
    "ratings_df"
   ]
  },
  {
   "cell_type": "code",
   "execution_count": 29,
   "metadata": {},
   "outputs": [],
   "source": [
    "ratings_df['timestamp'] = ratings_df['timestamp'].apply(lambda x: pendulum.from_timestamp(x).to_datetime_string())"
   ]
  },
  {
   "cell_type": "markdown",
   "metadata": {},
   "source": [
    "Alright, so it looks like each spot's forecast starts at 12am *local time*, with the timestamp for that time in unix. To figure out the flat `UTC` time for each spot you can just apply the `utcOffset` that is included in response. "
   ]
  },
  {
   "cell_type": "code",
   "execution_count": 42,
   "metadata": {},
   "outputs": [],
   "source": [
    "ratings_df['timestamp'] = pd.to_datetime(ratings_df['timestamp'])"
   ]
  },
  {
   "cell_type": "code",
   "execution_count": 48,
   "metadata": {},
   "outputs": [],
   "source": [
    "ratings_df['timestamp_utc'] = ratings_df['timestamp'].apply(lambda x: x - pd.Timedelta(hours=5))"
   ]
  },
  {
   "cell_type": "code",
   "execution_count": 49,
   "metadata": {},
   "outputs": [
    {
     "data": {
      "text/html": [
       "<div>\n",
       "<style scoped>\n",
       "    .dataframe tbody tr th:only-of-type {\n",
       "        vertical-align: middle;\n",
       "    }\n",
       "\n",
       "    .dataframe tbody tr th {\n",
       "        vertical-align: top;\n",
       "    }\n",
       "\n",
       "    .dataframe thead th {\n",
       "        text-align: right;\n",
       "    }\n",
       "</style>\n",
       "<table border=\"1\" class=\"dataframe\">\n",
       "  <thead>\n",
       "    <tr style=\"text-align: right;\">\n",
       "      <th></th>\n",
       "      <th>timestamp</th>\n",
       "      <th>utcOffset</th>\n",
       "      <th>rating.key</th>\n",
       "      <th>rating.value</th>\n",
       "      <th>spot_id</th>\n",
       "      <th>spot_name</th>\n",
       "      <th>utc_fetch_date</th>\n",
       "      <th>timestamp_utc</th>\n",
       "    </tr>\n",
       "  </thead>\n",
       "  <tbody>\n",
       "    <tr>\n",
       "      <th>0</th>\n",
       "      <td>2024-06-09 05:00:00</td>\n",
       "      <td>-5</td>\n",
       "      <td>VERY_POOR</td>\n",
       "      <td>0</td>\n",
       "      <td>584204204e65fad6a7709b5d</td>\n",
       "      <td>Dauphin Island</td>\n",
       "      <td>2024-06-09</td>\n",
       "      <td>2024-06-09 00:00:00</td>\n",
       "    </tr>\n",
       "    <tr>\n",
       "      <th>1</th>\n",
       "      <td>2024-06-09 06:00:00</td>\n",
       "      <td>-5</td>\n",
       "      <td>VERY_POOR</td>\n",
       "      <td>0</td>\n",
       "      <td>584204204e65fad6a7709b5d</td>\n",
       "      <td>Dauphin Island</td>\n",
       "      <td>2024-06-09</td>\n",
       "      <td>2024-06-09 01:00:00</td>\n",
       "    </tr>\n",
       "    <tr>\n",
       "      <th>2</th>\n",
       "      <td>2024-06-09 07:00:00</td>\n",
       "      <td>-5</td>\n",
       "      <td>VERY_POOR</td>\n",
       "      <td>0</td>\n",
       "      <td>584204204e65fad6a7709b5d</td>\n",
       "      <td>Dauphin Island</td>\n",
       "      <td>2024-06-09</td>\n",
       "      <td>2024-06-09 02:00:00</td>\n",
       "    </tr>\n",
       "    <tr>\n",
       "      <th>3</th>\n",
       "      <td>2024-06-09 08:00:00</td>\n",
       "      <td>-5</td>\n",
       "      <td>VERY_POOR</td>\n",
       "      <td>0</td>\n",
       "      <td>584204204e65fad6a7709b5d</td>\n",
       "      <td>Dauphin Island</td>\n",
       "      <td>2024-06-09</td>\n",
       "      <td>2024-06-09 03:00:00</td>\n",
       "    </tr>\n",
       "    <tr>\n",
       "      <th>4</th>\n",
       "      <td>2024-06-09 09:00:00</td>\n",
       "      <td>-5</td>\n",
       "      <td>VERY_POOR</td>\n",
       "      <td>0</td>\n",
       "      <td>584204204e65fad6a7709b5d</td>\n",
       "      <td>Dauphin Island</td>\n",
       "      <td>2024-06-09</td>\n",
       "      <td>2024-06-09 04:00:00</td>\n",
       "    </tr>\n",
       "    <tr>\n",
       "      <th>...</th>\n",
       "      <td>...</td>\n",
       "      <td>...</td>\n",
       "      <td>...</td>\n",
       "      <td>...</td>\n",
       "      <td>...</td>\n",
       "      <td>...</td>\n",
       "      <td>...</td>\n",
       "      <td>...</td>\n",
       "    </tr>\n",
       "    <tr>\n",
       "      <th>67</th>\n",
       "      <td>2024-06-10 00:00:00</td>\n",
       "      <td>-5</td>\n",
       "      <td>VERY_POOR</td>\n",
       "      <td>0</td>\n",
       "      <td>584204204e65fad6a7709b62</td>\n",
       "      <td>Alabama Point</td>\n",
       "      <td>2024-06-09</td>\n",
       "      <td>2024-06-09 19:00:00</td>\n",
       "    </tr>\n",
       "    <tr>\n",
       "      <th>68</th>\n",
       "      <td>2024-06-10 01:00:00</td>\n",
       "      <td>-5</td>\n",
       "      <td>VERY_POOR</td>\n",
       "      <td>0</td>\n",
       "      <td>584204204e65fad6a7709b62</td>\n",
       "      <td>Alabama Point</td>\n",
       "      <td>2024-06-09</td>\n",
       "      <td>2024-06-09 20:00:00</td>\n",
       "    </tr>\n",
       "    <tr>\n",
       "      <th>69</th>\n",
       "      <td>2024-06-10 02:00:00</td>\n",
       "      <td>-5</td>\n",
       "      <td>VERY_POOR</td>\n",
       "      <td>0</td>\n",
       "      <td>584204204e65fad6a7709b62</td>\n",
       "      <td>Alabama Point</td>\n",
       "      <td>2024-06-09</td>\n",
       "      <td>2024-06-09 21:00:00</td>\n",
       "    </tr>\n",
       "    <tr>\n",
       "      <th>70</th>\n",
       "      <td>2024-06-10 03:00:00</td>\n",
       "      <td>-5</td>\n",
       "      <td>POOR</td>\n",
       "      <td>1</td>\n",
       "      <td>584204204e65fad6a7709b62</td>\n",
       "      <td>Alabama Point</td>\n",
       "      <td>2024-06-09</td>\n",
       "      <td>2024-06-09 22:00:00</td>\n",
       "    </tr>\n",
       "    <tr>\n",
       "      <th>71</th>\n",
       "      <td>2024-06-10 04:00:00</td>\n",
       "      <td>-5</td>\n",
       "      <td>POOR</td>\n",
       "      <td>1</td>\n",
       "      <td>584204204e65fad6a7709b62</td>\n",
       "      <td>Alabama Point</td>\n",
       "      <td>2024-06-09</td>\n",
       "      <td>2024-06-09 23:00:00</td>\n",
       "    </tr>\n",
       "  </tbody>\n",
       "</table>\n",
       "<p>72 rows × 8 columns</p>\n",
       "</div>"
      ],
      "text/plain": [
       "             timestamp  utcOffset rating.key  rating.value  \\\n",
       "0  2024-06-09 05:00:00         -5  VERY_POOR             0   \n",
       "1  2024-06-09 06:00:00         -5  VERY_POOR             0   \n",
       "2  2024-06-09 07:00:00         -5  VERY_POOR             0   \n",
       "3  2024-06-09 08:00:00         -5  VERY_POOR             0   \n",
       "4  2024-06-09 09:00:00         -5  VERY_POOR             0   \n",
       "..                 ...        ...        ...           ...   \n",
       "67 2024-06-10 00:00:00         -5  VERY_POOR             0   \n",
       "68 2024-06-10 01:00:00         -5  VERY_POOR             0   \n",
       "69 2024-06-10 02:00:00         -5  VERY_POOR             0   \n",
       "70 2024-06-10 03:00:00         -5       POOR             1   \n",
       "71 2024-06-10 04:00:00         -5       POOR             1   \n",
       "\n",
       "                     spot_id       spot_name utc_fetch_date  \\\n",
       "0   584204204e65fad6a7709b5d  Dauphin Island     2024-06-09   \n",
       "1   584204204e65fad6a7709b5d  Dauphin Island     2024-06-09   \n",
       "2   584204204e65fad6a7709b5d  Dauphin Island     2024-06-09   \n",
       "3   584204204e65fad6a7709b5d  Dauphin Island     2024-06-09   \n",
       "4   584204204e65fad6a7709b5d  Dauphin Island     2024-06-09   \n",
       "..                       ...             ...            ...   \n",
       "67  584204204e65fad6a7709b62   Alabama Point     2024-06-09   \n",
       "68  584204204e65fad6a7709b62   Alabama Point     2024-06-09   \n",
       "69  584204204e65fad6a7709b62   Alabama Point     2024-06-09   \n",
       "70  584204204e65fad6a7709b62   Alabama Point     2024-06-09   \n",
       "71  584204204e65fad6a7709b62   Alabama Point     2024-06-09   \n",
       "\n",
       "         timestamp_utc  \n",
       "0  2024-06-09 00:00:00  \n",
       "1  2024-06-09 01:00:00  \n",
       "2  2024-06-09 02:00:00  \n",
       "3  2024-06-09 03:00:00  \n",
       "4  2024-06-09 04:00:00  \n",
       "..                 ...  \n",
       "67 2024-06-09 19:00:00  \n",
       "68 2024-06-09 20:00:00  \n",
       "69 2024-06-09 21:00:00  \n",
       "70 2024-06-09 22:00:00  \n",
       "71 2024-06-09 23:00:00  \n",
       "\n",
       "[72 rows x 8 columns]"
      ]
     },
     "execution_count": 49,
     "metadata": {},
     "output_type": "execute_result"
    }
   ],
   "source": [
    "ratings_df"
   ]
  },
  {
   "cell_type": "code",
   "execution_count": 44,
   "metadata": {},
   "outputs": [
    {
     "data": {
      "text/plain": [
       "timestamp         datetime64[ns]\n",
       "utcOffset                  int64\n",
       "rating.key                object\n",
       "rating.value               int64\n",
       "spot_id                   object\n",
       "spot_name                 object\n",
       "utc_fetch_date            object\n",
       "dtype: object"
      ]
     },
     "execution_count": 44,
     "metadata": {},
     "output_type": "execute_result"
    }
   ],
   "source": [
    "ratings_df.dtypes"
   ]
  },
  {
   "cell_type": "code",
   "execution_count": 50,
   "metadata": {},
   "outputs": [],
   "source": [
    "with SessionLocal() as db:\n",
    "    matching_spots = []\n",
    "    for spot in df['names']:\n",
    "        stmt = text(\"\"\"select * from spots where spot_name like :spot\"\"\")\n",
    "        result = db.execute(stmt, {\"spot\": spot}).fetchall()\n",
    "        if len(result) > 0:\n",
    "            matching_spots.append(result)\n",
    "    "
   ]
  },
  {
   "cell_type": "code",
   "execution_count": null,
   "metadata": {},
   "outputs": [],
   "source": []
  }
 ],
 "metadata": {
  "kernelspec": {
   "display_name": ".venv",
   "language": "python",
   "name": "python3"
  },
  "language_info": {
   "codemirror_mode": {
    "name": "ipython",
    "version": 3
   },
   "file_extension": ".py",
   "mimetype": "text/x-python",
   "name": "python",
   "nbconvert_exporter": "python",
   "pygments_lexer": "ipython3",
   "version": "3.10.12"
  }
 },
 "nbformat": 4,
 "nbformat_minor": 2
}
