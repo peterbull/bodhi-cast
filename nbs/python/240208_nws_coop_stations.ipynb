{
 "cells": [
  {
   "cell_type": "code",
   "execution_count": 1,
   "metadata": {},
   "outputs": [],
   "source": [
    "from noaa_coops import Station, get_stations_from_bbox\n",
    "from pprint import pprint\n",
    "from mpl_toolkits.basemap import Basemap\n",
    "import matplotlib.pyplot as plt\n"
   ]
  },
  {
   "cell_type": "code",
   "execution_count": 2,
   "metadata": {},
   "outputs": [],
   "source": [
    "chesapeake_channel = Station(id=\"8638901\")"
   ]
  },
  {
   "cell_type": "code",
   "execution_count": 3,
   "metadata": {},
   "outputs": [
    {
     "data": {
      "text/plain": [
       "{'Verified High/Low Water Level': {'start_date': '2017-04-19 21:00',\n",
       "  'end_date': '2023-12-31 23:54'},\n",
       " 'Barometric Pressure': {'start_date': '2016-10-21 20:24',\n",
       "  'end_date': '2024-02-11 01:48'},\n",
       " 'Verified 6-Minute Water Level': {'start_date': '2017-04-19 21:00',\n",
       "  'end_date': '2023-12-31 23:54'},\n",
       " 'Verified Hourly Height Water Level': {'start_date': '2017-04-19 21:00',\n",
       "  'end_date': '2023-12-31 23:00'},\n",
       " 'Preliminary 6-Minute Water Level': {'start_date': '2016-10-21 20:00',\n",
       "  'end_date': '2024-02-11 01:48'},\n",
       " 'Wind': {'start_date': '2016-10-21 20:24', 'end_date': '2024-02-11 01:48'},\n",
       " 'Verified Monthly Mean Water Level': {'start_date': '2017-05-01 00:00',\n",
       "  'end_date': '2023-12-31 23:54'},\n",
       " 'Air Temperature': {'start_date': '2016-10-21 20:24',\n",
       "  'end_date': '2024-02-11 01:48'},\n",
       " 'Water Temperature': {'start_date': '2016-10-21 20:24',\n",
       "  'end_date': '2024-02-11 01:48'}}"
      ]
     },
     "execution_count": 3,
     "metadata": {},
     "output_type": "execute_result"
    }
   ],
   "source": [
    "chesapeake_channel.data_inventory"
   ]
  },
  {
   "cell_type": "markdown",
   "metadata": {},
   "source": [
    "## Docs\n",
    "[NOAA api ref](https://api.tidesandcurrents.noaa.gov/api/prod/#products) [NOAA api docs](https://api.tidesandcurrents.noaa.gov/api/prod/responseHelp.html)"
   ]
  },
  {
   "cell_type": "code",
   "execution_count": 4,
   "metadata": {},
   "outputs": [],
   "source": [
    "df_water_levels = chesapeake_channel.get_data(\n",
    "    begin_date=\"20240210\",\n",
    "    end_date=\"20240212\",\n",
    "    product=\"water_level\",\n",
    "    datum=\"MLLW\",\n",
    "    units=\"metric\",\n",
    "    time_zone=\"gmt\")"
   ]
  },
  {
   "cell_type": "code",
   "execution_count": 5,
   "metadata": {},
   "outputs": [
    {
     "data": {
      "text/html": [
       "<div>\n",
       "<style scoped>\n",
       "    .dataframe tbody tr th:only-of-type {\n",
       "        vertical-align: middle;\n",
       "    }\n",
       "\n",
       "    .dataframe tbody tr th {\n",
       "        vertical-align: top;\n",
       "    }\n",
       "\n",
       "    .dataframe thead th {\n",
       "        text-align: right;\n",
       "    }\n",
       "</style>\n",
       "<table border=\"1\" class=\"dataframe\">\n",
       "  <thead>\n",
       "    <tr style=\"text-align: right;\">\n",
       "      <th></th>\n",
       "      <th>v</th>\n",
       "      <th>s</th>\n",
       "      <th>f</th>\n",
       "      <th>q</th>\n",
       "    </tr>\n",
       "    <tr>\n",
       "      <th>t</th>\n",
       "      <th></th>\n",
       "      <th></th>\n",
       "      <th></th>\n",
       "      <th></th>\n",
       "    </tr>\n",
       "  </thead>\n",
       "  <tbody>\n",
       "    <tr>\n",
       "      <th>2024-02-11 01:24:00</th>\n",
       "      <td>1.212</td>\n",
       "      <td>0.038</td>\n",
       "      <td>0,0,0,0</td>\n",
       "      <td>p</td>\n",
       "    </tr>\n",
       "    <tr>\n",
       "      <th>2024-02-11 01:30:00</th>\n",
       "      <td>1.204</td>\n",
       "      <td>0.035</td>\n",
       "      <td>0,0,0,0</td>\n",
       "      <td>p</td>\n",
       "    </tr>\n",
       "    <tr>\n",
       "      <th>2024-02-11 01:36:00</th>\n",
       "      <td>1.210</td>\n",
       "      <td>0.044</td>\n",
       "      <td>0,0,0,0</td>\n",
       "      <td>p</td>\n",
       "    </tr>\n",
       "    <tr>\n",
       "      <th>2024-02-11 01:42:00</th>\n",
       "      <td>1.210</td>\n",
       "      <td>0.042</td>\n",
       "      <td>1,0,0,0</td>\n",
       "      <td>p</td>\n",
       "    </tr>\n",
       "    <tr>\n",
       "      <th>2024-02-11 01:48:00</th>\n",
       "      <td>1.213</td>\n",
       "      <td>0.051</td>\n",
       "      <td>0,0,0,0</td>\n",
       "      <td>p</td>\n",
       "    </tr>\n",
       "  </tbody>\n",
       "</table>\n",
       "</div>"
      ],
      "text/plain": [
       "                         v      s        f  q\n",
       "t                                            \n",
       "2024-02-11 01:24:00  1.212  0.038  0,0,0,0  p\n",
       "2024-02-11 01:30:00  1.204  0.035  0,0,0,0  p\n",
       "2024-02-11 01:36:00  1.210  0.044  0,0,0,0  p\n",
       "2024-02-11 01:42:00  1.210  0.042  1,0,0,0  p\n",
       "2024-02-11 01:48:00  1.213  0.051  0,0,0,0  p"
      ]
     },
     "execution_count": 5,
     "metadata": {},
     "output_type": "execute_result"
    }
   ],
   "source": [
    "df_water_levels.tail()"
   ]
  },
  {
   "cell_type": "code",
   "execution_count": 6,
   "metadata": {},
   "outputs": [
    {
     "data": {
      "text/plain": [
       "p    259\n",
       "Name: q, dtype: int64"
      ]
     },
     "execution_count": 6,
     "metadata": {},
     "output_type": "execute_result"
    }
   ],
   "source": [
    "df_water_levels[\"q\"].value_counts()"
   ]
  },
  {
   "cell_type": "code",
   "execution_count": 7,
   "metadata": {},
   "outputs": [
    {
     "data": {
      "text/plain": [
       "{'Verified High/Low Water Level': {'start_date': '2017-04-19 21:00',\n",
       "  'end_date': '2023-12-31 23:54'},\n",
       " 'Barometric Pressure': {'start_date': '2016-10-21 20:24',\n",
       "  'end_date': '2024-02-11 01:48'},\n",
       " 'Verified 6-Minute Water Level': {'start_date': '2017-04-19 21:00',\n",
       "  'end_date': '2023-12-31 23:54'},\n",
       " 'Verified Hourly Height Water Level': {'start_date': '2017-04-19 21:00',\n",
       "  'end_date': '2023-12-31 23:00'},\n",
       " 'Preliminary 6-Minute Water Level': {'start_date': '2016-10-21 20:00',\n",
       "  'end_date': '2024-02-11 01:48'},\n",
       " 'Wind': {'start_date': '2016-10-21 20:24', 'end_date': '2024-02-11 01:48'},\n",
       " 'Verified Monthly Mean Water Level': {'start_date': '2017-05-01 00:00',\n",
       "  'end_date': '2023-12-31 23:54'},\n",
       " 'Air Temperature': {'start_date': '2016-10-21 20:24',\n",
       "  'end_date': '2024-02-11 01:48'},\n",
       " 'Water Temperature': {'start_date': '2016-10-21 20:24',\n",
       "  'end_date': '2024-02-11 01:48'}}"
      ]
     },
     "execution_count": 7,
     "metadata": {},
     "output_type": "execute_result"
    }
   ],
   "source": [
    "chesapeake_channel.data_inventory"
   ]
  },
  {
   "cell_type": "code",
   "execution_count": 8,
   "metadata": {},
   "outputs": [],
   "source": [
    "df_verified_wl = chesapeake_channel.get_data(\n",
    "    begin_date=\"20240210\",\n",
    "    end_date=\"20240211\",\n",
    "    product=\"water_level\",\n",
    "    datum=\"MLLW\",\n",
    "    units=\"metric\",\n",
    "    time_zone=\"gmt\")"
   ]
  },
  {
   "cell_type": "code",
   "execution_count": 9,
   "metadata": {},
   "outputs": [
    {
     "data": {
      "text/html": [
       "<div>\n",
       "<style scoped>\n",
       "    .dataframe tbody tr th:only-of-type {\n",
       "        vertical-align: middle;\n",
       "    }\n",
       "\n",
       "    .dataframe tbody tr th {\n",
       "        vertical-align: top;\n",
       "    }\n",
       "\n",
       "    .dataframe thead th {\n",
       "        text-align: right;\n",
       "    }\n",
       "</style>\n",
       "<table border=\"1\" class=\"dataframe\">\n",
       "  <thead>\n",
       "    <tr style=\"text-align: right;\">\n",
       "      <th></th>\n",
       "      <th>v</th>\n",
       "      <th>s</th>\n",
       "      <th>f</th>\n",
       "      <th>q</th>\n",
       "    </tr>\n",
       "    <tr>\n",
       "      <th>t</th>\n",
       "      <th></th>\n",
       "      <th></th>\n",
       "      <th></th>\n",
       "      <th></th>\n",
       "    </tr>\n",
       "  </thead>\n",
       "  <tbody>\n",
       "    <tr>\n",
       "      <th>2024-02-10 00:00:00</th>\n",
       "      <td>1.070</td>\n",
       "      <td>0.029</td>\n",
       "      <td>1,0,0,0</td>\n",
       "      <td>p</td>\n",
       "    </tr>\n",
       "    <tr>\n",
       "      <th>2024-02-10 00:06:00</th>\n",
       "      <td>1.093</td>\n",
       "      <td>0.036</td>\n",
       "      <td>0,0,0,0</td>\n",
       "      <td>p</td>\n",
       "    </tr>\n",
       "    <tr>\n",
       "      <th>2024-02-10 00:12:00</th>\n",
       "      <td>1.115</td>\n",
       "      <td>0.036</td>\n",
       "      <td>0,0,0,0</td>\n",
       "      <td>p</td>\n",
       "    </tr>\n",
       "    <tr>\n",
       "      <th>2024-02-10 00:18:00</th>\n",
       "      <td>1.111</td>\n",
       "      <td>0.031</td>\n",
       "      <td>0,0,0,0</td>\n",
       "      <td>p</td>\n",
       "    </tr>\n",
       "    <tr>\n",
       "      <th>2024-02-10 00:24:00</th>\n",
       "      <td>1.111</td>\n",
       "      <td>0.029</td>\n",
       "      <td>1,0,0,0</td>\n",
       "      <td>p</td>\n",
       "    </tr>\n",
       "    <tr>\n",
       "      <th>...</th>\n",
       "      <td>...</td>\n",
       "      <td>...</td>\n",
       "      <td>...</td>\n",
       "      <td>...</td>\n",
       "    </tr>\n",
       "    <tr>\n",
       "      <th>2024-02-10 23:36:00</th>\n",
       "      <td>0.881</td>\n",
       "      <td>0.038</td>\n",
       "      <td>0,0,0,0</td>\n",
       "      <td>p</td>\n",
       "    </tr>\n",
       "    <tr>\n",
       "      <th>2024-02-10 23:42:00</th>\n",
       "      <td>0.897</td>\n",
       "      <td>0.033</td>\n",
       "      <td>1,0,0,0</td>\n",
       "      <td>p</td>\n",
       "    </tr>\n",
       "    <tr>\n",
       "      <th>2024-02-10 23:48:00</th>\n",
       "      <td>0.925</td>\n",
       "      <td>0.034</td>\n",
       "      <td>0,0,0,0</td>\n",
       "      <td>p</td>\n",
       "    </tr>\n",
       "    <tr>\n",
       "      <th>2024-02-10 23:54:00</th>\n",
       "      <td>0.961</td>\n",
       "      <td>0.039</td>\n",
       "      <td>0,0,0,0</td>\n",
       "      <td>p</td>\n",
       "    </tr>\n",
       "    <tr>\n",
       "      <th>2024-02-11 00:00:00</th>\n",
       "      <td>0.988</td>\n",
       "      <td>0.038</td>\n",
       "      <td>0,0,0,0</td>\n",
       "      <td>p</td>\n",
       "    </tr>\n",
       "  </tbody>\n",
       "</table>\n",
       "<p>241 rows × 4 columns</p>\n",
       "</div>"
      ],
      "text/plain": [
       "                         v      s        f  q\n",
       "t                                            \n",
       "2024-02-10 00:00:00  1.070  0.029  1,0,0,0  p\n",
       "2024-02-10 00:06:00  1.093  0.036  0,0,0,0  p\n",
       "2024-02-10 00:12:00  1.115  0.036  0,0,0,0  p\n",
       "2024-02-10 00:18:00  1.111  0.031  0,0,0,0  p\n",
       "2024-02-10 00:24:00  1.111  0.029  1,0,0,0  p\n",
       "...                    ...    ...      ... ..\n",
       "2024-02-10 23:36:00  0.881  0.038  0,0,0,0  p\n",
       "2024-02-10 23:42:00  0.897  0.033  1,0,0,0  p\n",
       "2024-02-10 23:48:00  0.925  0.034  0,0,0,0  p\n",
       "2024-02-10 23:54:00  0.961  0.039  0,0,0,0  p\n",
       "2024-02-11 00:00:00  0.988  0.038  0,0,0,0  p\n",
       "\n",
       "[241 rows x 4 columns]"
      ]
     },
     "execution_count": 9,
     "metadata": {},
     "output_type": "execute_result"
    }
   ],
   "source": [
    "df_verified_wl"
   ]
  },
  {
   "cell_type": "code",
   "execution_count": 10,
   "metadata": {},
   "outputs": [
    {
     "data": {
      "text/plain": [
       "{'Verified High/Low Water Level': {'start_date': '2017-04-19 21:00',\n",
       "  'end_date': '2023-12-31 23:54'},\n",
       " 'Barometric Pressure': {'start_date': '2016-10-21 20:24',\n",
       "  'end_date': '2024-02-11 01:48'},\n",
       " 'Verified 6-Minute Water Level': {'start_date': '2017-04-19 21:00',\n",
       "  'end_date': '2023-12-31 23:54'},\n",
       " 'Verified Hourly Height Water Level': {'start_date': '2017-04-19 21:00',\n",
       "  'end_date': '2023-12-31 23:00'},\n",
       " 'Preliminary 6-Minute Water Level': {'start_date': '2016-10-21 20:00',\n",
       "  'end_date': '2024-02-11 01:48'},\n",
       " 'Wind': {'start_date': '2016-10-21 20:24', 'end_date': '2024-02-11 01:48'},\n",
       " 'Verified Monthly Mean Water Level': {'start_date': '2017-05-01 00:00',\n",
       "  'end_date': '2023-12-31 23:54'},\n",
       " 'Air Temperature': {'start_date': '2016-10-21 20:24',\n",
       "  'end_date': '2024-02-11 01:48'},\n",
       " 'Water Temperature': {'start_date': '2016-10-21 20:24',\n",
       "  'end_date': '2024-02-11 01:48'}}"
      ]
     },
     "execution_count": 10,
     "metadata": {},
     "output_type": "execute_result"
    }
   ],
   "source": [
    "chesapeake_channel.data_inventory"
   ]
  },
  {
   "cell_type": "code",
   "execution_count": 11,
   "metadata": {},
   "outputs": [],
   "source": [
    "sd_station = Station(id=\"9410170\")"
   ]
  },
  {
   "cell_type": "code",
   "execution_count": 12,
   "metadata": {},
   "outputs": [],
   "source": [
    "sd_station.get_data_inventory()"
   ]
  },
  {
   "cell_type": "code",
   "execution_count": 28,
   "metadata": {},
   "outputs": [
    {
     "data": {
      "text/plain": [
       "(32.715556, -117.176667)"
      ]
     },
     "execution_count": 28,
     "metadata": {},
     "output_type": "execute_result"
    }
   ],
   "source": [
    "sd_station.lat_lon['lat'], sd_station.lat_lon['lon']"
   ]
  },
  {
   "cell_type": "code",
   "execution_count": 29,
   "metadata": {},
   "outputs": [],
   "source": [
    "stations = get_stations_from_bbox(lat_coords=[-90, 90], lon_coords=[-180, 180])"
   ]
  },
  {
   "cell_type": "code",
   "execution_count": 30,
   "metadata": {},
   "outputs": [
    {
     "data": {
      "text/plain": [
       "['1611400',\n",
       " '1612340',\n",
       " '1612401',\n",
       " '1612480',\n",
       " '1615680',\n",
       " '1617433',\n",
       " '1617760',\n",
       " '1619910',\n",
       " '1630000',\n",
       " '1631428',\n",
       " '1770000',\n",
       " '1820000',\n",
       " '1890000',\n",
       " '2695535',\n",
       " '2695540',\n",
       " '8311030',\n",
       " '8311062',\n",
       " '8410140',\n",
       " '8411060',\n",
       " '8413320',\n",
       " '8418150',\n",
       " '8419870',\n",
       " '8443970',\n",
       " '8447386',\n",
       " '8447435',\n",
       " '8447636',\n",
       " '8447930',\n",
       " '8449130',\n",
       " '8452660',\n",
       " '8452944',\n",
       " '8454000',\n",
       " '8454049',\n",
       " '8461490',\n",
       " '8465705',\n",
       " '8467150',\n",
       " '8510560',\n",
       " '8516945',\n",
       " '8518750',\n",
       " '8518962',\n",
       " '8519483',\n",
       " '8531680',\n",
       " '8534720',\n",
       " '8536110',\n",
       " '8537121',\n",
       " '8539094',\n",
       " '8540433',\n",
       " '8545240',\n",
       " '8546252',\n",
       " '8548989',\n",
       " '8551762',\n",
       " '8551910',\n",
       " '8555889',\n",
       " '8557380',\n",
       " '8570283',\n",
       " '8571421',\n",
       " '8571892',\n",
       " '8573364',\n",
       " '8573927',\n",
       " '8574680',\n",
       " '8575512',\n",
       " '8577330',\n",
       " '8594900',\n",
       " '8631044',\n",
       " '8632200',\n",
       " '8635027',\n",
       " '8635750',\n",
       " '8636580',\n",
       " '8637689',\n",
       " '8638610',\n",
       " '8638901',\n",
       " '8639348',\n",
       " '8651370',\n",
       " '8652587',\n",
       " '8654467',\n",
       " '8656483',\n",
       " '8658120',\n",
       " '8658163',\n",
       " '8661070',\n",
       " '8665530',\n",
       " '8670870',\n",
       " '8679598',\n",
       " '8720030',\n",
       " '8720218',\n",
       " '8720219',\n",
       " '8720226',\n",
       " '8720357',\n",
       " '8721604',\n",
       " '8722670',\n",
       " '8722956',\n",
       " '8723214',\n",
       " '8723970',\n",
       " '8724580',\n",
       " '8725110',\n",
       " '8725520',\n",
       " '8726384',\n",
       " '8726520',\n",
       " '8726607',\n",
       " '8726674',\n",
       " '8726724',\n",
       " '8727520',\n",
       " '8728690',\n",
       " '8729108',\n",
       " '8729210',\n",
       " '8729840',\n",
       " '8735180',\n",
       " '8735391',\n",
       " '8735523',\n",
       " '8736897',\n",
       " '8737048',\n",
       " '8737138',\n",
       " '8738043',\n",
       " '8739803',\n",
       " '8741533',\n",
       " '8747437',\n",
       " '8760721',\n",
       " '8760922',\n",
       " '8761305',\n",
       " '8761724',\n",
       " '8761927',\n",
       " '8761955',\n",
       " '8762075',\n",
       " '8762482',\n",
       " '8764044',\n",
       " '8764227',\n",
       " '8764314',\n",
       " '8766072',\n",
       " '8767816',\n",
       " '8767961',\n",
       " '8768094',\n",
       " '8770475',\n",
       " '8770520',\n",
       " '8770613',\n",
       " '8770777',\n",
       " '8770808',\n",
       " '8770822',\n",
       " '8770971',\n",
       " '8771013',\n",
       " '8771341',\n",
       " '8771367',\n",
       " '8771450',\n",
       " '8771486',\n",
       " '8771972',\n",
       " '8772471',\n",
       " '8773037',\n",
       " '8773146',\n",
       " '8773259',\n",
       " '8773701',\n",
       " '8773767',\n",
       " '8774230',\n",
       " '8774770',\n",
       " '8775132',\n",
       " '8775222',\n",
       " '8775237',\n",
       " '8775241',\n",
       " '8775244',\n",
       " '8775283',\n",
       " '8775296',\n",
       " '8775792',\n",
       " '8776139',\n",
       " '8776604',\n",
       " '8777812',\n",
       " '8778490',\n",
       " '8779280',\n",
       " '8779748',\n",
       " '8779749',\n",
       " '8779770',\n",
       " '9014070',\n",
       " '9014080',\n",
       " '9014087',\n",
       " '9014090',\n",
       " '9014095',\n",
       " '9014098',\n",
       " '9034052',\n",
       " '9044020',\n",
       " '9044030',\n",
       " '9044036',\n",
       " '9044049',\n",
       " '9052000',\n",
       " '9052030',\n",
       " '9052058',\n",
       " '9052076',\n",
       " '9063007',\n",
       " '9063009',\n",
       " '9063012',\n",
       " '9063020',\n",
       " '9063028',\n",
       " '9063038',\n",
       " '9063053',\n",
       " '9063063',\n",
       " '9063079',\n",
       " '9063085',\n",
       " '9063090',\n",
       " '9075002',\n",
       " '9075014',\n",
       " '9075035',\n",
       " '9075065',\n",
       " '9075080',\n",
       " '9075099',\n",
       " '9076024',\n",
       " '9076027',\n",
       " '9076033',\n",
       " '9076060',\n",
       " '9076070',\n",
       " '9087023',\n",
       " '9087031',\n",
       " '9087044',\n",
       " '9087057',\n",
       " '9087068',\n",
       " '9087072',\n",
       " '9087077',\n",
       " '9087088',\n",
       " '9087096',\n",
       " '9099004',\n",
       " '9099018',\n",
       " '9099044',\n",
       " '9099064',\n",
       " '9099090',\n",
       " '9410170',\n",
       " '9410230',\n",
       " '9410660',\n",
       " '9410840',\n",
       " '9411340',\n",
       " '9412110',\n",
       " '9413450',\n",
       " '9414290',\n",
       " '9414523',\n",
       " '9414750',\n",
       " '9414863',\n",
       " '9415020',\n",
       " '9415102',\n",
       " '9415144',\n",
       " '9416841',\n",
       " '9418767',\n",
       " '9419750',\n",
       " '9431647',\n",
       " '9432780',\n",
       " '9435380',\n",
       " '9437540',\n",
       " '9439040',\n",
       " '9439099',\n",
       " '9439201',\n",
       " '9440083',\n",
       " '9440357',\n",
       " '9440422',\n",
       " '9440569',\n",
       " '9440581',\n",
       " '9440910',\n",
       " '9441102',\n",
       " '9442396',\n",
       " '9443090',\n",
       " '9444090',\n",
       " '9444900',\n",
       " '9445958',\n",
       " '9446484',\n",
       " '9447130',\n",
       " '9449424',\n",
       " '9449880',\n",
       " '9450460',\n",
       " '9451054',\n",
       " '9451600',\n",
       " '9452210',\n",
       " '9452400',\n",
       " '9452634',\n",
       " '9453220',\n",
       " '9454050',\n",
       " '9454240',\n",
       " '9455090',\n",
       " '9455500',\n",
       " '9455760',\n",
       " '9455920',\n",
       " '9457292',\n",
       " '9457804',\n",
       " '9459450',\n",
       " '9459881',\n",
       " '9461380',\n",
       " '9461710',\n",
       " '9462450',\n",
       " '9462620',\n",
       " '9463502',\n",
       " '9464212',\n",
       " '9468333',\n",
       " '9468756',\n",
       " '9491094',\n",
       " '9497645',\n",
       " '9751364',\n",
       " '9751381',\n",
       " '9751401',\n",
       " '9751639',\n",
       " '9752235',\n",
       " '9752619',\n",
       " '9752621',\n",
       " '9752695',\n",
       " '9753216',\n",
       " '9754229',\n",
       " '9755371',\n",
       " '9755968',\n",
       " '9757811',\n",
       " '9758066',\n",
       " '9759110',\n",
       " '9759394',\n",
       " '9759938']"
      ]
     },
     "execution_count": 30,
     "metadata": {},
     "output_type": "execute_result"
    }
   ],
   "source": [
    "stations"
   ]
  },
  {
   "cell_type": "code",
   "execution_count": null,
   "metadata": {},
   "outputs": [],
   "source": [
    "station = Station(id=stations[0])"
   ]
  },
  {
   "cell_type": "code",
   "execution_count": null,
   "metadata": {},
   "outputs": [],
   "source": [
    "station_list = [Station(id=station_id) for station_id in stations]"
   ]
  },
  {
   "cell_type": "code",
   "execution_count": null,
   "metadata": {},
   "outputs": [],
   "source": [
    "station.lat_lon['lat']"
   ]
  },
  {
   "cell_type": "code",
   "execution_count": null,
   "metadata": {},
   "outputs": [],
   "source": [
    "station_list[0].lat_lon"
   ]
  },
  {
   "cell_type": "code",
   "execution_count": null,
   "metadata": {},
   "outputs": [],
   "source": [
    "m = Basemap(\n",
    "    projection=\"merc\",\n",
    "    llcrnrlat=-80,\n",
    "    urcrnrlat=80,\n",
    "    llcrnrlon=-180,\n",
    "    urcrnrlon=180,\n",
    "    lat_ts=20,\n",
    "    resolution=\"c\",\n",
    ")"
   ]
  },
  {
   "cell_type": "code",
   "execution_count": null,
   "metadata": {},
   "outputs": [],
   "source": [
    "m"
   ]
  },
  {
   "cell_type": "code",
   "execution_count": null,
   "metadata": {},
   "outputs": [],
   "source": []
  },
  {
   "cell_type": "code",
   "execution_count": null,
   "metadata": {},
   "outputs": [],
   "source": [
    "lats = [stat.lat_lon['lat'] for stat in station_list]\n",
    "lons = [stat.lat_lon['lon'] for stat in station_list]"
   ]
  },
  {
   "cell_type": "code",
   "execution_count": null,
   "metadata": {},
   "outputs": [],
   "source": [
    "x, y = m(lons, lats)"
   ]
  },
  {
   "cell_type": "code",
   "execution_count": null,
   "metadata": {},
   "outputs": [],
   "source": [
    "m.drawcoastlines()\n",
    "m.drawmapboundary()\n",
    "m.scatter(x, y, marker='o', color='r')"
   ]
  },
  {
   "cell_type": "code",
   "execution_count": null,
   "metadata": {},
   "outputs": [],
   "source": [
    "plt.show()"
   ]
  },
  {
   "cell_type": "code",
   "execution_count": null,
   "metadata": {},
   "outputs": [],
   "source": []
  }
 ],
 "metadata": {
  "kernelspec": {
   "display_name": ".venv",
   "language": "python",
   "name": "python3"
  },
  "language_info": {
   "codemirror_mode": {
    "name": "ipython",
    "version": 3
   },
   "file_extension": ".py",
   "mimetype": "text/x-python",
   "name": "python",
   "nbconvert_exporter": "python",
   "pygments_lexer": "ipython3",
   "version": "3.10.12"
  }
 },
 "nbformat": 4,
 "nbformat_minor": 2
}
