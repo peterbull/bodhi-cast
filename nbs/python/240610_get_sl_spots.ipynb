{
 "cells": [
  {
   "cell_type": "code",
   "execution_count": 1,
   "metadata": {},
   "outputs": [],
   "source": [
    "import asyncio\n",
    "from typing import List, Dict, Optional\n",
    "import json\n",
    "import time\n",
    "from pathlib import Path\n",
    "\n",
    "import aiohttp\n",
    "import numpy as np\n",
    "import pandas as pd\n",
    "import pendulum\n",
    "import logging\n",
    "import requests\n",
    "from dataclasses import dataclass\n",
    "from enum import Enum\n",
    "\n",
    "from sqlalchemy import create_engine, select, text, and_\n",
    "\n",
    "from sqlalchemy.orm import sessionmaker, declarative_base\n",
    "from utils.utils import LOCAL_AIRFLOW_PG_URI, LOCAL_PG_URI"
   ]
  },
  {
   "cell_type": "code",
   "execution_count": 2,
   "metadata": {},
   "outputs": [],
   "source": [
    "import nest_asyncio\n",
    "nest_asyncio.apply()"
   ]
  },
  {
   "cell_type": "code",
   "execution_count": 3,
   "metadata": {},
   "outputs": [],
   "source": [
    "logging.basicConfig(level=logging.INFO)"
   ]
  },
  {
   "cell_type": "code",
   "execution_count": 4,
   "metadata": {},
   "outputs": [],
   "source": [
    "Base = declarative_base()"
   ]
  },
  {
   "cell_type": "code",
   "execution_count": 5,
   "metadata": {},
   "outputs": [],
   "source": [
    "engine = create_engine(LOCAL_PG_URI)\n",
    "SessionLocal = sessionmaker(bind=engine)"
   ]
  },
  {
   "cell_type": "code",
   "execution_count": 6,
   "metadata": {},
   "outputs": [],
   "source": [
    "class SurflineSpots:\n",
    "    def __init__(self):\n",
    "        self.states = []\n",
    "        self.state_ids = []\n",
    "        self.state_urls = []\n",
    "        self.state_data = []\n",
    "        self.county_data = []\n",
    "        self.region_data = [] \n",
    "        self.spot_ids = []\n",
    "        self.spot_names = []\n",
    "        self.spot_address = []\n",
    "        self.spot_lon = []\n",
    "        self.spot_lat = []\n",
    "        self.spot_urls = []\n",
    "\n",
    "    def _update_states(self):\n",
    "        response = requests.get(\n",
    "            \"https://services.surfline.com/taxonomy?type=taxonomy&id=58f7ed51dadb30820bb3879c&maxDepth=0\"\n",
    "        )\n",
    "        json_data = response.json()\n",
    "        json_contains = json_data[\"contains\"]\n",
    "        for x in json_contains:\n",
    "            self.states.append(x[\"name\"])\n",
    "            self.state_ids.append(x[\"_id\"])\n",
    "        \n",
    "        for state_id in self.state_ids:\n",
    "            self.state_urls.append(\"https://services.surfline.com/taxonomy?type=taxonomy&id=\" + state_id + \"&maxDepth=0\")\n",
    "        logging.info(f\"{len(self.state_urls)}\")\n",
    "\n",
    "\n",
    "    async def fetch_url(self, url, session):\n",
    "        async with session.get(url) as response:\n",
    "            return await response.json()\n",
    "\n",
    "\n",
    "    async def fetch_all_urls(self, target):\n",
    "        data = []\n",
    "        async with aiohttp.ClientSession() as session:\n",
    "            tasks = []\n",
    "            for url in target:\n",
    "                tasks.append(self.fetch_url(url, session))\n",
    "            data = await asyncio.gather(*tasks)\n",
    "        return data\n",
    "\n",
    "\n",
    "    def update_data(self, data_target: List[str], attr_target):\n",
    "        data = asyncio.run(self.fetch_all_urls(data_target))\n",
    "        setattr(self, attr_target, data)\n",
    "    \n",
    "\n",
    "    def process_spots(self):\n",
    "        if len(self.states) == 0:\n",
    "            self._update_states() \n",
    "        \n",
    "        self.update_data(self.state_urls, \"state_data\")\n",
    "        logging.info(\"spots\")\n",
    "\n",
    "\n",
    "\n",
    "        county_ids = []    \n",
    "        for state in self.state_data:\n",
    "            state_contains = state['contains']\n",
    "            for y in state_contains:\n",
    "                county_ids.append(y['_id'])\n",
    "        \n",
    "        county_urls = []\n",
    "        for county_id in county_ids:\n",
    "            county_urls.append(\"https://services.surfline.com/taxonomy?type=taxonomy&id=\" + county_id + \"&maxDepth=0\")\n",
    "\n",
    "        self.update_data(county_urls, \"county_data\")\n",
    "\n",
    "        region_ids = []\n",
    "        region_names = []\n",
    "        for county in self.county_data:\n",
    "            county_contains = county['contains']\n",
    "            for z in county_contains:\n",
    "                region_ids.append(z['_id'])\n",
    "                region_names.append(z['name'])\n",
    "\n",
    "        region_urls = []\n",
    "        for region_id in region_ids:\n",
    "            region_urls.append(\"https://services.surfline.com/taxonomy?type=taxonomy&id=\" + region_id + \"&maxDepth=0\")\n",
    "\n",
    "        self.update_data(region_urls, \"region_data\")\n",
    "\n",
    "\n",
    "        for region in self.region_data:\n",
    "            region_contains = region['contains']\n",
    "            if len(region_contains) == 0:\n",
    "                self.spot_ids.append(region.get(\"spot\", \"\"))\n",
    "                self.spot_names.append(region.get(\"name\", \"\"))\n",
    "                self.spot_address.append(\"\")\n",
    "                region_associated = region['associated']\n",
    "                region_links = region_associated['links']\n",
    "                region_location = region['location']\n",
    "                region_coordinates = region_location['coordinates']\n",
    "                self.spot_lon.append(region_coordinates[0])\n",
    "                self.spot_lat.append(region_coordinates[1])\n",
    "                for i in region_links:\n",
    "                    if i['key'] == \"www\":\n",
    "                        self.spot_urls.append(i['href'])\n",
    "\n",
    "        df = pd.DataFrame({\"ids\": self.spot_ids, \"names\": self.spot_names, \"lon\": self.spot_lon, \"lat\": self.spot_lat, \"urls\": self.spot_urls})\n",
    "        return df"
   ]
  },
  {
   "cell_type": "code",
   "execution_count": 7,
   "metadata": {},
   "outputs": [],
   "source": [
    "spots = SurflineSpots()"
   ]
  },
  {
   "cell_type": "code",
   "execution_count": 8,
   "metadata": {},
   "outputs": [
    {
     "name": "stderr",
     "output_type": "stream",
     "text": [
      "INFO:root:30\n",
      "INFO:root:spots\n"
     ]
    }
   ],
   "source": [
    "spots_df = spots.process_spots()"
   ]
  },
  {
   "cell_type": "code",
   "execution_count": 9,
   "metadata": {},
   "outputs": [
    {
     "data": {
      "text/html": [
       "<div>\n",
       "<style scoped>\n",
       "    .dataframe tbody tr th:only-of-type {\n",
       "        vertical-align: middle;\n",
       "    }\n",
       "\n",
       "    .dataframe tbody tr th {\n",
       "        vertical-align: top;\n",
       "    }\n",
       "\n",
       "    .dataframe thead th {\n",
       "        text-align: right;\n",
       "    }\n",
       "</style>\n",
       "<table border=\"1\" class=\"dataframe\">\n",
       "  <thead>\n",
       "    <tr style=\"text-align: right;\">\n",
       "      <th></th>\n",
       "      <th>ids</th>\n",
       "      <th>names</th>\n",
       "      <th>lon</th>\n",
       "      <th>lat</th>\n",
       "      <th>urls</th>\n",
       "    </tr>\n",
       "  </thead>\n",
       "  <tbody>\n",
       "    <tr>\n",
       "      <th>0</th>\n",
       "      <td>5842041f4e65fad6a7708b92</td>\n",
       "      <td>Boca Chica</td>\n",
       "      <td>-97.14769</td>\n",
       "      <td>26.061231</td>\n",
       "      <td>https://www.surfline.com/surf-report/boca-chic...</td>\n",
       "    </tr>\n",
       "    <tr>\n",
       "      <th>1</th>\n",
       "      <td>5842041f4e65fad6a7708b96</td>\n",
       "      <td>Port Mansfield</td>\n",
       "      <td>-97.26967</td>\n",
       "      <td>26.561320</td>\n",
       "      <td>https://www.surfline.com/surf-report/port-mans...</td>\n",
       "    </tr>\n",
       "    <tr>\n",
       "      <th>2</th>\n",
       "      <td>5842041f4e65fad6a7708b93</td>\n",
       "      <td>Isla Blanca State Park</td>\n",
       "      <td>-97.15243</td>\n",
       "      <td>26.069619</td>\n",
       "      <td>https://www.surfline.com/surf-report/isla-blan...</td>\n",
       "    </tr>\n",
       "    <tr>\n",
       "      <th>3</th>\n",
       "      <td>584204204e65fad6a7709436</td>\n",
       "      <td>South Padre Island</td>\n",
       "      <td>-97.16126</td>\n",
       "      <td>26.107378</td>\n",
       "      <td>https://www.surfline.com/surf-report/south-pad...</td>\n",
       "    </tr>\n",
       "    <tr>\n",
       "      <th>4</th>\n",
       "      <td>6033da7c9ddc9303e4202738</td>\n",
       "      <td>Port O'Connor Jetties</td>\n",
       "      <td>-96.32321</td>\n",
       "      <td>28.417735</td>\n",
       "      <td>https://www.surfline.com/surf-report/port-o-co...</td>\n",
       "    </tr>\n",
       "  </tbody>\n",
       "</table>\n",
       "</div>"
      ],
      "text/plain": [
       "                        ids                   names       lon        lat  \\\n",
       "0  5842041f4e65fad6a7708b92              Boca Chica -97.14769  26.061231   \n",
       "1  5842041f4e65fad6a7708b96          Port Mansfield -97.26967  26.561320   \n",
       "2  5842041f4e65fad6a7708b93  Isla Blanca State Park -97.15243  26.069619   \n",
       "3  584204204e65fad6a7709436      South Padre Island -97.16126  26.107378   \n",
       "4  6033da7c9ddc9303e4202738   Port O'Connor Jetties -96.32321  28.417735   \n",
       "\n",
       "                                                urls  \n",
       "0  https://www.surfline.com/surf-report/boca-chic...  \n",
       "1  https://www.surfline.com/surf-report/port-mans...  \n",
       "2  https://www.surfline.com/surf-report/isla-blan...  \n",
       "3  https://www.surfline.com/surf-report/south-pad...  \n",
       "4  https://www.surfline.com/surf-report/port-o-co...  "
      ]
     },
     "execution_count": 9,
     "metadata": {},
     "output_type": "execute_result"
    }
   ],
   "source": [
    "spots_df.head()"
   ]
  },
  {
   "cell_type": "code",
   "execution_count": null,
   "metadata": {},
   "outputs": [],
   "source": []
  }
 ],
 "metadata": {
  "kernelspec": {
   "display_name": ".venv",
   "language": "python",
   "name": "python3"
  },
  "language_info": {
   "codemirror_mode": {
    "name": "ipython",
    "version": 3
   },
   "file_extension": ".py",
   "mimetype": "text/x-python",
   "name": "python",
   "nbconvert_exporter": "python",
   "pygments_lexer": "ipython3",
   "version": "3.10.12"
  }
 },
 "nbformat": 4,
 "nbformat_minor": 2
}
