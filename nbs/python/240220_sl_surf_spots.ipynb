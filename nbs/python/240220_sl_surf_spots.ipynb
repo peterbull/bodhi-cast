{
 "cells": [
  {
   "cell_type": "code",
   "execution_count": 1,
   "metadata": {},
   "outputs": [],
   "source": [
    "import pandas as pd\n",
    "import json\n",
    "import requests\n",
    "import aiohttp\n",
    "import asyncio"
   ]
  },
  {
   "cell_type": "markdown",
   "metadata": {},
   "source": [
    "## Getting surfline spots"
   ]
  },
  {
   "cell_type": "markdown",
   "metadata": {},
   "source": [
    "Taken from [ovalwood](https://github.com/ovalwood/surf_locations) and adapted to run a bit faster with async\n"
   ]
  },
  {
   "cell_type": "code",
   "execution_count": 2,
   "metadata": {},
   "outputs": [],
   "source": [
    "response = requests.get(\"https://services.surfline.com/taxonomy?type=taxonomy&id=58f7ed51dadb30820bb3879c&maxDepth=0\")\n",
    "json_data = response.json()\n",
    "json_contains = json_data['contains']\n",
    "states = []\n",
    "state_ids = []\n",
    "state_urls = []\n",
    "for x in json_contains:\n",
    "    states.append(x['name'])\n",
    "    state_ids.append(x['_id'])\n"
   ]
  },
  {
   "cell_type": "code",
   "execution_count": 3,
   "metadata": {},
   "outputs": [],
   "source": [
    "\n",
    "for state_id in state_ids:\n",
    "    state_urls.append(\"https://services.surfline.com/taxonomy?type=taxonomy&id=\" + state_id + \"&maxDepth=0\")\n",
    "   "
   ]
  },
  {
   "cell_type": "code",
   "execution_count": 4,
   "metadata": {},
   "outputs": [],
   "source": [
    "async def fetch(url, session):\n",
    "    async with session.get(url) as response:\n",
    "        return await response.json()\n",
    "\n",
    "async def fetch_all(urls):\n",
    "    data = []\n",
    "    async with aiohttp.ClientSession() as session:\n",
    "        tasks = []\n",
    "        for url in urls:\n",
    "            tasks.append(fetch(url, session))\n",
    "        data = await asyncio.gather(*tasks)\n",
    "    return data"
   ]
  },
  {
   "cell_type": "code",
   "execution_count": 5,
   "metadata": {},
   "outputs": [],
   "source": [
    "state_data = await fetch_all(state_urls)"
   ]
  },
  {
   "cell_type": "code",
   "execution_count": 6,
   "metadata": {},
   "outputs": [],
   "source": [
    "county_ids = []    \n",
    "for state in state_data:\n",
    "    state_contains = state['contains']\n",
    "    for y in state_contains:\n",
    "        county_ids.append(y['_id'])\n",
    "      "
   ]
  },
  {
   "cell_type": "code",
   "execution_count": 7,
   "metadata": {},
   "outputs": [],
   "source": [
    "county_urls = []\n",
    "for county_id in county_ids:\n",
    "    county_urls.append(\"https://services.surfline.com/taxonomy?type=taxonomy&id=\" + county_id + \"&maxDepth=0\")\n"
   ]
  },
  {
   "cell_type": "code",
   "execution_count": 8,
   "metadata": {},
   "outputs": [],
   "source": [
    "\n",
    "county_data = await fetch_all(county_urls)"
   ]
  },
  {
   "cell_type": "code",
   "execution_count": null,
   "metadata": {},
   "outputs": [],
   "source": []
  },
  {
   "cell_type": "code",
   "execution_count": 9,
   "metadata": {},
   "outputs": [],
   "source": [
    "region_ids = []\n",
    "region_names = []\n",
    "for county in county_data:\n",
    "    county_contains = county['contains']\n",
    "    for z in county_contains:\n",
    "        region_ids.append(z['_id'])\n",
    "        region_names.append(z['name'])\n",
    "    "
   ]
  },
  {
   "cell_type": "code",
   "execution_count": null,
   "metadata": {},
   "outputs": [],
   "source": []
  },
  {
   "cell_type": "code",
   "execution_count": 10,
   "metadata": {},
   "outputs": [],
   "source": [
    "region_urls = []\n",
    "for region_id in region_ids:\n",
    "    region_urls.append(\"https://services.surfline.com/taxonomy?type=taxonomy&id=\" + region_id + \"&maxDepth=0\")\n"
   ]
  },
  {
   "cell_type": "code",
   "execution_count": 11,
   "metadata": {},
   "outputs": [],
   "source": [
    "region_data = await fetch_all(region_urls)"
   ]
  },
  {
   "cell_type": "code",
   "execution_count": 12,
   "metadata": {},
   "outputs": [],
   "source": [
    "def find_val(data, target_key, target_value):\n",
    "    for key, value in data.items():\n",
    "        if isinstance(value, list):\n",
    "            for item in value:\n",
    "                if isinstance(item, dict):\n",
    "                    return item"
   ]
  },
  {
   "cell_type": "code",
   "execution_count": 13,
   "metadata": {},
   "outputs": [
    {
     "ename": "KeyError",
     "evalue": "'geonames'",
     "output_type": "error",
     "traceback": [
      "\u001b[0;31m---------------------------------------------------------------------------\u001b[0m",
      "\u001b[0;31mKeyError\u001b[0m                                  Traceback (most recent call last)",
      "Cell \u001b[0;32mIn[13], line 1\u001b[0m\n\u001b[0;32m----> 1\u001b[0m \u001b[43mregion_data\u001b[49m\u001b[43m[\u001b[49m\u001b[38;5;241;43m0\u001b[39;49m\u001b[43m]\u001b[49m\u001b[43m[\u001b[49m\u001b[38;5;124;43m\"\u001b[39;49m\u001b[38;5;124;43mgeonames\u001b[39;49m\u001b[38;5;124;43m\"\u001b[39;49m\u001b[43m]\u001b[49m[\u001b[38;5;124m\"\u001b[39m\u001b[38;5;124madminName1\u001b[39m\u001b[38;5;124m\"\u001b[39m]\n",
      "\u001b[0;31mKeyError\u001b[0m: 'geonames'"
     ]
    }
   ],
   "source": [
    "region_data[0][\"geonames\"][\"adminName1\"]\n"
   ]
  },
  {
   "cell_type": "code",
   "execution_count": 15,
   "metadata": {},
   "outputs": [],
   "source": [
    "spot_ids = []\n",
    "spot_names = []\n",
    "spot_address = []\n",
    "\n",
    "\n",
    "spot_lon = []\n",
    "spot_lat = []\n",
    "spot_urls = []\n"
   ]
  },
  {
   "cell_type": "code",
   "execution_count": 16,
   "metadata": {},
   "outputs": [
    {
     "data": {
      "text/plain": [
       "(0, 0, 0)"
      ]
     },
     "execution_count": 16,
     "metadata": {},
     "output_type": "execute_result"
    }
   ],
   "source": [
    "len(spot_address), len(spot_ids), len(spot_names)"
   ]
  },
  {
   "cell_type": "code",
   "execution_count": null,
   "metadata": {},
   "outputs": [],
   "source": []
  },
  {
   "cell_type": "code",
   "execution_count": 17,
   "metadata": {},
   "outputs": [],
   "source": [
    "\n",
    "for region in region_data:\n",
    "    region_contains = region['contains']\n",
    "    if len(region_contains) == 0:\n",
    "        spot_ids.append(region.get(\"spot\", \"\"))\n",
    "        spot_names.append(region.get(\"name\", \"\"))\n",
    "        spot_address.append(\"\")\n",
    "        region_associated = region['associated']\n",
    "        region_links = region_associated['links']\n",
    "        region_location = region['location']\n",
    "        region_coordinates = region_location['coordinates']\n",
    "        spot_lon.append(region_coordinates[0])\n",
    "        spot_lat.append(region_coordinates[1])\n",
    "        for i in region_links:\n",
    "            if i['key'] == \"www\":\n",
    "                spot_urls.append(i['href'])"
   ]
  },
  {
   "cell_type": "code",
   "execution_count": 18,
   "metadata": {},
   "outputs": [
    {
     "ename": "IndexError",
     "evalue": "list index out of range",
     "output_type": "error",
     "traceback": [
      "\u001b[0;31m---------------------------------------------------------------------------\u001b[0m",
      "\u001b[0;31mIndexError\u001b[0m                                Traceback (most recent call last)",
      "Cell \u001b[0;32mIn[18], line 1\u001b[0m\n\u001b[0;32m----> 1\u001b[0m \u001b[43mregion_data\u001b[49m\u001b[43m[\u001b[49m\u001b[38;5;241;43m0\u001b[39;49m\u001b[43m]\u001b[49m\u001b[38;5;241;43m.\u001b[39;49m\u001b[43mget\u001b[49m\u001b[43m(\u001b[49m\u001b[38;5;124;43m\"\u001b[39;49m\u001b[38;5;124;43mcontains\u001b[39;49m\u001b[38;5;124;43m\"\u001b[39;49m\u001b[43m)\u001b[49m\u001b[43m[\u001b[49m\u001b[38;5;241;43m1\u001b[39;49m\u001b[43m]\u001b[49m\n",
      "\u001b[0;31mIndexError\u001b[0m: list index out of range"
     ]
    }
   ],
   "source": [
    "region_data[0].get(\"contains\")[1]"
   ]
  },
  {
   "cell_type": "code",
   "execution_count": null,
   "metadata": {},
   "outputs": [],
   "source": []
  },
  {
   "cell_type": "code",
   "execution_count": 19,
   "metadata": {},
   "outputs": [],
   "source": [
    "df = pd.DataFrame({\"ids\": spot_ids, \"names\": spot_names, \"lon\": spot_lon, \"lat\": spot_lat, \"urls\": spot_urls})\n",
    "df.to_csv('./data/spot_list.csv')"
   ]
  },
  {
   "cell_type": "code",
   "execution_count": 20,
   "metadata": {},
   "outputs": [
    {
     "data": {
      "text/html": [
       "<div>\n",
       "<style scoped>\n",
       "    .dataframe tbody tr th:only-of-type {\n",
       "        vertical-align: middle;\n",
       "    }\n",
       "\n",
       "    .dataframe tbody tr th {\n",
       "        vertical-align: top;\n",
       "    }\n",
       "\n",
       "    .dataframe thead th {\n",
       "        text-align: right;\n",
       "    }\n",
       "</style>\n",
       "<table border=\"1\" class=\"dataframe\">\n",
       "  <thead>\n",
       "    <tr style=\"text-align: right;\">\n",
       "      <th></th>\n",
       "      <th>ids</th>\n",
       "      <th>names</th>\n",
       "      <th>lon</th>\n",
       "      <th>lat</th>\n",
       "      <th>urls</th>\n",
       "    </tr>\n",
       "  </thead>\n",
       "  <tbody>\n",
       "    <tr>\n",
       "      <th>0</th>\n",
       "      <td>5842041f4e65fad6a7708aa3</td>\n",
       "      <td>Ft. Pierce Inlet</td>\n",
       "      <td>-80.289140</td>\n",
       "      <td>27.475313</td>\n",
       "      <td>https://www.surfline.com/surf-report/ft-pierce...</td>\n",
       "    </tr>\n",
       "    <tr>\n",
       "      <th>1</th>\n",
       "      <td>5842041f4e65fad6a7708aab</td>\n",
       "      <td>Lori Wilson Park</td>\n",
       "      <td>-80.605680</td>\n",
       "      <td>28.336757</td>\n",
       "      <td>https://www.surfline.com/surf-report/lori-wils...</td>\n",
       "    </tr>\n",
       "    <tr>\n",
       "      <th>2</th>\n",
       "      <td>5842041f4e65fad6a7708ab1</td>\n",
       "      <td>Vero Pier</td>\n",
       "      <td>-80.360270</td>\n",
       "      <td>27.670122</td>\n",
       "      <td>https://www.surfline.com/surf-report/vero-pier...</td>\n",
       "    </tr>\n",
       "    <tr>\n",
       "      <th>3</th>\n",
       "      <td>584204214e65fad6a7709cc4</td>\n",
       "      <td>Millennium Beach Park</td>\n",
       "      <td>-80.580575</td>\n",
       "      <td>28.142895</td>\n",
       "      <td>https://www.surfline.com/surf-report/millenniu...</td>\n",
       "    </tr>\n",
       "    <tr>\n",
       "      <th>4</th>\n",
       "      <td>5842041f4e65fad6a7708aa7</td>\n",
       "      <td>Playalinda</td>\n",
       "      <td>-80.623290</td>\n",
       "      <td>28.643973</td>\n",
       "      <td>https://www.surfline.com/surf-report/playalind...</td>\n",
       "    </tr>\n",
       "  </tbody>\n",
       "</table>\n",
       "</div>"
      ],
      "text/plain": [
       "                        ids                  names        lon        lat  \\\n",
       "0  5842041f4e65fad6a7708aa3       Ft. Pierce Inlet -80.289140  27.475313   \n",
       "1  5842041f4e65fad6a7708aab       Lori Wilson Park -80.605680  28.336757   \n",
       "2  5842041f4e65fad6a7708ab1              Vero Pier -80.360270  27.670122   \n",
       "3  584204214e65fad6a7709cc4  Millennium Beach Park -80.580575  28.142895   \n",
       "4  5842041f4e65fad6a7708aa7             Playalinda -80.623290  28.643973   \n",
       "\n",
       "                                                urls  \n",
       "0  https://www.surfline.com/surf-report/ft-pierce...  \n",
       "1  https://www.surfline.com/surf-report/lori-wils...  \n",
       "2  https://www.surfline.com/surf-report/vero-pier...  \n",
       "3  https://www.surfline.com/surf-report/millenniu...  \n",
       "4  https://www.surfline.com/surf-report/playalind...  "
      ]
     },
     "execution_count": 20,
     "metadata": {},
     "output_type": "execute_result"
    }
   ],
   "source": [
    "df.head()"
   ]
  },
  {
   "cell_type": "code",
   "execution_count": null,
   "metadata": {},
   "outputs": [],
   "source": [
    "spot_dict = [{\"lat\": lat, \"lng\": lng, \"spot_name\": name, \"street_address\": name} for lat, lng, name, name in zip(spot_lat, spot_lon, spot_names, spot_names)]"
   ]
  },
  {
   "cell_type": "code",
   "execution_count": null,
   "metadata": {},
   "outputs": [],
   "source": [
    "legacy_spot_dict = [{\"latitude\": lat, \"longitude\": lng, \"spot_name\": name, \"street_address\": name} for lat, lng, name, name in zip(spot_lat, spot_lon, spot_names, spot_names)]"
   ]
  },
  {
   "cell_type": "code",
   "execution_count": null,
   "metadata": {},
   "outputs": [],
   "source": [
    "legacy_spot_dict"
   ]
  },
  {
   "cell_type": "code",
   "execution_count": null,
   "metadata": {},
   "outputs": [],
   "source": [
    "spot_dict"
   ]
  },
  {
   "cell_type": "code",
   "execution_count": null,
   "metadata": {},
   "outputs": [],
   "source": [
    "async def post_spot(spot, session, url):\n",
    "        async with session.post(url, json=spot) as response:\n",
    "             return await response.text()\n",
    "\n",
    "async def post_all(spot_dict, url):\n",
    "    data = []\n",
    "    async with aiohttp.ClientSession() as session:\n",
    "        tasks = []\n",
    "        for spot in spot_dict:\n",
    "            tasks.append(post_spot(spot, session, url))\n",
    "        data = await asyncio.gather(*tasks)\n",
    "    return data\n"
   ]
  },
  {
   "cell_type": "code",
   "execution_count": null,
   "metadata": {},
   "outputs": [],
   "source": [
    "df = pd.DataFrame(legacy_spot_dict)"
   ]
  },
  {
   "cell_type": "code",
   "execution_count": null,
   "metadata": {},
   "outputs": [],
   "source": []
  },
  {
   "cell_type": "code",
   "execution_count": null,
   "metadata": {},
   "outputs": [],
   "source": [
    "df_lat_lon = df[['latitude', 'longitude']]"
   ]
  },
  {
   "cell_type": "code",
   "execution_count": null,
   "metadata": {},
   "outputs": [],
   "source": [
    "df_lat_lon.head(), df_lat_lon.shape"
   ]
  },
  {
   "cell_type": "code",
   "execution_count": null,
   "metadata": {},
   "outputs": [],
   "source": [
    "import numpy as np"
   ]
  },
  {
   "cell_type": "code",
   "execution_count": null,
   "metadata": {},
   "outputs": [],
   "source": [
    "dfs = np.array_split(df, 3)\n",
    "df_1, df_2, df_3 = dfs[0], dfs[1], dfs[2]\n"
   ]
  },
  {
   "cell_type": "code",
   "execution_count": null,
   "metadata": {},
   "outputs": [],
   "source": [
    "df_1.head()"
   ]
  },
  {
   "cell_type": "code",
   "execution_count": null,
   "metadata": {},
   "outputs": [],
   "source": [
    "df_1.to_csv('./data/df_1.csv')"
   ]
  },
  {
   "cell_type": "code",
   "execution_count": null,
   "metadata": {},
   "outputs": [],
   "source": [
    "df_2.to_csv('./data/df_2.csv')\n",
    "df_3.to_csv('./data/df_3.csv')"
   ]
  },
  {
   "cell_type": "code",
   "execution_count": null,
   "metadata": {},
   "outputs": [],
   "source": []
  },
  {
   "cell_type": "code",
   "execution_count": null,
   "metadata": {},
   "outputs": [],
   "source": [
    "# res = await post_all(spot_dict)\n",
    "# res[0]"
   ]
  },
  {
   "cell_type": "code",
   "execution_count": null,
   "metadata": {},
   "outputs": [],
   "source": [
    "legacy_spot_dict"
   ]
  },
  {
   "cell_type": "code",
   "execution_count": null,
   "metadata": {},
   "outputs": [],
   "source": [
    "processed_files = [\"./data/df-1-processed.csv\", \"./data/df-2-processed.csv\", \"./data/df-3-processed.csv\"]"
   ]
  },
  {
   "cell_type": "code",
   "execution_count": null,
   "metadata": {},
   "outputs": [],
   "source": [
    "dfs = [pd.read_csv(file) for file in processed_files]\n"
   ]
  },
  {
   "cell_type": "code",
   "execution_count": null,
   "metadata": {},
   "outputs": [],
   "source": [
    "df = pd.concat(dfs, ignore_index=True)"
   ]
  },
  {
   "cell_type": "code",
   "execution_count": null,
   "metadata": {},
   "outputs": [],
   "source": [
    "df.shape"
   ]
  },
  {
   "cell_type": "code",
   "execution_count": null,
   "metadata": {},
   "outputs": [],
   "source": [
    "df.head()"
   ]
  },
  {
   "cell_type": "code",
   "execution_count": null,
   "metadata": {},
   "outputs": [],
   "source": [
    "df['city_state'] = df['city'] + \", \" + df[\"state\"]"
   ]
  },
  {
   "cell_type": "code",
   "execution_count": null,
   "metadata": {},
   "outputs": [],
   "source": [
    "df['city_state']"
   ]
  },
  {
   "cell_type": "code",
   "execution_count": null,
   "metadata": {},
   "outputs": [],
   "source": [
    "legacy_spot_dict[:2]"
   ]
  },
  {
   "cell_type": "code",
   "execution_count": null,
   "metadata": {},
   "outputs": [],
   "source": [
    "for idx, spot in enumerate(legacy_spot_dict):\n",
    "    spot[\"street_address\"] = f\"{df['city_state'][idx]}\""
   ]
  },
  {
   "cell_type": "code",
   "execution_count": null,
   "metadata": {},
   "outputs": [],
   "source": [
    "for idx, spot in enumerate(spot_dict):\n",
    "    spot[\"street_address\"] = f\"{df['city_state'][idx]}\""
   ]
  },
  {
   "cell_type": "code",
   "execution_count": null,
   "metadata": {},
   "outputs": [],
   "source": [
    "spot_dict"
   ]
  },
  {
   "cell_type": "code",
   "execution_count": null,
   "metadata": {},
   "outputs": [],
   "source": [
    "legacy_spot_dict[:5]"
   ]
  },
  {
   "cell_type": "code",
   "execution_count": null,
   "metadata": {},
   "outputs": [],
   "source": [
    "with open('./data/legacy_spot_dict.json', 'w') as f:\n",
    "    json.dump(legacy_spot_dict, f)"
   ]
  },
  {
   "cell_type": "code",
   "execution_count": null,
   "metadata": {},
   "outputs": [],
   "source": [
    "import json"
   ]
  },
  {
   "cell_type": "code",
   "execution_count": null,
   "metadata": {},
   "outputs": [],
   "source": [
    "with open('./data/legacy_spot_dict.json', 'r') as f:\n",
    "    spot_dict = json.load(f)"
   ]
  },
  {
   "cell_type": "code",
   "execution_count": null,
   "metadata": {},
   "outputs": [],
   "source": [
    "updated_spots = [\n",
    "    {'lat' if key == 'latitude' else 'lng' if key == 'longitude' else key: value for key, value in spot.items()}\n",
    "    for spot in spot_dict\n",
    "]"
   ]
  },
  {
   "cell_type": "code",
   "execution_count": null,
   "metadata": {},
   "outputs": [],
   "source": [
    "updated_spots"
   ]
  },
  {
   "cell_type": "code",
   "execution_count": null,
   "metadata": {},
   "outputs": [],
   "source": [
    "url = 'https://api.peterbull.org/addspot'"
   ]
  },
  {
   "cell_type": "code",
   "execution_count": null,
   "metadata": {},
   "outputs": [],
   "source": [
    "# response = await post_all(updated_spots, url)"
   ]
  },
  {
   "cell_type": "code",
   "execution_count": null,
   "metadata": {},
   "outputs": [],
   "source": []
  },
  {
   "cell_type": "code",
   "execution_count": null,
   "metadata": {},
   "outputs": [],
   "source": [
    "spots_json = json.load('./data/legacy_spot_dict.json')"
   ]
  },
  {
   "cell_type": "code",
   "execution_count": null,
   "metadata": {},
   "outputs": [],
   "source": []
  },
  {
   "cell_type": "code",
   "execution_count": null,
   "metadata": {},
   "outputs": [],
   "source": [
    "len(legacy_spot_dict)"
   ]
  },
  {
   "cell_type": "code",
   "execution_count": null,
   "metadata": {},
   "outputs": [],
   "source": []
  },
  {
   "cell_type": "code",
   "execution_count": null,
   "metadata": {},
   "outputs": [],
   "source": []
  }
 ],
 "metadata": {
  "kernelspec": {
   "display_name": ".venv",
   "language": "python",
   "name": "python3"
  },
  "language_info": {
   "codemirror_mode": {
    "name": "ipython",
    "version": 3
   },
   "file_extension": ".py",
   "mimetype": "text/x-python",
   "name": "python",
   "nbconvert_exporter": "python",
   "pygments_lexer": "ipython3",
   "version": "3.11.0"
  }
 },
 "nbformat": 4,
 "nbformat_minor": 2
}
