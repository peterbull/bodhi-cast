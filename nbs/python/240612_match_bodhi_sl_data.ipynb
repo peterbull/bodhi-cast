{
 "cells": [
  {
   "cell_type": "code",
   "execution_count": 1,
   "metadata": {},
   "outputs": [],
   "source": [
    "import os\n",
    "\n",
    "import pandas as pd\n",
    "import requests\n",
    "from pydantic import BaseModel, ConfigDict\n",
    "from sqlalchemy import and_, insert, not_, select, text, tuple_\n",
    "from utils.bodhi_models import BodhiWaves, BohdiWavesModel\n",
    "from utils.bodhi_models import engine as bodhi_engine\n",
    "from utils.bodhi_models import get_session\n",
    "from typing import List, Dict, Any, Optional\n",
    "import logging\n",
    "from utils.sl_models import engine as sl_engine"
   ]
  },
  {
   "cell_type": "markdown",
   "metadata": {},
   "source": [
    "### Test Pydantic Models"
   ]
  },
  {
   "cell_type": "code",
   "execution_count": 2,
   "metadata": {},
   "outputs": [
    {
     "name": "stderr",
     "output_type": "stream",
     "text": [
      "/tmp/ipykernel_58933/62947810.py:3: RemovedIn20Warning: Deprecated API features detected! These feature(s) are not compatible with SQLAlchemy 2.0. To prevent incompatible upgrades prior to updating applications, ensure requirements files are pinned to \"sqlalchemy<2.0\". Set environment variable SQLALCHEMY_WARN_20=1 to show all deprecation warnings.  Set environment variable SQLALCHEMY_SILENCE_UBER_WARNING=1 to silence this message. (Background on SQLAlchemy 2.0 at: https://sqlalche.me/e/b8d9)\n",
      "  results = db.execute(stmt).fetchall()\n"
     ]
    }
   ],
   "source": [
    "with get_session(bodhi_engine) as db:\n",
    "    stmt = \"\"\"select * from wave_forecast limit 1\"\"\"\n",
    "    results = db.execute(stmt).fetchall()"
   ]
  },
  {
   "cell_type": "code",
   "execution_count": 3,
   "metadata": {},
   "outputs": [
    {
     "data": {
      "text/plain": [
       "[(1, '0101000020E61000000000000000604B400000000000805440', 82.0, 54.75, datetime.datetime(2024, 6, 12, 0, 0, tzinfo=datetime.timezone.utc), datetime.timedelta(0), datetime.datetime(2024, 6, 12, 0, 0, tzinfo=datetime.timezone.utc), 0.029999999329447746, 1.2300000190734863, 51.7400016784668, 0.019999999552965164, 0.3100000023841858, 24.479999542236328, 2.2899999618530273, 188.36000061035156, None, None, datetime.datetime(2024, 6, 12, 13, 19, 52, 744570, tzinfo=datetime.timezone.utc))]"
      ]
     },
     "execution_count": 3,
     "metadata": {},
     "output_type": "execute_result"
    }
   ],
   "source": [
    "results"
   ]
  },
  {
   "cell_type": "code",
   "execution_count": 4,
   "metadata": {},
   "outputs": [
    {
     "data": {
      "text/plain": [
       "[BohdiWavesModel(id=1, location='0101000020E61000000000000000604B400000000000805440', latitude=82.0, longitude=54.75, time=datetime.datetime(2024, 6, 12, 0, 0, tzinfo=datetime.timezone.utc), step=datetime.timedelta(0), valid_time=datetime.datetime(2024, 6, 12, 0, 0, tzinfo=datetime.timezone.utc), swh=0.029999999329447746, perpw=1.2300000190734863, dirpw=51.7400016784668, shww=0.019999999552965164, mpww=0.3100000023841858, wvdir=24.479999542236328, ws=2.2899999618530273, wdir=188.36000061035156, swell=None, swper=None, entry_updated=datetime.datetime(2024, 6, 12, 13, 19, 52, 744570, tzinfo=datetime.timezone.utc))]"
      ]
     },
     "execution_count": 4,
     "metadata": {},
     "output_type": "execute_result"
    }
   ],
   "source": [
    "[BohdiWavesModel.model_validate(entry._asdict()) for entry in results]"
   ]
  },
  {
   "cell_type": "markdown",
   "metadata": {},
   "source": [
    "## Sl Spots by id, lat, and lon"
   ]
  },
  {
   "cell_type": "code",
   "execution_count": 5,
   "metadata": {},
   "outputs": [],
   "source": [
    "class SpotSpatialIdx(BaseModel):\n",
    "    spot_id: str\n",
    "    spot_lat: float\n",
    "    spot_lon: float\n",
    "\n",
    "    model_config = ConfigDict(from_attributes=True)"
   ]
  },
  {
   "cell_type": "code",
   "execution_count": 6,
   "metadata": {},
   "outputs": [],
   "source": [
    "with get_session(sl_engine) as db:\n",
    "    stmt = \"select spot_id, spot_lat, spot_lon from sl_spots\"\n",
    "    results = db.execute(stmt).fetchall()\n"
   ]
  },
  {
   "cell_type": "code",
   "execution_count": 7,
   "metadata": {},
   "outputs": [],
   "source": [
    "spatial_idxs = [SpotSpatialIdx.model_validate(entry) for entry in results]"
   ]
  },
  {
   "cell_type": "markdown",
   "metadata": {},
   "source": [
    "### Get the associated Offshore Location for each spot"
   ]
  },
  {
   "cell_type": "code",
   "execution_count": 8,
   "metadata": {},
   "outputs": [],
   "source": [
    "with get_session(sl_engine) as db:\n",
    "    stmt = text(\"\"\"select distinct on (\"associated_spotId\") \"associated_spotId\", \"associated_offshoreLocation_lat\", \"associated_offshoreLocation_lon\" from sl_ratings\"\"\")\n",
    "    results = db.execute(stmt).fetchall()"
   ]
  },
  {
   "cell_type": "code",
   "execution_count": 9,
   "metadata": {},
   "outputs": [],
   "source": [
    "class SlOffshoreIdx(BaseModel):\n",
    "    associated_spotId: str\n",
    "    associated_offshoreLocation_lat: float\n",
    "    associated_offshoreLocation_lon: float\n",
    "\n",
    "    model_config = ConfigDict(from_attributes=True)"
   ]
  },
  {
   "cell_type": "code",
   "execution_count": 10,
   "metadata": {},
   "outputs": [],
   "source": [
    "data = [SlOffshoreIdx.model_validate(entry) for entry in results]"
   ]
  },
  {
   "cell_type": "code",
   "execution_count": 11,
   "metadata": {},
   "outputs": [],
   "source": [
    "data_dicts = [entry.model_dump() for entry in data]"
   ]
  },
  {
   "cell_type": "code",
   "execution_count": 12,
   "metadata": {},
   "outputs": [
    {
     "data": {
      "text/plain": [
       "{'associated_spotId': '5842041f4e65fad6a77087f9',\n",
       " 'associated_offshoreLocation_lat': 37.5,\n",
       " 'associated_offshoreLocation_lon': -122.75}"
      ]
     },
     "execution_count": 12,
     "metadata": {},
     "output_type": "execute_result"
    }
   ],
   "source": [
    "data_dicts[0]"
   ]
  },
  {
   "cell_type": "markdown",
   "metadata": {},
   "source": [
    "#### Transform to dataframe"
   ]
  },
  {
   "cell_type": "markdown",
   "metadata": {},
   "source": [
    "Filter to only include where the spot's offshore location matches bodhi-cast's offshore location"
   ]
  },
  {
   "cell_type": "code",
   "execution_count": 13,
   "metadata": {},
   "outputs": [],
   "source": [
    "df = pd.DataFrame(data_dicts)"
   ]
  },
  {
   "cell_type": "code",
   "execution_count": 14,
   "metadata": {},
   "outputs": [
    {
     "data": {
      "text/html": [
       "<div>\n",
       "<style scoped>\n",
       "    .dataframe tbody tr th:only-of-type {\n",
       "        vertical-align: middle;\n",
       "    }\n",
       "\n",
       "    .dataframe tbody tr th {\n",
       "        vertical-align: top;\n",
       "    }\n",
       "\n",
       "    .dataframe thead th {\n",
       "        text-align: right;\n",
       "    }\n",
       "</style>\n",
       "<table border=\"1\" class=\"dataframe\">\n",
       "  <thead>\n",
       "    <tr style=\"text-align: right;\">\n",
       "      <th></th>\n",
       "      <th>associated_spotId</th>\n",
       "      <th>associated_offshoreLocation_lat</th>\n",
       "      <th>associated_offshoreLocation_lon</th>\n",
       "    </tr>\n",
       "  </thead>\n",
       "  <tbody>\n",
       "    <tr>\n",
       "      <th>0</th>\n",
       "      <td>5842041f4e65fad6a77087f9</td>\n",
       "      <td>37.50</td>\n",
       "      <td>-122.75</td>\n",
       "    </tr>\n",
       "    <tr>\n",
       "      <th>1</th>\n",
       "      <td>5842041f4e65fad6a7708804</td>\n",
       "      <td>45.25</td>\n",
       "      <td>-124.25</td>\n",
       "    </tr>\n",
       "    <tr>\n",
       "      <th>2</th>\n",
       "      <td>5842041f4e65fad6a7708805</td>\n",
       "      <td>36.75</td>\n",
       "      <td>-122.25</td>\n",
       "    </tr>\n",
       "    <tr>\n",
       "      <th>3</th>\n",
       "      <td>5842041f4e65fad6a7708806</td>\n",
       "      <td>36.75</td>\n",
       "      <td>-122.25</td>\n",
       "    </tr>\n",
       "    <tr>\n",
       "      <th>4</th>\n",
       "      <td>5842041f4e65fad6a7708807</td>\n",
       "      <td>36.90</td>\n",
       "      <td>-122.10</td>\n",
       "    </tr>\n",
       "  </tbody>\n",
       "</table>\n",
       "</div>"
      ],
      "text/plain": [
       "          associated_spotId  associated_offshoreLocation_lat  \\\n",
       "0  5842041f4e65fad6a77087f9                            37.50   \n",
       "1  5842041f4e65fad6a7708804                            45.25   \n",
       "2  5842041f4e65fad6a7708805                            36.75   \n",
       "3  5842041f4e65fad6a7708806                            36.75   \n",
       "4  5842041f4e65fad6a7708807                            36.90   \n",
       "\n",
       "   associated_offshoreLocation_lon  \n",
       "0                          -122.75  \n",
       "1                          -124.25  \n",
       "2                          -122.25  \n",
       "3                          -122.25  \n",
       "4                          -122.10  "
      ]
     },
     "execution_count": 14,
     "metadata": {},
     "output_type": "execute_result"
    }
   ],
   "source": [
    "df.head()"
   ]
  },
  {
   "cell_type": "markdown",
   "metadata": {},
   "source": [
    "Create a mask to only keep lat an lon where they are in the intervals .0, .25, .5, .75"
   ]
  },
  {
   "cell_type": "code",
   "execution_count": 15,
   "metadata": {},
   "outputs": [],
   "source": [
    "df['lat_mod'] = df['associated_offshoreLocation_lat'] % 4\n",
    "df['lon_mod'] = df['associated_offshoreLocation_lon'] % 4"
   ]
  },
  {
   "cell_type": "code",
   "execution_count": 16,
   "metadata": {},
   "outputs": [],
   "source": [
    "mask = (df['lat_mod'].apply(lambda x: round(x, 2) == x) & df['lon_mod'].apply(lambda x: round(x, 2) == x))"
   ]
  },
  {
   "cell_type": "code",
   "execution_count": 17,
   "metadata": {},
   "outputs": [],
   "source": [
    "df = df[mask]"
   ]
  },
  {
   "cell_type": "code",
   "execution_count": 18,
   "metadata": {},
   "outputs": [],
   "source": [
    "df = df.drop(columns=['lat_mod', 'lon_mod'])"
   ]
  },
  {
   "cell_type": "code",
   "execution_count": 19,
   "metadata": {},
   "outputs": [
    {
     "data": {
      "text/plain": [
       "579"
      ]
     },
     "execution_count": 19,
     "metadata": {},
     "output_type": "execute_result"
    }
   ],
   "source": [
    "len(df)"
   ]
  },
  {
   "cell_type": "code",
   "execution_count": 20,
   "metadata": {},
   "outputs": [],
   "source": [
    "lat_lon_list = list(zip(df['associated_offshoreLocation_lat'].values, df['associated_offshoreLocation_lon'].values))"
   ]
  },
  {
   "cell_type": "code",
   "execution_count": 21,
   "metadata": {},
   "outputs": [
    {
     "data": {
      "text/plain": [
       "[(37.0, -122.5),\n",
       " (57.0, -135.75),\n",
       " (38.25, -123.25),\n",
       " (31.0, -81.0),\n",
       " (26.25, -79.75),\n",
       " (45.5, -83.5),\n",
       " (39.5, -124.25),\n",
       " (42.0, -87.5),\n",
       " (41.25, -70.75),\n",
       " (41.25, -70.5),\n",
       " (41.25, -70.0),\n",
       " (26.5, -97.0),\n",
       " (29.0, -94.75),\n",
       " (41.5, -69.75),\n",
       " (38.5, -123.75),\n",
       " (42.5, -70.5),\n",
       " (46.0, -124.25),\n",
       " (43.25, -70.25),\n",
       " (43.25, -70.5),\n",
       " (27.5, -96.75),\n",
       " (28.75, -90.25),\n",
       " (31.5, -80.75),\n",
       " (28.75, -90.0),\n",
       " (39.25, -74.25),\n",
       " (34.0, -77.5),\n",
       " (36.5, -75.5),\n",
       " (35.75, -121.75),\n",
       " (30.0, -87.25),\n",
       " (30.0, -87.5),\n",
       " (30.0, -87.0),\n",
       " (33.0, -79.0),\n",
       " (29.25, -94.5),\n",
       " (41.75, -69.5),\n",
       " (29.25, -94.25),\n",
       " (41.75, -124.5),\n",
       " (32.5, -79.75),\n",
       " (56.75, -135.5),\n",
       " (56.75, -135.75),\n",
       " (46.25, -124.25),\n",
       " (43.5, -70.0),\n",
       " (43.5, -70.25),\n",
       " (30.75, -81.0),\n",
       " (26.0, -82.0),\n",
       " (28.25, -96.0),\n",
       " (40.0, -74.0),\n",
       " (44.25, -124.25),\n",
       " (39.5, -74.0),\n",
       " (43.75, -69.5),\n",
       " (28.5, -95.25),\n",
       " (43.75, -124.25),\n",
       " (48.25, -124.75),\n",
       " (40.25, -73.75),\n",
       " (47.0, -124.5),\n",
       " (47.0, -124.25),\n",
       " (32.75, -79.5),\n",
       " (32.75, -79.25),\n",
       " (38.75, -75.0),\n",
       " (33.5, -78.75),\n",
       " (24.5, -81.75),\n",
       " (24.5, -81.5),\n",
       " (33.5, -78.5),\n",
       " (28.75, -95.0),\n",
       " (22.25, -159.25),\n",
       " (48.5, -124.5),\n",
       " (40.5, -73.5),\n",
       " (40.5, -73.25),\n",
       " (27.0, -79.75),\n",
       " (28.0, -80.25),\n",
       " (36.0, -122.0),\n",
       " (27.5, -80.0),\n",
       " (21.25, -158.0),\n",
       " (32.0, -80.5),\n",
       " (36.25, -75.5),\n",
       " (57.0, -136.0),\n",
       " (21.0, -156.75),\n",
       " (26.5, -82.5),\n",
       " (35.0, -75.5),\n",
       " (59.5, -140.0),\n",
       " (35.0, -121.0),\n",
       " (40.5, -71.5),\n",
       " (28.25, -80.25),\n",
       " (31.25, -81.0),\n",
       " (37.0, -75.75),\n",
       " (37.0, -75.5),\n",
       " (39.75, -124.25),\n",
       " (57.25, -136.0),\n",
       " (21.25, -156.75),\n",
       " (37.5, -122.75),\n",
       " (43.0, -124.75),\n",
       " (40.75, -71.75),\n",
       " (40.75, -71.5),\n",
       " (48.0, -125.0),\n",
       " (27.75, -96.75),\n",
       " (31.75, -80.75),\n",
       " (27.25, -83.0),\n",
       " (57.5, -151.75),\n",
       " (38.25, -74.75),\n",
       " (42.5, -124.75),\n",
       " (44.0, -68.25),\n",
       " (29.5, -85.5),\n",
       " (40.75, -124.5),\n",
       " (26.25, -82.25),\n",
       " (26.25, -82.5),\n",
       " (45.25, -124.25),\n",
       " (27.0, -82.75),\n",
       " (28.0, -83.25),\n",
       " (30.0, -86.25),\n",
       " (30.0, -86.5),\n",
       " (30.0, -86.75),\n",
       " (39.75, -74.0),\n",
       " (27.5, -83.0),\n",
       " (27.5, -83.25),\n",
       " (29.25, -93.5),\n",
       " (38.5, -74.75),\n",
       " (41.0, -71.5),\n",
       " (29.75, -85.75),\n",
       " (46.75, -124.25),\n",
       " (26.25, -80.0),\n",
       " (44.75, -124.5),\n",
       " (39.0, -124.0),\n",
       " (44.75, -124.25),\n",
       " (41.25, -71.25),\n",
       " (26.0, -97.0),\n",
       " (44.5, -86.5),\n",
       " (47.5, -124.5),\n",
       " (27.25, -79.75),\n",
       " (21.0, -157.0),\n",
       " (21.0, -157.25),\n",
       " (26.0, -79.75),\n",
       " (27.75, -80.0),\n",
       " (34.5, -76.25),\n",
       " (35.25, -75.5),\n",
       " (35.25, -75.25),\n",
       " (40.5, -72.75),\n",
       " (27.5, -97.0),\n",
       " (35.25, -121.25),\n",
       " (33.75, -77.75),\n",
       " (28.5, -80.25),\n",
       " (41.25, -124.5),\n",
       " (42.25, -70.5),\n",
       " (36.5, -122.25),\n",
       " (21.25, -157.0),\n",
       " (42.25, -70.25),\n",
       " (43.0, -70.25),\n",
       " (21.75, -158.25),\n",
       " (43.0, -70.5),\n",
       " (40.75, -72.5),\n",
       " (40.75, -72.25),\n",
       " (39.0, -74.75),\n",
       " (39.0, -74.5),\n",
       " (28.0, -95.75),\n",
       " (35.5, -121.5),\n",
       " (28.75, -80.25),\n",
       " (36.75, -122.25),\n",
       " (37.75, -123.0),\n",
       " (42.5, -79.5),\n",
       " (25.75, -79.75),\n",
       " (57.5, -152.25),\n",
       " (29.75, -88.5),\n",
       " (29.75, -88.0),\n",
       " (44.0, -124.5),\n",
       " (43.5, -69.75),\n",
       " (43.5, -124.5),\n",
       " (48.0, -124.75),\n",
       " (44.25, -68.25),\n",
       " (48.5, -125.0),\n",
       " (28.5, -94.25),\n",
       " (42.5, -86.5),\n",
       " (57.75, -152.0),\n",
       " (45.5, -124.25),\n",
       " (42.75, -70.25),\n",
       " (42.75, -70.75),\n",
       " (41.0, -72.0),\n",
       " (30.25, -86.75),\n",
       " (27.75, -83.25),\n",
       " (29.5, -93.75),\n",
       " (29.5, -93.0),\n",
       " (38.75, -74.75),\n",
       " (38.75, -74.5),\n",
       " (29.5, -84.5),\n",
       " (34.25, -77.25),\n",
       " (34.25, -77.0),\n",
       " (34.25, -77.5),\n",
       " (38.0, -123.25),\n",
       " (26.75, -82.5),\n",
       " (45.75, -124.25),\n",
       " (36.0, -75.5)]"
      ]
     },
     "execution_count": 21,
     "metadata": {},
     "output_type": "execute_result"
    }
   ],
   "source": [
    "list(set(zip(df['associated_offshoreLocation_lat'].values, df['associated_offshoreLocation_lon'].values)))"
   ]
  },
  {
   "cell_type": "code",
   "execution_count": 22,
   "metadata": {},
   "outputs": [],
   "source": [
    "lat_lon_str = ', '.join(map(str, lat_lon_list))"
   ]
  },
  {
   "cell_type": "markdown",
   "metadata": {},
   "source": [
    "### Enable postgis"
   ]
  },
  {
   "cell_type": "code",
   "execution_count": 23,
   "metadata": {},
   "outputs": [],
   "source": [
    "with get_session(sl_engine) as db:\n",
    "    stmt = text(\"\"\"CREATE EXTENSION IF NOT EXISTS postgis\"\"\")\n",
    "    results = db.execute(stmt)\n",
    "    db.commit()"
   ]
  },
  {
   "cell_type": "markdown",
   "metadata": {},
   "source": [
    "### Create indexes and reindex "
   ]
  },
  {
   "cell_type": "code",
   "execution_count": 24,
   "metadata": {},
   "outputs": [],
   "source": [
    "with get_session(bodhi_engine) as db:\n",
    "    stmt = text(\"\"\"CREATE INDEX if not exists idx_wave_forecast_lat_lon ON wave_forecast (latitude, longitude)\"\"\")\n",
    "    results = db.execute(stmt)\n",
    "    db.commit()"
   ]
  },
  {
   "cell_type": "code",
   "execution_count": 25,
   "metadata": {},
   "outputs": [],
   "source": [
    "with get_session(bodhi_engine) as db:\n",
    "    stmt = text(\"\"\"reindex index idx_wave_forecast_lat_lon\"\"\")\n",
    "    results = db.execute(stmt)\n",
    "    db.commit()"
   ]
  },
  {
   "cell_type": "markdown",
   "metadata": {},
   "source": [
    "### Getting matching bodhi wave data"
   ]
  },
  {
   "cell_type": "markdown",
   "metadata": {},
   "source": [
    "Get all waves from bodhi for the current day that match the filtered sl spots "
   ]
  },
  {
   "cell_type": "code",
   "execution_count": 26,
   "metadata": {},
   "outputs": [],
   "source": [
    "with get_session(bodhi_engine) as db:\n",
    "    stmt = text(f\"\"\"select * from wave_forecast where time = CURRENT_DATE AND (latitude, longitude) in ({lat_lon_str}) limit 5\"\"\")\n",
    "    results = db.execute(stmt).fetchall()"
   ]
  },
  {
   "cell_type": "code",
   "execution_count": 27,
   "metadata": {},
   "outputs": [],
   "source": [
    "data = [BohdiWavesModel.model_validate(entry) for entry in results]"
   ]
  },
  {
   "cell_type": "code",
   "execution_count": 28,
   "metadata": {},
   "outputs": [
    {
     "data": {
      "text/plain": [
       "[BohdiWavesModel(id=30254, location='0101000020E610000000000000008061C00000000000C04D40', latitude=59.5, longitude=-140.0, time=datetime.datetime(2024, 6, 12, 0, 0, tzinfo=datetime.timezone.utc), step=datetime.timedelta(0), valid_time=datetime.datetime(2024, 6, 12, 0, 0, tzinfo=datetime.timezone.utc), swh=1.9600000381469727, perpw=10.489999771118164, dirpw=218.67999267578125, shww=None, mpww=None, wvdir=None, ws=4.110000133514404, wdir=269.8800048828125, swell=1.8700000047683716, swper=10.489999771118164, entry_updated=datetime.datetime(2024, 6, 12, 13, 19, 52, 744570, tzinfo=datetime.timezone.utc)),\n",
       " BohdiWavesModel(id=34323, location='0101000020E610000000000000000063C00000000000E04C40', latitude=57.75, longitude=-152.0, time=datetime.datetime(2024, 6, 12, 0, 0, tzinfo=datetime.timezone.utc), step=datetime.timedelta(0), valid_time=datetime.datetime(2024, 6, 12, 0, 0, tzinfo=datetime.timezone.utc), swh=1.3300000429153442, perpw=8.25, dirpw=162.5, shww=0.009999999776482582, mpww=0.20000000298023224, wvdir=2.1500000953674316, ws=3.809999942779541, wdir=84.05000305175781, swell=1.2000000476837158, swper=8.210000038146973, entry_updated=datetime.datetime(2024, 6, 12, 13, 19, 52, 744570, tzinfo=datetime.timezone.utc)),\n",
       " BohdiWavesModel(id=34923, location='0101000020E610000000000000000863C00000000000C04C40', latitude=57.5, longitude=-152.25, time=datetime.datetime(2024, 6, 12, 0, 0, tzinfo=datetime.timezone.utc), step=datetime.timedelta(0), valid_time=datetime.datetime(2024, 6, 12, 0, 0, tzinfo=datetime.timezone.utc), swh=1.2699999809265137, perpw=8.149999618530273, dirpw=159.33999633789062, shww=0.029999999329447746, mpww=0.4099999964237213, wvdir=5.099999904632568, ws=4.190000057220459, wdir=82.70999908447266, swell=1.2000000476837158, swper=8.15999984741211, entry_updated=datetime.datetime(2024, 6, 12, 13, 19, 52, 744570, tzinfo=datetime.timezone.utc)),\n",
       " BohdiWavesModel(id=34925, location='0101000020E61000000000000000F862C00000000000C04C40', latitude=57.5, longitude=-151.75, time=datetime.datetime(2024, 6, 12, 0, 0, tzinfo=datetime.timezone.utc), step=datetime.timedelta(0), valid_time=datetime.datetime(2024, 6, 12, 0, 0, tzinfo=datetime.timezone.utc), swh=1.5499999523162842, perpw=8.260000228881836, dirpw=173.07000732421875, shww=None, mpww=None, wvdir=None, ws=4.050000190734863, wdir=86.37000274658203, swell=1.440000057220459, swper=8.260000228881836, entry_updated=datetime.datetime(2024, 6, 12, 13, 19, 52, 744570, tzinfo=datetime.timezone.utc)),\n",
       " BohdiWavesModel(id=35581, location='0101000020E610000000000000000061C00000000000A04C40', latitude=57.25, longitude=-136.0, time=datetime.datetime(2024, 6, 12, 0, 0, tzinfo=datetime.timezone.utc), step=datetime.timedelta(0), valid_time=datetime.datetime(2024, 6, 12, 0, 0, tzinfo=datetime.timezone.utc), swh=1.9600000381469727, perpw=10.800000190734863, dirpw=237.75, shww=0.07999999821186066, mpww=0.6100000143051147, wvdir=47.45000076293945, ws=6.400000095367432, wdir=304.1400146484375, swell=1.909999966621399, swper=10.800000190734863, entry_updated=datetime.datetime(2024, 6, 12, 13, 19, 52, 744570, tzinfo=datetime.timezone.utc))]"
      ]
     },
     "execution_count": 28,
     "metadata": {},
     "output_type": "execute_result"
    }
   ],
   "source": [
    "data"
   ]
  },
  {
   "cell_type": "markdown",
   "metadata": {},
   "source": [
    "## Create New Table to push to same postgres db as other sl data"
   ]
  },
  {
   "cell_type": "code",
   "execution_count": 29,
   "metadata": {},
   "outputs": [],
   "source": [
    "from utils.bodhi_models import create_tables as create_bodhi_tables\n"
   ]
  },
  {
   "cell_type": "code",
   "execution_count": 30,
   "metadata": {},
   "outputs": [],
   "source": [
    "create_bodhi_tables(sl_engine)"
   ]
  },
  {
   "cell_type": "code",
   "execution_count": null,
   "metadata": {},
   "outputs": [],
   "source": [
    "data_dicts = [entry.model_dump() for entry in data]"
   ]
  },
  {
   "cell_type": "code",
   "execution_count": null,
   "metadata": {},
   "outputs": [],
   "source": [
    "for d in data_dicts:\n",
    "    d.pop(\"location\", None)"
   ]
  },
  {
   "cell_type": "code",
   "execution_count": null,
   "metadata": {},
   "outputs": [],
   "source": [
    "data_dicts[0].keys()"
   ]
  },
  {
   "cell_type": "code",
   "execution_count": null,
   "metadata": {},
   "outputs": [],
   "source": [
    "# with get_session(sl_engine) as db:\n",
    "#     stmt = insert(BodhiWaves).values(data_dicts)\n",
    "#     db.execute(stmt)\n",
    "#     db.commit()"
   ]
  },
  {
   "cell_type": "code",
   "execution_count": null,
   "metadata": {},
   "outputs": [],
   "source": [
    "def fetch_wave_data(lat_lon_str):\n",
    "    with get_session(bodhi_engine) as db:\n",
    "        stmt = text(\n",
    "            f\"\"\"select * from wave_forecast where time = CURRENT_DATE AND (latitude, longitude) in ({lat_lon_str})\"\"\"\n",
    "        )\n",
    "        results = db.execute(stmt).fetchall()\n",
    "        data = [BohdiWavesModel.model_validate(entry) for entry in results]\n",
    "        data_dict = [entry.model_dump() for entry in data]\n",
    "        for d in data_dict:\n",
    "            d.pop(\"location\", None)\n",
    "    return data_dict\n",
    "\n",
    "def wave_data_to_db(data):\n",
    "    with get_session(sl_engine) as db:\n",
    "        stmt = insert(BodhiWaves).values(data)\n",
    "        db.execute(stmt)\n",
    "        db.commit()\n",
    "\n",
    "def batch(iterable, n=1):\n",
    "    l = len(iterable)\n",
    "    for idx in range(0, l, n):\n",
    "        yield iterable[idx:min(idx + n, l)]\n",
    "\n",
    "def get_all_batches(lat_lon_list, bs=10):\n",
    "    processed = 0\n",
    "    for batch_lat_lon_list in batch(lat_lon_list, bs):\n",
    "        lat_lon_str = ', '.join(map(str, batch_lat_lon_list))\n",
    "        data = fetch_wave_data(lat_lon_str)\n",
    "        wave_data_to_db(data)\n",
    "        processed += len(batch_lat_lon_list)\n",
    "        logging.info(f\"Processed {processed} out of {len(lat_lon_list)}.\")"
   ]
  },
  {
   "cell_type": "code",
   "execution_count": null,
   "metadata": {},
   "outputs": [],
   "source": [
    "len(list(set(lat_lon_list))), len(lat_lon_list)"
   ]
  },
  {
   "cell_type": "code",
   "execution_count": null,
   "metadata": {},
   "outputs": [],
   "source": [
    "lat_lon_list = list(set(lat_lon_list))"
   ]
  },
  {
   "cell_type": "code",
   "execution_count": null,
   "metadata": {},
   "outputs": [],
   "source": [
    "lat_lon_list"
   ]
  },
  {
   "cell_type": "code",
   "execution_count": null,
   "metadata": {},
   "outputs": [],
   "source": [
    "get_all_batches(lat_lon_list, 5)"
   ]
  },
  {
   "cell_type": "code",
   "execution_count": null,
   "metadata": {},
   "outputs": [],
   "source": [
    "data = fetch_wave_data()"
   ]
  },
  {
   "cell_type": "code",
   "execution_count": null,
   "metadata": {},
   "outputs": [],
   "source": [
    "wave_data_to_db(data)"
   ]
  },
  {
   "cell_type": "code",
   "execution_count": null,
   "metadata": {},
   "outputs": [],
   "source": [
    "fetch_wave_data(1)"
   ]
  },
  {
   "cell_type": "code",
   "execution_count": null,
   "metadata": {},
   "outputs": [],
   "source": []
  }
 ],
 "metadata": {
  "kernelspec": {
   "display_name": ".venv",
   "language": "python",
   "name": "python3"
  },
  "language_info": {
   "codemirror_mode": {
    "name": "ipython",
    "version": 3
   },
   "file_extension": ".py",
   "mimetype": "text/x-python",
   "name": "python",
   "nbconvert_exporter": "python",
   "pygments_lexer": "ipython3",
   "version": "3.10.12"
  }
 },
 "nbformat": 4,
 "nbformat_minor": 2
}
