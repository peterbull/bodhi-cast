{
 "cells": [
  {
   "cell_type": "code",
   "execution_count": 1,
   "metadata": {},
   "outputs": [],
   "source": [
    "import os\n",
    "import requests\n",
    "from utils.sl_models import engine as sl_engine\n",
    "from utils.bodhi_models import engine as bodhi_engine\n",
    "from utils.bodhi_models import get_session, SpotsModel, WaveForecastModel\n",
    "from sqlalchemy import select, and_, not_, text\n",
    "from pydantic import BaseModel, ConfigDict\n",
    "import pandas as pd"
   ]
  },
  {
   "cell_type": "markdown",
   "metadata": {},
   "source": [
    "### Test Pydantic Models"
   ]
  },
  {
   "cell_type": "code",
   "execution_count": 2,
   "metadata": {},
   "outputs": [
    {
     "name": "stderr",
     "output_type": "stream",
     "text": [
      "/tmp/ipykernel_84535/62947810.py:3: RemovedIn20Warning: Deprecated API features detected! These feature(s) are not compatible with SQLAlchemy 2.0. To prevent incompatible upgrades prior to updating applications, ensure requirements files are pinned to \"sqlalchemy<2.0\". Set environment variable SQLALCHEMY_WARN_20=1 to show all deprecation warnings.  Set environment variable SQLALCHEMY_SILENCE_UBER_WARNING=1 to silence this message. (Background on SQLAlchemy 2.0 at: https://sqlalche.me/e/b8d9)\n",
      "  results = db.execute(stmt).fetchall()\n"
     ]
    }
   ],
   "source": [
    "with get_session(bodhi_engine) as db:\n",
    "    stmt = \"\"\"select * from wave_forecast limit 1\"\"\"\n",
    "    results = db.execute(stmt).fetchall()"
   ]
  },
  {
   "cell_type": "code",
   "execution_count": 3,
   "metadata": {},
   "outputs": [
    {
     "data": {
      "text/plain": [
       "[(20132278, '0101000020E610000000000000000023400000000000F05340', 79.75, 9.5, datetime.datetime(2024, 6, 10, 0, 0, tzinfo=datetime.timezone.utc), datetime.timedelta(0), datetime.datetime(2024, 6, 10, 0, 0, tzinfo=datetime.timezone.utc), 1.090000033378601, 5.170000076293945, 46.459999084472656, 1.0399999618530273, 5.139999866485596, 44.43000030517578, 8.420000076293945, 63.06999969482422, 0.33000001311302185, 6.800000190734863, datetime.datetime(2024, 6, 10, 16, 22, 15, 153926, tzinfo=datetime.timezone.utc))]"
      ]
     },
     "execution_count": 3,
     "metadata": {},
     "output_type": "execute_result"
    }
   ],
   "source": [
    "results"
   ]
  },
  {
   "cell_type": "code",
   "execution_count": 4,
   "metadata": {},
   "outputs": [
    {
     "data": {
      "text/plain": [
       "[WaveForecastModel(id=20132278, location='0101000020E610000000000000000023400000000000F05340', latitude=79.75, longitude=9.5, time=datetime.datetime(2024, 6, 10, 0, 0, tzinfo=datetime.timezone.utc), step=datetime.timedelta(0), valid_time=datetime.datetime(2024, 6, 10, 0, 0, tzinfo=datetime.timezone.utc), swh=1.090000033378601, perpw=5.170000076293945, dirpw=46.459999084472656, shww=1.0399999618530273, mpww=5.139999866485596, wvdir=44.43000030517578, ws=8.420000076293945, wdir=63.06999969482422, swell=0.33000001311302185, swper=6.800000190734863, entry_updated=datetime.datetime(2024, 6, 10, 16, 22, 15, 153926, tzinfo=datetime.timezone.utc))]"
      ]
     },
     "execution_count": 4,
     "metadata": {},
     "output_type": "execute_result"
    }
   ],
   "source": [
    "[WaveForecastModel.model_validate(entry._asdict()) for entry in results]"
   ]
  },
  {
   "cell_type": "code",
   "execution_count": 5,
   "metadata": {},
   "outputs": [],
   "source": [
    "class SpotSpatialIdx(BaseModel):\n",
    "    spot_id: str\n",
    "    spot_lat: float\n",
    "    spot_lon: float\n",
    "\n",
    "    model_config = ConfigDict(from_attributes=True)"
   ]
  },
  {
   "cell_type": "code",
   "execution_count": 6,
   "metadata": {},
   "outputs": [],
   "source": [
    "with get_session(sl_engine) as db:\n",
    "    stmt = \"select spot_id, spot_lat, spot_lon from sl_spots\"\n",
    "    results = db.execute(stmt).fetchall()\n"
   ]
  },
  {
   "cell_type": "code",
   "execution_count": 7,
   "metadata": {},
   "outputs": [],
   "source": [
    "spatial_idxs = [SpotSpatialIdx.model_validate(entry) for entry in results]"
   ]
  },
  {
   "cell_type": "code",
   "execution_count": 8,
   "metadata": {},
   "outputs": [],
   "source": [
    "with get_session(sl_engine) as db:\n",
    "    stmt = text(\"\"\"select distinct on (\"associated_spotId\") \"associated_spotId\", \"associated_offshoreLocation_lat\", \"associated_offshoreLocation_lon\" from sl_ratings\"\"\")\n",
    "    results = db.execute(stmt).fetchall()"
   ]
  },
  {
   "cell_type": "code",
   "execution_count": 9,
   "metadata": {},
   "outputs": [],
   "source": [
    "class SlOffshoreIdx(BaseModel):\n",
    "    associated_spotId: str\n",
    "    associated_offshoreLocation_lat: float\n",
    "    associated_offshoreLocation_lon: float\n",
    "\n",
    "    model_config = ConfigDict(from_attributes=True)"
   ]
  },
  {
   "cell_type": "code",
   "execution_count": 10,
   "metadata": {},
   "outputs": [],
   "source": [
    "data = [SlOffshoreIdx.model_validate(entry) for entry in results]"
   ]
  },
  {
   "cell_type": "code",
   "execution_count": 11,
   "metadata": {},
   "outputs": [],
   "source": [
    "data_dicts = [SlOffshoreIdx.model_dump(entry) for entry in data]"
   ]
  },
  {
   "cell_type": "code",
   "execution_count": 12,
   "metadata": {},
   "outputs": [],
   "source": [
    "df = pd.DataFrame(data_dicts)"
   ]
  },
  {
   "cell_type": "code",
   "execution_count": 13,
   "metadata": {},
   "outputs": [
    {
     "data": {
      "text/html": [
       "<div>\n",
       "<style scoped>\n",
       "    .dataframe tbody tr th:only-of-type {\n",
       "        vertical-align: middle;\n",
       "    }\n",
       "\n",
       "    .dataframe tbody tr th {\n",
       "        vertical-align: top;\n",
       "    }\n",
       "\n",
       "    .dataframe thead th {\n",
       "        text-align: right;\n",
       "    }\n",
       "</style>\n",
       "<table border=\"1\" class=\"dataframe\">\n",
       "  <thead>\n",
       "    <tr style=\"text-align: right;\">\n",
       "      <th></th>\n",
       "      <th>associated_spotId</th>\n",
       "      <th>associated_offshoreLocation_lat</th>\n",
       "      <th>associated_offshoreLocation_lon</th>\n",
       "    </tr>\n",
       "  </thead>\n",
       "  <tbody>\n",
       "    <tr>\n",
       "      <th>0</th>\n",
       "      <td>5842041f4e65fad6a77087f9</td>\n",
       "      <td>37.50</td>\n",
       "      <td>-122.75</td>\n",
       "    </tr>\n",
       "    <tr>\n",
       "      <th>1</th>\n",
       "      <td>5842041f4e65fad6a7708804</td>\n",
       "      <td>45.25</td>\n",
       "      <td>-124.25</td>\n",
       "    </tr>\n",
       "    <tr>\n",
       "      <th>2</th>\n",
       "      <td>5842041f4e65fad6a7708805</td>\n",
       "      <td>36.75</td>\n",
       "      <td>-122.25</td>\n",
       "    </tr>\n",
       "    <tr>\n",
       "      <th>3</th>\n",
       "      <td>5842041f4e65fad6a7708806</td>\n",
       "      <td>36.75</td>\n",
       "      <td>-122.25</td>\n",
       "    </tr>\n",
       "    <tr>\n",
       "      <th>4</th>\n",
       "      <td>5842041f4e65fad6a7708807</td>\n",
       "      <td>36.90</td>\n",
       "      <td>-122.10</td>\n",
       "    </tr>\n",
       "  </tbody>\n",
       "</table>\n",
       "</div>"
      ],
      "text/plain": [
       "          associated_spotId  associated_offshoreLocation_lat  \\\n",
       "0  5842041f4e65fad6a77087f9                            37.50   \n",
       "1  5842041f4e65fad6a7708804                            45.25   \n",
       "2  5842041f4e65fad6a7708805                            36.75   \n",
       "3  5842041f4e65fad6a7708806                            36.75   \n",
       "4  5842041f4e65fad6a7708807                            36.90   \n",
       "\n",
       "   associated_offshoreLocation_lon  \n",
       "0                          -122.75  \n",
       "1                          -124.25  \n",
       "2                          -122.25  \n",
       "3                          -122.25  \n",
       "4                          -122.10  "
      ]
     },
     "execution_count": 13,
     "metadata": {},
     "output_type": "execute_result"
    }
   ],
   "source": [
    "df.head()"
   ]
  },
  {
   "cell_type": "markdown",
   "metadata": {},
   "source": [
    "Create a mask to only keep lat an lon where they are in the intervals .0, .25, .5, .75"
   ]
  },
  {
   "cell_type": "code",
   "execution_count": 14,
   "metadata": {},
   "outputs": [],
   "source": [
    "df['lat_mod'] = df['associated_offshoreLocation_lat'] % 4\n",
    "df['lon_mod'] = df['associated_offshoreLocation_lon'] % 4"
   ]
  },
  {
   "cell_type": "code",
   "execution_count": 15,
   "metadata": {},
   "outputs": [],
   "source": [
    "mask = (df['lat_mod'].apply(lambda x: round(x, 2) == x) & df['lon_mod'].apply(lambda x: round(x, 2) == x))"
   ]
  },
  {
   "cell_type": "code",
   "execution_count": 16,
   "metadata": {},
   "outputs": [],
   "source": [
    "df = df[mask]"
   ]
  },
  {
   "cell_type": "code",
   "execution_count": 17,
   "metadata": {},
   "outputs": [],
   "source": [
    "df = df.drop(columns=['lat_mod', 'lon_mod'])"
   ]
  },
  {
   "cell_type": "code",
   "execution_count": 18,
   "metadata": {},
   "outputs": [
    {
     "data": {
      "text/plain": [
       "582"
      ]
     },
     "execution_count": 18,
     "metadata": {},
     "output_type": "execute_result"
    }
   ],
   "source": [
    "len(df)"
   ]
  },
  {
   "cell_type": "code",
   "execution_count": 19,
   "metadata": {},
   "outputs": [],
   "source": [
    "lat_lon_list = list(zip(df['associated_offshoreLocation_lat'].values, df['associated_offshoreLocation_lon'].values))"
   ]
  },
  {
   "cell_type": "code",
   "execution_count": 20,
   "metadata": {},
   "outputs": [],
   "source": [
    "lat_lon_str = ', '.join(map(str, lat_lon_list))"
   ]
  },
  {
   "cell_type": "code",
   "execution_count": 21,
   "metadata": {},
   "outputs": [],
   "source": [
    "with get_session(bodhi_engine) as db:\n",
    "    stmt = text(\"\"\"CREATE INDEX if not exists idx_wave_forecast_lat_lon ON wave_forecast (latitude, longitude)\"\"\")\n",
    "    results = db.execute(stmt)\n",
    "    db.commit()"
   ]
  },
  {
   "cell_type": "code",
   "execution_count": 22,
   "metadata": {},
   "outputs": [],
   "source": [
    "with get_session(bodhi_engine) as db:\n",
    "    stmt = text(\"\"\"reindex index idx_wave_forecast_lat_lon\"\"\")\n",
    "    results = db.execute(stmt)\n",
    "    db.commit()"
   ]
  },
  {
   "cell_type": "code",
   "execution_count": 23,
   "metadata": {},
   "outputs": [],
   "source": [
    "with get_session(bodhi_engine) as db:\n",
    "    stmt = text(f\"\"\"select  from wave_forecast where time = CURRENT_DATE AND (latitude, longitude) in ({lat_lon_str}) limit 5\"\"\")\n",
    "    results = db.execute(stmt).fetchall()"
   ]
  },
  {
   "cell_type": "code",
   "execution_count": 24,
   "metadata": {},
   "outputs": [
    {
     "data": {
      "text/plain": [
       "[(32601315, '0101000020E610000000000000008061C00000000000C04D40', 59.5, -140.0, datetime.datetime(2024, 6, 12, 0, 0, tzinfo=datetime.timezone.utc), datetime.timedelta(0), datetime.datetime(2024, 6, 12, 0, 0, tzinfo=datetime.timezone.utc), 1.9600000381469727, 10.489999771118164, 218.67999267578125, None, None, None, 4.110000133514404, 269.8800048828125, 1.8700000047683716, 10.489999771118164, datetime.datetime(2024, 6, 12, 10, 56, 37, 64720, tzinfo=datetime.timezone.utc)),\n",
       " (32605384, '0101000020E610000000000000000063C00000000000E04C40', 57.75, -152.0, datetime.datetime(2024, 6, 12, 0, 0, tzinfo=datetime.timezone.utc), datetime.timedelta(0), datetime.datetime(2024, 6, 12, 0, 0, tzinfo=datetime.timezone.utc), 1.3300000429153442, 8.25, 162.5, 0.009999999776482582, 0.20000000298023224, 2.1500000953674316, 3.809999942779541, 84.05000305175781, 1.2000000476837158, 8.210000038146973, datetime.datetime(2024, 6, 12, 10, 56, 37, 64720, tzinfo=datetime.timezone.utc)),\n",
       " (32605984, '0101000020E610000000000000000863C00000000000C04C40', 57.5, -152.25, datetime.datetime(2024, 6, 12, 0, 0, tzinfo=datetime.timezone.utc), datetime.timedelta(0), datetime.datetime(2024, 6, 12, 0, 0, tzinfo=datetime.timezone.utc), 1.2699999809265137, 8.149999618530273, 159.33999633789062, 0.029999999329447746, 0.4099999964237213, 5.099999904632568, 4.190000057220459, 82.70999908447266, 1.2000000476837158, 8.15999984741211, datetime.datetime(2024, 6, 12, 10, 56, 37, 64720, tzinfo=datetime.timezone.utc)),\n",
       " (32605986, '0101000020E61000000000000000F862C00000000000C04C40', 57.5, -151.75, datetime.datetime(2024, 6, 12, 0, 0, tzinfo=datetime.timezone.utc), datetime.timedelta(0), datetime.datetime(2024, 6, 12, 0, 0, tzinfo=datetime.timezone.utc), 1.5499999523162842, 8.260000228881836, 173.07000732421875, None, None, None, 4.050000190734863, 86.37000274658203, 1.440000057220459, 8.260000228881836, datetime.datetime(2024, 6, 12, 10, 56, 37, 64720, tzinfo=datetime.timezone.utc)),\n",
       " (32606642, '0101000020E610000000000000000061C00000000000A04C40', 57.25, -136.0, datetime.datetime(2024, 6, 12, 0, 0, tzinfo=datetime.timezone.utc), datetime.timedelta(0), datetime.datetime(2024, 6, 12, 0, 0, tzinfo=datetime.timezone.utc), 1.9600000381469727, 10.800000190734863, 237.75, 0.07999999821186066, 0.6100000143051147, 47.45000076293945, 6.400000095367432, 304.1400146484375, 1.909999966621399, 10.800000190734863, datetime.datetime(2024, 6, 12, 10, 56, 37, 64720, tzinfo=datetime.timezone.utc))]"
      ]
     },
     "execution_count": 24,
     "metadata": {},
     "output_type": "execute_result"
    }
   ],
   "source": [
    "results"
   ]
  },
  {
   "cell_type": "code",
   "execution_count": null,
   "metadata": {},
   "outputs": [],
   "source": []
  }
 ],
 "metadata": {
  "kernelspec": {
   "display_name": ".venv",
   "language": "python",
   "name": "python3"
  },
  "language_info": {
   "codemirror_mode": {
    "name": "ipython",
    "version": 3
   },
   "file_extension": ".py",
   "mimetype": "text/x-python",
   "name": "python",
   "nbconvert_exporter": "python",
   "pygments_lexer": "ipython3",
   "version": "3.10.12"
  }
 },
 "nbformat": 4,
 "nbformat_minor": 2
}
