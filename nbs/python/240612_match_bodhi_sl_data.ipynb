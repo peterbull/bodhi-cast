{
 "cells": [
  {
   "cell_type": "code",
   "execution_count": 57,
   "metadata": {},
   "outputs": [],
   "source": [
    "import os\n",
    "\n",
    "import pandas as pd\n",
    "import requests\n",
    "from pydantic import BaseModel, ConfigDict\n",
    "from sqlalchemy import and_, insert, not_, select, text, tuple_\n",
    "from utils.bodhi_models import BodhiWaves, BohdiWavesModel\n",
    "from utils.bodhi_models import engine as bodhi_engine\n",
    "from utils.bodhi_models import get_session\n",
    "from typing import List, Dict, Any, Optional\n",
    "from utils.sl_models import engine as sl_engine"
   ]
  },
  {
   "cell_type": "markdown",
   "metadata": {},
   "source": [
    "### Test Pydantic Models"
   ]
  },
  {
   "cell_type": "code",
   "execution_count": 2,
   "metadata": {},
   "outputs": [
    {
     "name": "stderr",
     "output_type": "stream",
     "text": [
      "/tmp/ipykernel_90876/62947810.py:3: RemovedIn20Warning: Deprecated API features detected! These feature(s) are not compatible with SQLAlchemy 2.0. To prevent incompatible upgrades prior to updating applications, ensure requirements files are pinned to \"sqlalchemy<2.0\". Set environment variable SQLALCHEMY_WARN_20=1 to show all deprecation warnings.  Set environment variable SQLALCHEMY_SILENCE_UBER_WARNING=1 to silence this message. (Background on SQLAlchemy 2.0 at: https://sqlalche.me/e/b8d9)\n",
      "  results = db.execute(stmt).fetchall()\n"
     ]
    }
   ],
   "source": [
    "with get_session(bodhi_engine) as db:\n",
    "    stmt = \"\"\"select * from wave_forecast limit 1\"\"\"\n",
    "    results = db.execute(stmt).fetchall()"
   ]
  },
  {
   "cell_type": "code",
   "execution_count": 3,
   "metadata": {},
   "outputs": [
    {
     "data": {
      "text/plain": [
       "[(4182236, '0101000020E610000000000000000024C00000000000001EC0', -7.5, -10.0, datetime.datetime(2024, 6, 12, 0, 0, tzinfo=datetime.timezone.utc), datetime.timedelta(seconds=75600), datetime.datetime(2024, 6, 12, 21, 0, tzinfo=datetime.timezone.utc), 1.7599999904632568, 7.329999923706055, 133.85000610351562, 1.6200000047683716, 7.119999885559082, 126.06999969482422, 7.349999904632568, 122.31999969482422, 0.6499999761581421, 11.680000305175781, datetime.datetime(2024, 6, 12, 13, 27, 53, 61400, tzinfo=datetime.timezone.utc))]"
      ]
     },
     "execution_count": 3,
     "metadata": {},
     "output_type": "execute_result"
    }
   ],
   "source": [
    "results"
   ]
  },
  {
   "cell_type": "code",
   "execution_count": 4,
   "metadata": {},
   "outputs": [
    {
     "data": {
      "text/plain": [
       "[BohdiWavesModel(id=4182236, location='0101000020E610000000000000000024C00000000000001EC0', latitude=-7.5, longitude=-10.0, time=datetime.datetime(2024, 6, 12, 0, 0, tzinfo=datetime.timezone.utc), step=datetime.timedelta(seconds=75600), valid_time=datetime.datetime(2024, 6, 12, 21, 0, tzinfo=datetime.timezone.utc), swh=1.7599999904632568, perpw=7.329999923706055, dirpw=133.85000610351562, shww=1.6200000047683716, mpww=7.119999885559082, wvdir=126.06999969482422, ws=7.349999904632568, wdir=122.31999969482422, swell=0.6499999761581421, swper=11.680000305175781, entry_updated=datetime.datetime(2024, 6, 12, 13, 27, 53, 61400, tzinfo=datetime.timezone.utc))]"
      ]
     },
     "execution_count": 4,
     "metadata": {},
     "output_type": "execute_result"
    }
   ],
   "source": [
    "[BohdiWavesModel.model_validate(entry._asdict()) for entry in results]"
   ]
  },
  {
   "cell_type": "markdown",
   "metadata": {},
   "source": [
    "## Sl Spots by id, lat, and lon"
   ]
  },
  {
   "cell_type": "code",
   "execution_count": 5,
   "metadata": {},
   "outputs": [],
   "source": [
    "class SpotSpatialIdx(BaseModel):\n",
    "    spot_id: str\n",
    "    spot_lat: float\n",
    "    spot_lon: float\n",
    "\n",
    "    model_config = ConfigDict(from_attributes=True)"
   ]
  },
  {
   "cell_type": "code",
   "execution_count": 6,
   "metadata": {},
   "outputs": [],
   "source": [
    "with get_session(sl_engine) as db:\n",
    "    stmt = \"select spot_id, spot_lat, spot_lon from sl_spots\"\n",
    "    results = db.execute(stmt).fetchall()\n"
   ]
  },
  {
   "cell_type": "code",
   "execution_count": 7,
   "metadata": {},
   "outputs": [],
   "source": [
    "spatial_idxs = [SpotSpatialIdx.model_validate(entry) for entry in results]"
   ]
  },
  {
   "cell_type": "markdown",
   "metadata": {},
   "source": [
    "### Get the associated Offshore Location for each spot"
   ]
  },
  {
   "cell_type": "code",
   "execution_count": 8,
   "metadata": {},
   "outputs": [],
   "source": [
    "with get_session(sl_engine) as db:\n",
    "    stmt = text(\"\"\"select distinct on (\"associated_spotId\") \"associated_spotId\", \"associated_offshoreLocation_lat\", \"associated_offshoreLocation_lon\" from sl_ratings\"\"\")\n",
    "    results = db.execute(stmt).fetchall()"
   ]
  },
  {
   "cell_type": "code",
   "execution_count": 9,
   "metadata": {},
   "outputs": [],
   "source": [
    "class SlOffshoreIdx(BaseModel):\n",
    "    associated_spotId: str\n",
    "    associated_offshoreLocation_lat: float\n",
    "    associated_offshoreLocation_lon: float\n",
    "\n",
    "    model_config = ConfigDict(from_attributes=True)"
   ]
  },
  {
   "cell_type": "code",
   "execution_count": 10,
   "metadata": {},
   "outputs": [],
   "source": [
    "data = [SlOffshoreIdx.model_validate(entry) for entry in results]"
   ]
  },
  {
   "cell_type": "code",
   "execution_count": 11,
   "metadata": {},
   "outputs": [],
   "source": [
    "data_dicts = [SlOffshoreIdx.model_dump(entry) for entry in data]"
   ]
  },
  {
   "cell_type": "markdown",
   "metadata": {},
   "source": [
    "#### Transform to dataframe"
   ]
  },
  {
   "cell_type": "markdown",
   "metadata": {},
   "source": [
    "Filter to only include where the spot's offshore location matches bodhi-cast's offshore location"
   ]
  },
  {
   "cell_type": "code",
   "execution_count": 12,
   "metadata": {},
   "outputs": [],
   "source": [
    "df = pd.DataFrame(data_dicts)"
   ]
  },
  {
   "cell_type": "code",
   "execution_count": 13,
   "metadata": {},
   "outputs": [
    {
     "data": {
      "text/html": [
       "<div>\n",
       "<style scoped>\n",
       "    .dataframe tbody tr th:only-of-type {\n",
       "        vertical-align: middle;\n",
       "    }\n",
       "\n",
       "    .dataframe tbody tr th {\n",
       "        vertical-align: top;\n",
       "    }\n",
       "\n",
       "    .dataframe thead th {\n",
       "        text-align: right;\n",
       "    }\n",
       "</style>\n",
       "<table border=\"1\" class=\"dataframe\">\n",
       "  <thead>\n",
       "    <tr style=\"text-align: right;\">\n",
       "      <th></th>\n",
       "      <th>associated_spotId</th>\n",
       "      <th>associated_offshoreLocation_lat</th>\n",
       "      <th>associated_offshoreLocation_lon</th>\n",
       "    </tr>\n",
       "  </thead>\n",
       "  <tbody>\n",
       "    <tr>\n",
       "      <th>0</th>\n",
       "      <td>5842041f4e65fad6a77087f9</td>\n",
       "      <td>37.50</td>\n",
       "      <td>-122.75</td>\n",
       "    </tr>\n",
       "    <tr>\n",
       "      <th>1</th>\n",
       "      <td>5842041f4e65fad6a7708804</td>\n",
       "      <td>45.25</td>\n",
       "      <td>-124.25</td>\n",
       "    </tr>\n",
       "    <tr>\n",
       "      <th>2</th>\n",
       "      <td>5842041f4e65fad6a7708805</td>\n",
       "      <td>36.75</td>\n",
       "      <td>-122.25</td>\n",
       "    </tr>\n",
       "    <tr>\n",
       "      <th>3</th>\n",
       "      <td>5842041f4e65fad6a7708806</td>\n",
       "      <td>36.75</td>\n",
       "      <td>-122.25</td>\n",
       "    </tr>\n",
       "    <tr>\n",
       "      <th>4</th>\n",
       "      <td>5842041f4e65fad6a7708807</td>\n",
       "      <td>36.90</td>\n",
       "      <td>-122.10</td>\n",
       "    </tr>\n",
       "  </tbody>\n",
       "</table>\n",
       "</div>"
      ],
      "text/plain": [
       "          associated_spotId  associated_offshoreLocation_lat  \\\n",
       "0  5842041f4e65fad6a77087f9                            37.50   \n",
       "1  5842041f4e65fad6a7708804                            45.25   \n",
       "2  5842041f4e65fad6a7708805                            36.75   \n",
       "3  5842041f4e65fad6a7708806                            36.75   \n",
       "4  5842041f4e65fad6a7708807                            36.90   \n",
       "\n",
       "   associated_offshoreLocation_lon  \n",
       "0                          -122.75  \n",
       "1                          -124.25  \n",
       "2                          -122.25  \n",
       "3                          -122.25  \n",
       "4                          -122.10  "
      ]
     },
     "execution_count": 13,
     "metadata": {},
     "output_type": "execute_result"
    }
   ],
   "source": [
    "df.head()"
   ]
  },
  {
   "cell_type": "markdown",
   "metadata": {},
   "source": [
    "Create a mask to only keep lat an lon where they are in the intervals .0, .25, .5, .75"
   ]
  },
  {
   "cell_type": "code",
   "execution_count": 14,
   "metadata": {},
   "outputs": [],
   "source": [
    "df['lat_mod'] = df['associated_offshoreLocation_lat'] % 4\n",
    "df['lon_mod'] = df['associated_offshoreLocation_lon'] % 4"
   ]
  },
  {
   "cell_type": "code",
   "execution_count": 15,
   "metadata": {},
   "outputs": [],
   "source": [
    "mask = (df['lat_mod'].apply(lambda x: round(x, 2) == x) & df['lon_mod'].apply(lambda x: round(x, 2) == x))"
   ]
  },
  {
   "cell_type": "code",
   "execution_count": 16,
   "metadata": {},
   "outputs": [],
   "source": [
    "df = df[mask]"
   ]
  },
  {
   "cell_type": "code",
   "execution_count": 17,
   "metadata": {},
   "outputs": [],
   "source": [
    "df = df.drop(columns=['lat_mod', 'lon_mod'])"
   ]
  },
  {
   "cell_type": "code",
   "execution_count": 18,
   "metadata": {},
   "outputs": [
    {
     "data": {
      "text/plain": [
       "579"
      ]
     },
     "execution_count": 18,
     "metadata": {},
     "output_type": "execute_result"
    }
   ],
   "source": [
    "len(df)"
   ]
  },
  {
   "cell_type": "code",
   "execution_count": 19,
   "metadata": {},
   "outputs": [],
   "source": [
    "lat_lon_list = list(zip(df['associated_offshoreLocation_lat'].values, df['associated_offshoreLocation_lon'].values))"
   ]
  },
  {
   "cell_type": "code",
   "execution_count": 20,
   "metadata": {},
   "outputs": [],
   "source": [
    "lat_lon_str = ', '.join(map(str, lat_lon_list))"
   ]
  },
  {
   "cell_type": "markdown",
   "metadata": {},
   "source": [
    "### Enable postgis"
   ]
  },
  {
   "cell_type": "code",
   "execution_count": 21,
   "metadata": {},
   "outputs": [],
   "source": [
    "with get_session(sl_engine) as db:\n",
    "    stmt = text(\"\"\"CREATE EXTENSION IF NOT EXISTS postgis\"\"\")\n",
    "    results = db.execute(stmt)\n",
    "    db.commit()"
   ]
  },
  {
   "cell_type": "markdown",
   "metadata": {},
   "source": [
    "### Create indexes and reindex "
   ]
  },
  {
   "cell_type": "code",
   "execution_count": 22,
   "metadata": {},
   "outputs": [],
   "source": [
    "with get_session(bodhi_engine) as db:\n",
    "    stmt = text(\"\"\"CREATE INDEX if not exists idx_wave_forecast_lat_lon ON wave_forecast (latitude, longitude)\"\"\")\n",
    "    results = db.execute(stmt)\n",
    "    db.commit()"
   ]
  },
  {
   "cell_type": "code",
   "execution_count": 23,
   "metadata": {},
   "outputs": [],
   "source": [
    "with get_session(bodhi_engine) as db:\n",
    "    stmt = text(\"\"\"reindex index idx_wave_forecast_lat_lon\"\"\")\n",
    "    results = db.execute(stmt)\n",
    "    db.commit()"
   ]
  },
  {
   "cell_type": "markdown",
   "metadata": {},
   "source": [
    "### Getting matching bodhi wave data"
   ]
  },
  {
   "cell_type": "markdown",
   "metadata": {},
   "source": [
    "Get all waves from bodhi for the current day that match the filtered sl spots "
   ]
  },
  {
   "cell_type": "code",
   "execution_count": 24,
   "metadata": {},
   "outputs": [],
   "source": [
    "with get_session(bodhi_engine) as db:\n",
    "    stmt = text(f\"\"\"select * from wave_forecast where time = CURRENT_DATE AND (latitude, longitude) in ({lat_lon_str}) limit 5\"\"\")\n",
    "    results = db.execute(stmt).fetchall()"
   ]
  },
  {
   "cell_type": "code",
   "execution_count": 25,
   "metadata": {},
   "outputs": [],
   "source": [
    "data = [BohdiWavesModel.model_validate(entry) for entry in results]"
   ]
  },
  {
   "cell_type": "code",
   "execution_count": 26,
   "metadata": {},
   "outputs": [
    {
     "data": {
      "text/plain": [
       "[BohdiWavesModel(id=30254, location='0101000020E610000000000000008061C00000000000C04D40', latitude=59.5, longitude=-140.0, time=datetime.datetime(2024, 6, 12, 0, 0, tzinfo=datetime.timezone.utc), step=datetime.timedelta(0), valid_time=datetime.datetime(2024, 6, 12, 0, 0, tzinfo=datetime.timezone.utc), swh=1.9600000381469727, perpw=10.489999771118164, dirpw=218.67999267578125, shww=None, mpww=None, wvdir=None, ws=4.110000133514404, wdir=269.8800048828125, swell=1.8700000047683716, swper=10.489999771118164, entry_updated=datetime.datetime(2024, 6, 12, 13, 19, 52, 744570, tzinfo=datetime.timezone.utc)),\n",
       " BohdiWavesModel(id=34323, location='0101000020E610000000000000000063C00000000000E04C40', latitude=57.75, longitude=-152.0, time=datetime.datetime(2024, 6, 12, 0, 0, tzinfo=datetime.timezone.utc), step=datetime.timedelta(0), valid_time=datetime.datetime(2024, 6, 12, 0, 0, tzinfo=datetime.timezone.utc), swh=1.3300000429153442, perpw=8.25, dirpw=162.5, shww=0.009999999776482582, mpww=0.20000000298023224, wvdir=2.1500000953674316, ws=3.809999942779541, wdir=84.05000305175781, swell=1.2000000476837158, swper=8.210000038146973, entry_updated=datetime.datetime(2024, 6, 12, 13, 19, 52, 744570, tzinfo=datetime.timezone.utc)),\n",
       " BohdiWavesModel(id=34923, location='0101000020E610000000000000000863C00000000000C04C40', latitude=57.5, longitude=-152.25, time=datetime.datetime(2024, 6, 12, 0, 0, tzinfo=datetime.timezone.utc), step=datetime.timedelta(0), valid_time=datetime.datetime(2024, 6, 12, 0, 0, tzinfo=datetime.timezone.utc), swh=1.2699999809265137, perpw=8.149999618530273, dirpw=159.33999633789062, shww=0.029999999329447746, mpww=0.4099999964237213, wvdir=5.099999904632568, ws=4.190000057220459, wdir=82.70999908447266, swell=1.2000000476837158, swper=8.15999984741211, entry_updated=datetime.datetime(2024, 6, 12, 13, 19, 52, 744570, tzinfo=datetime.timezone.utc)),\n",
       " BohdiWavesModel(id=34925, location='0101000020E61000000000000000F862C00000000000C04C40', latitude=57.5, longitude=-151.75, time=datetime.datetime(2024, 6, 12, 0, 0, tzinfo=datetime.timezone.utc), step=datetime.timedelta(0), valid_time=datetime.datetime(2024, 6, 12, 0, 0, tzinfo=datetime.timezone.utc), swh=1.5499999523162842, perpw=8.260000228881836, dirpw=173.07000732421875, shww=None, mpww=None, wvdir=None, ws=4.050000190734863, wdir=86.37000274658203, swell=1.440000057220459, swper=8.260000228881836, entry_updated=datetime.datetime(2024, 6, 12, 13, 19, 52, 744570, tzinfo=datetime.timezone.utc)),\n",
       " BohdiWavesModel(id=35581, location='0101000020E610000000000000000061C00000000000A04C40', latitude=57.25, longitude=-136.0, time=datetime.datetime(2024, 6, 12, 0, 0, tzinfo=datetime.timezone.utc), step=datetime.timedelta(0), valid_time=datetime.datetime(2024, 6, 12, 0, 0, tzinfo=datetime.timezone.utc), swh=1.9600000381469727, perpw=10.800000190734863, dirpw=237.75, shww=0.07999999821186066, mpww=0.6100000143051147, wvdir=47.45000076293945, ws=6.400000095367432, wdir=304.1400146484375, swell=1.909999966621399, swper=10.800000190734863, entry_updated=datetime.datetime(2024, 6, 12, 13, 19, 52, 744570, tzinfo=datetime.timezone.utc))]"
      ]
     },
     "execution_count": 26,
     "metadata": {},
     "output_type": "execute_result"
    }
   ],
   "source": [
    "data"
   ]
  },
  {
   "cell_type": "markdown",
   "metadata": {},
   "source": [
    "## Create New Table to push to same postgres db as other sl data"
   ]
  },
  {
   "cell_type": "code",
   "execution_count": 27,
   "metadata": {},
   "outputs": [],
   "source": [
    "from utils.bodhi_models import create_tables as create_bodhi_tables\n"
   ]
  },
  {
   "cell_type": "code",
   "execution_count": 28,
   "metadata": {},
   "outputs": [],
   "source": [
    "create_bodhi_tables(sl_engine)"
   ]
  },
  {
   "cell_type": "code",
   "execution_count": 39,
   "metadata": {},
   "outputs": [],
   "source": [
    "data_dicts = [entry.model_dump() for entry in data]"
   ]
  },
  {
   "cell_type": "code",
   "execution_count": 40,
   "metadata": {},
   "outputs": [],
   "source": [
    "for d in data_dicts:\n",
    "    d.pop(\"location\", None)"
   ]
  },
  {
   "cell_type": "code",
   "execution_count": 41,
   "metadata": {},
   "outputs": [
    {
     "data": {
      "text/plain": [
       "dict_keys(['id', 'latitude', 'longitude', 'time', 'step', 'valid_time', 'swh', 'perpw', 'dirpw', 'shww', 'mpww', 'wvdir', 'ws', 'wdir', 'swell', 'swper', 'entry_updated'])"
      ]
     },
     "execution_count": 41,
     "metadata": {},
     "output_type": "execute_result"
    }
   ],
   "source": [
    "data_dicts[0].keys()"
   ]
  },
  {
   "cell_type": "code",
   "execution_count": 42,
   "metadata": {},
   "outputs": [],
   "source": [
    "with get_session(sl_engine) as db:\n",
    "    stmt = insert(BodhiWaves).values(data_dicts)\n",
    "    db.execute(stmt)\n",
    "    db.commit()"
   ]
  },
  {
   "cell_type": "code",
   "execution_count": 55,
   "metadata": {},
   "outputs": [],
   "source": [
    "def fetch_wave_data(bs: int = 10):\n",
    "    with get_session(bodhi_engine) as db:\n",
    "        stmt = text(\n",
    "            f\"\"\"select * from wave_forecast where time = CURRENT_DATE AND (latitude, longitude) in ({lat_lon_str}) limit {bs}\"\"\"\n",
    "        )\n",
    "        results = db.execute(stmt).fetchall()\n",
    "        data = [BohdiWavesModel.model_validate(entry) for entry in results]\n",
    "        data_dict = [entry.model_dump() for entry in data]\n",
    "        for d in data_dict:\n",
    "            d.pop(\"location\", None)\n",
    "    return data_dict"
   ]
  },
  {
   "cell_type": "code",
   "execution_count": 58,
   "metadata": {},
   "outputs": [
    {
     "ename": "SyntaxError",
     "evalue": "non-default argument follows default argument (2102384898.py, line 1)",
     "output_type": "error",
     "traceback": [
      "\u001b[0;36m  Cell \u001b[0;32mIn[58], line 1\u001b[0;36m\u001b[0m\n\u001b[0;31m    def wave_data_to_db(bs: int = 10, data: List[Dict]):\u001b[0m\n\u001b[0m                                      ^\u001b[0m\n\u001b[0;31mSyntaxError\u001b[0m\u001b[0;31m:\u001b[0m non-default argument follows default argument\n"
     ]
    }
   ],
   "source": [
    "def wave_data_to_db(data: List[Dict], bs: int = 10):\n",
    "    with get_session(sl_engine) as db:\n",
    "        stmt = insert(BodhiWaves).values(data)\n",
    "        db.execute(stmt)\n",
    "        db.commit()\n"
   ]
  },
  {
   "cell_type": "code",
   "execution_count": 56,
   "metadata": {},
   "outputs": [
    {
     "data": {
      "text/plain": [
       "[{'id': 30254,\n",
       "  'latitude': 59.5,\n",
       "  'longitude': -140.0,\n",
       "  'time': datetime.datetime(2024, 6, 12, 0, 0, tzinfo=datetime.timezone.utc),\n",
       "  'step': datetime.timedelta(0),\n",
       "  'valid_time': datetime.datetime(2024, 6, 12, 0, 0, tzinfo=datetime.timezone.utc),\n",
       "  'swh': 1.9600000381469727,\n",
       "  'perpw': 10.489999771118164,\n",
       "  'dirpw': 218.67999267578125,\n",
       "  'shww': None,\n",
       "  'mpww': None,\n",
       "  'wvdir': None,\n",
       "  'ws': 4.110000133514404,\n",
       "  'wdir': 269.8800048828125,\n",
       "  'swell': 1.8700000047683716,\n",
       "  'swper': 10.489999771118164,\n",
       "  'entry_updated': datetime.datetime(2024, 6, 12, 13, 19, 52, 744570, tzinfo=datetime.timezone.utc)}]"
      ]
     },
     "execution_count": 56,
     "metadata": {},
     "output_type": "execute_result"
    }
   ],
   "source": [
    "fetch_wave_data(1)"
   ]
  },
  {
   "cell_type": "code",
   "execution_count": null,
   "metadata": {},
   "outputs": [],
   "source": []
  }
 ],
 "metadata": {
  "kernelspec": {
   "display_name": ".venv",
   "language": "python",
   "name": "python3"
  },
  "language_info": {
   "codemirror_mode": {
    "name": "ipython",
    "version": 3
   },
   "file_extension": ".py",
   "mimetype": "text/x-python",
   "name": "python",
   "nbconvert_exporter": "python",
   "pygments_lexer": "ipython3",
   "version": "3.10.12"
  }
 },
 "nbformat": 4,
 "nbformat_minor": 2
}
