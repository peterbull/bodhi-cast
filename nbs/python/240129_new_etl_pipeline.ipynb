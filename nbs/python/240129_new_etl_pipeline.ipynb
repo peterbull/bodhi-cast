{
 "cells": [
  {
   "cell_type": "code",
   "execution_count": 10,
   "metadata": {},
   "outputs": [],
   "source": [
    "from datetime import datetime, timedelta\n",
    "\n",
    "import requests\n",
    "from bs4 import BeautifulSoup\n",
    "import re\n",
    "from urllib.parse import urljoin"
   ]
  },
  {
   "cell_type": "markdown",
   "metadata": {},
   "source": [
    "Mean GEFS for waves is among the last to run for each forecast epoch. Assume a 6.9 hour lag time from the forecast interval to the available time for the data.\n",
    "\n",
    "Ex:\n",
    "| UTC Forecast Time | EST Forecast Time | Available UTC Time | Available EST Time\n",
    "|-------------------|-------------------|--------------------|---------------------\n",
    "|00:00:00 |7 p.m., prior day| 06:59:00 | 01:59:00 am"
   ]
  },
  {
   "cell_type": "code",
   "execution_count": 11,
   "metadata": {},
   "outputs": [],
   "source": [
    "forecast_intervals = ['00', '06', '12', '18']"
   ]
  },
  {
   "cell_type": "code",
   "execution_count": 12,
   "metadata": {},
   "outputs": [],
   "source": [
    "time = datetime.utcnow().strftime(\"%H\")\n",
    "time_without_forecast_delay = int(time) -7\n"
   ]
  },
  {
   "cell_type": "code",
   "execution_count": 13,
   "metadata": {},
   "outputs": [
    {
     "data": {
      "text/plain": [
       "7"
      ]
     },
     "execution_count": 13,
     "metadata": {},
     "output_type": "execute_result"
    }
   ],
   "source": [
    "time_without_forecast_delay"
   ]
  },
  {
   "cell_type": "markdown",
   "metadata": {},
   "source": [
    "Just using a single forecast at the moment"
   ]
  },
  {
   "cell_type": "code",
   "execution_count": 14,
   "metadata": {},
   "outputs": [],
   "source": [
    "epoch = forecast_intervals[0]"
   ]
  },
  {
   "cell_type": "code",
   "execution_count": 15,
   "metadata": {},
   "outputs": [],
   "source": [
    "# Pattern for mean ensemble wave models:\n",
    "pattern = re.compile(r\".*\\.mean\\.global\\.0p25\\.f\\d{3}\\.grib2\")"
   ]
  },
  {
   "cell_type": "code",
   "execution_count": 16,
   "metadata": {},
   "outputs": [],
   "source": [
    "date = datetime.now().strftime(\"%Y%m%d\")\n",
    "url = f\"https://nomads.ncep.noaa.gov/pub/data/nccf/com/gens/prod/gefs.{date}/{epoch}/wave/gridded/\"\n",
    "response = requests.get(url)\n",
    "soup = BeautifulSoup(response.content, \"html.parser\")\n",
    "urls = [urljoin(url, a.get(\"href\")) for a in soup.find_all(\"a\", href=pattern)]"
   ]
  },
  {
   "cell_type": "code",
   "execution_count": 17,
   "metadata": {},
   "outputs": [
    {
     "data": {
      "text/plain": [
       "['https://nomads.ncep.noaa.gov/pub/data/nccf/com/gens/prod/gefs.20240202/00/wave/gridded/gefs.wave.t00z.mean.global.0p25.f000.grib2',\n",
       " 'https://nomads.ncep.noaa.gov/pub/data/nccf/com/gens/prod/gefs.20240202/00/wave/gridded/gefs.wave.t00z.mean.global.0p25.f003.grib2',\n",
       " 'https://nomads.ncep.noaa.gov/pub/data/nccf/com/gens/prod/gefs.20240202/00/wave/gridded/gefs.wave.t00z.mean.global.0p25.f006.grib2',\n",
       " 'https://nomads.ncep.noaa.gov/pub/data/nccf/com/gens/prod/gefs.20240202/00/wave/gridded/gefs.wave.t00z.mean.global.0p25.f009.grib2',\n",
       " 'https://nomads.ncep.noaa.gov/pub/data/nccf/com/gens/prod/gefs.20240202/00/wave/gridded/gefs.wave.t00z.mean.global.0p25.f012.grib2',\n",
       " 'https://nomads.ncep.noaa.gov/pub/data/nccf/com/gens/prod/gefs.20240202/00/wave/gridded/gefs.wave.t00z.mean.global.0p25.f015.grib2',\n",
       " 'https://nomads.ncep.noaa.gov/pub/data/nccf/com/gens/prod/gefs.20240202/00/wave/gridded/gefs.wave.t00z.mean.global.0p25.f018.grib2',\n",
       " 'https://nomads.ncep.noaa.gov/pub/data/nccf/com/gens/prod/gefs.20240202/00/wave/gridded/gefs.wave.t00z.mean.global.0p25.f021.grib2',\n",
       " 'https://nomads.ncep.noaa.gov/pub/data/nccf/com/gens/prod/gefs.20240202/00/wave/gridded/gefs.wave.t00z.mean.global.0p25.f024.grib2',\n",
       " 'https://nomads.ncep.noaa.gov/pub/data/nccf/com/gens/prod/gefs.20240202/00/wave/gridded/gefs.wave.t00z.mean.global.0p25.f027.grib2',\n",
       " 'https://nomads.ncep.noaa.gov/pub/data/nccf/com/gens/prod/gefs.20240202/00/wave/gridded/gefs.wave.t00z.mean.global.0p25.f030.grib2',\n",
       " 'https://nomads.ncep.noaa.gov/pub/data/nccf/com/gens/prod/gefs.20240202/00/wave/gridded/gefs.wave.t00z.mean.global.0p25.f033.grib2',\n",
       " 'https://nomads.ncep.noaa.gov/pub/data/nccf/com/gens/prod/gefs.20240202/00/wave/gridded/gefs.wave.t00z.mean.global.0p25.f036.grib2',\n",
       " 'https://nomads.ncep.noaa.gov/pub/data/nccf/com/gens/prod/gefs.20240202/00/wave/gridded/gefs.wave.t00z.mean.global.0p25.f039.grib2',\n",
       " 'https://nomads.ncep.noaa.gov/pub/data/nccf/com/gens/prod/gefs.20240202/00/wave/gridded/gefs.wave.t00z.mean.global.0p25.f042.grib2',\n",
       " 'https://nomads.ncep.noaa.gov/pub/data/nccf/com/gens/prod/gefs.20240202/00/wave/gridded/gefs.wave.t00z.mean.global.0p25.f045.grib2',\n",
       " 'https://nomads.ncep.noaa.gov/pub/data/nccf/com/gens/prod/gefs.20240202/00/wave/gridded/gefs.wave.t00z.mean.global.0p25.f048.grib2',\n",
       " 'https://nomads.ncep.noaa.gov/pub/data/nccf/com/gens/prod/gefs.20240202/00/wave/gridded/gefs.wave.t00z.mean.global.0p25.f051.grib2',\n",
       " 'https://nomads.ncep.noaa.gov/pub/data/nccf/com/gens/prod/gefs.20240202/00/wave/gridded/gefs.wave.t00z.mean.global.0p25.f054.grib2',\n",
       " 'https://nomads.ncep.noaa.gov/pub/data/nccf/com/gens/prod/gefs.20240202/00/wave/gridded/gefs.wave.t00z.mean.global.0p25.f057.grib2',\n",
       " 'https://nomads.ncep.noaa.gov/pub/data/nccf/com/gens/prod/gefs.20240202/00/wave/gridded/gefs.wave.t00z.mean.global.0p25.f060.grib2',\n",
       " 'https://nomads.ncep.noaa.gov/pub/data/nccf/com/gens/prod/gefs.20240202/00/wave/gridded/gefs.wave.t00z.mean.global.0p25.f063.grib2',\n",
       " 'https://nomads.ncep.noaa.gov/pub/data/nccf/com/gens/prod/gefs.20240202/00/wave/gridded/gefs.wave.t00z.mean.global.0p25.f066.grib2',\n",
       " 'https://nomads.ncep.noaa.gov/pub/data/nccf/com/gens/prod/gefs.20240202/00/wave/gridded/gefs.wave.t00z.mean.global.0p25.f069.grib2',\n",
       " 'https://nomads.ncep.noaa.gov/pub/data/nccf/com/gens/prod/gefs.20240202/00/wave/gridded/gefs.wave.t00z.mean.global.0p25.f072.grib2',\n",
       " 'https://nomads.ncep.noaa.gov/pub/data/nccf/com/gens/prod/gefs.20240202/00/wave/gridded/gefs.wave.t00z.mean.global.0p25.f075.grib2',\n",
       " 'https://nomads.ncep.noaa.gov/pub/data/nccf/com/gens/prod/gefs.20240202/00/wave/gridded/gefs.wave.t00z.mean.global.0p25.f078.grib2',\n",
       " 'https://nomads.ncep.noaa.gov/pub/data/nccf/com/gens/prod/gefs.20240202/00/wave/gridded/gefs.wave.t00z.mean.global.0p25.f081.grib2',\n",
       " 'https://nomads.ncep.noaa.gov/pub/data/nccf/com/gens/prod/gefs.20240202/00/wave/gridded/gefs.wave.t00z.mean.global.0p25.f084.grib2',\n",
       " 'https://nomads.ncep.noaa.gov/pub/data/nccf/com/gens/prod/gefs.20240202/00/wave/gridded/gefs.wave.t00z.mean.global.0p25.f087.grib2',\n",
       " 'https://nomads.ncep.noaa.gov/pub/data/nccf/com/gens/prod/gefs.20240202/00/wave/gridded/gefs.wave.t00z.mean.global.0p25.f090.grib2',\n",
       " 'https://nomads.ncep.noaa.gov/pub/data/nccf/com/gens/prod/gefs.20240202/00/wave/gridded/gefs.wave.t00z.mean.global.0p25.f093.grib2',\n",
       " 'https://nomads.ncep.noaa.gov/pub/data/nccf/com/gens/prod/gefs.20240202/00/wave/gridded/gefs.wave.t00z.mean.global.0p25.f096.grib2',\n",
       " 'https://nomads.ncep.noaa.gov/pub/data/nccf/com/gens/prod/gefs.20240202/00/wave/gridded/gefs.wave.t00z.mean.global.0p25.f099.grib2',\n",
       " 'https://nomads.ncep.noaa.gov/pub/data/nccf/com/gens/prod/gefs.20240202/00/wave/gridded/gefs.wave.t00z.mean.global.0p25.f102.grib2',\n",
       " 'https://nomads.ncep.noaa.gov/pub/data/nccf/com/gens/prod/gefs.20240202/00/wave/gridded/gefs.wave.t00z.mean.global.0p25.f105.grib2',\n",
       " 'https://nomads.ncep.noaa.gov/pub/data/nccf/com/gens/prod/gefs.20240202/00/wave/gridded/gefs.wave.t00z.mean.global.0p25.f108.grib2',\n",
       " 'https://nomads.ncep.noaa.gov/pub/data/nccf/com/gens/prod/gefs.20240202/00/wave/gridded/gefs.wave.t00z.mean.global.0p25.f111.grib2',\n",
       " 'https://nomads.ncep.noaa.gov/pub/data/nccf/com/gens/prod/gefs.20240202/00/wave/gridded/gefs.wave.t00z.mean.global.0p25.f114.grib2',\n",
       " 'https://nomads.ncep.noaa.gov/pub/data/nccf/com/gens/prod/gefs.20240202/00/wave/gridded/gefs.wave.t00z.mean.global.0p25.f117.grib2',\n",
       " 'https://nomads.ncep.noaa.gov/pub/data/nccf/com/gens/prod/gefs.20240202/00/wave/gridded/gefs.wave.t00z.mean.global.0p25.f120.grib2',\n",
       " 'https://nomads.ncep.noaa.gov/pub/data/nccf/com/gens/prod/gefs.20240202/00/wave/gridded/gefs.wave.t00z.mean.global.0p25.f123.grib2',\n",
       " 'https://nomads.ncep.noaa.gov/pub/data/nccf/com/gens/prod/gefs.20240202/00/wave/gridded/gefs.wave.t00z.mean.global.0p25.f126.grib2',\n",
       " 'https://nomads.ncep.noaa.gov/pub/data/nccf/com/gens/prod/gefs.20240202/00/wave/gridded/gefs.wave.t00z.mean.global.0p25.f129.grib2',\n",
       " 'https://nomads.ncep.noaa.gov/pub/data/nccf/com/gens/prod/gefs.20240202/00/wave/gridded/gefs.wave.t00z.mean.global.0p25.f132.grib2',\n",
       " 'https://nomads.ncep.noaa.gov/pub/data/nccf/com/gens/prod/gefs.20240202/00/wave/gridded/gefs.wave.t00z.mean.global.0p25.f135.grib2',\n",
       " 'https://nomads.ncep.noaa.gov/pub/data/nccf/com/gens/prod/gefs.20240202/00/wave/gridded/gefs.wave.t00z.mean.global.0p25.f138.grib2',\n",
       " 'https://nomads.ncep.noaa.gov/pub/data/nccf/com/gens/prod/gefs.20240202/00/wave/gridded/gefs.wave.t00z.mean.global.0p25.f141.grib2',\n",
       " 'https://nomads.ncep.noaa.gov/pub/data/nccf/com/gens/prod/gefs.20240202/00/wave/gridded/gefs.wave.t00z.mean.global.0p25.f144.grib2',\n",
       " 'https://nomads.ncep.noaa.gov/pub/data/nccf/com/gens/prod/gefs.20240202/00/wave/gridded/gefs.wave.t00z.mean.global.0p25.f147.grib2',\n",
       " 'https://nomads.ncep.noaa.gov/pub/data/nccf/com/gens/prod/gefs.20240202/00/wave/gridded/gefs.wave.t00z.mean.global.0p25.f150.grib2',\n",
       " 'https://nomads.ncep.noaa.gov/pub/data/nccf/com/gens/prod/gefs.20240202/00/wave/gridded/gefs.wave.t00z.mean.global.0p25.f153.grib2',\n",
       " 'https://nomads.ncep.noaa.gov/pub/data/nccf/com/gens/prod/gefs.20240202/00/wave/gridded/gefs.wave.t00z.mean.global.0p25.f156.grib2',\n",
       " 'https://nomads.ncep.noaa.gov/pub/data/nccf/com/gens/prod/gefs.20240202/00/wave/gridded/gefs.wave.t00z.mean.global.0p25.f159.grib2',\n",
       " 'https://nomads.ncep.noaa.gov/pub/data/nccf/com/gens/prod/gefs.20240202/00/wave/gridded/gefs.wave.t00z.mean.global.0p25.f162.grib2',\n",
       " 'https://nomads.ncep.noaa.gov/pub/data/nccf/com/gens/prod/gefs.20240202/00/wave/gridded/gefs.wave.t00z.mean.global.0p25.f165.grib2',\n",
       " 'https://nomads.ncep.noaa.gov/pub/data/nccf/com/gens/prod/gefs.20240202/00/wave/gridded/gefs.wave.t00z.mean.global.0p25.f168.grib2',\n",
       " 'https://nomads.ncep.noaa.gov/pub/data/nccf/com/gens/prod/gefs.20240202/00/wave/gridded/gefs.wave.t00z.mean.global.0p25.f171.grib2',\n",
       " 'https://nomads.ncep.noaa.gov/pub/data/nccf/com/gens/prod/gefs.20240202/00/wave/gridded/gefs.wave.t00z.mean.global.0p25.f174.grib2',\n",
       " 'https://nomads.ncep.noaa.gov/pub/data/nccf/com/gens/prod/gefs.20240202/00/wave/gridded/gefs.wave.t00z.mean.global.0p25.f177.grib2',\n",
       " 'https://nomads.ncep.noaa.gov/pub/data/nccf/com/gens/prod/gefs.20240202/00/wave/gridded/gefs.wave.t00z.mean.global.0p25.f180.grib2',\n",
       " 'https://nomads.ncep.noaa.gov/pub/data/nccf/com/gens/prod/gefs.20240202/00/wave/gridded/gefs.wave.t00z.mean.global.0p25.f183.grib2',\n",
       " 'https://nomads.ncep.noaa.gov/pub/data/nccf/com/gens/prod/gefs.20240202/00/wave/gridded/gefs.wave.t00z.mean.global.0p25.f186.grib2',\n",
       " 'https://nomads.ncep.noaa.gov/pub/data/nccf/com/gens/prod/gefs.20240202/00/wave/gridded/gefs.wave.t00z.mean.global.0p25.f189.grib2',\n",
       " 'https://nomads.ncep.noaa.gov/pub/data/nccf/com/gens/prod/gefs.20240202/00/wave/gridded/gefs.wave.t00z.mean.global.0p25.f192.grib2',\n",
       " 'https://nomads.ncep.noaa.gov/pub/data/nccf/com/gens/prod/gefs.20240202/00/wave/gridded/gefs.wave.t00z.mean.global.0p25.f195.grib2',\n",
       " 'https://nomads.ncep.noaa.gov/pub/data/nccf/com/gens/prod/gefs.20240202/00/wave/gridded/gefs.wave.t00z.mean.global.0p25.f198.grib2',\n",
       " 'https://nomads.ncep.noaa.gov/pub/data/nccf/com/gens/prod/gefs.20240202/00/wave/gridded/gefs.wave.t00z.mean.global.0p25.f201.grib2',\n",
       " 'https://nomads.ncep.noaa.gov/pub/data/nccf/com/gens/prod/gefs.20240202/00/wave/gridded/gefs.wave.t00z.mean.global.0p25.f204.grib2',\n",
       " 'https://nomads.ncep.noaa.gov/pub/data/nccf/com/gens/prod/gefs.20240202/00/wave/gridded/gefs.wave.t00z.mean.global.0p25.f207.grib2',\n",
       " 'https://nomads.ncep.noaa.gov/pub/data/nccf/com/gens/prod/gefs.20240202/00/wave/gridded/gefs.wave.t00z.mean.global.0p25.f210.grib2',\n",
       " 'https://nomads.ncep.noaa.gov/pub/data/nccf/com/gens/prod/gefs.20240202/00/wave/gridded/gefs.wave.t00z.mean.global.0p25.f213.grib2',\n",
       " 'https://nomads.ncep.noaa.gov/pub/data/nccf/com/gens/prod/gefs.20240202/00/wave/gridded/gefs.wave.t00z.mean.global.0p25.f216.grib2',\n",
       " 'https://nomads.ncep.noaa.gov/pub/data/nccf/com/gens/prod/gefs.20240202/00/wave/gridded/gefs.wave.t00z.mean.global.0p25.f219.grib2',\n",
       " 'https://nomads.ncep.noaa.gov/pub/data/nccf/com/gens/prod/gefs.20240202/00/wave/gridded/gefs.wave.t00z.mean.global.0p25.f222.grib2',\n",
       " 'https://nomads.ncep.noaa.gov/pub/data/nccf/com/gens/prod/gefs.20240202/00/wave/gridded/gefs.wave.t00z.mean.global.0p25.f225.grib2',\n",
       " 'https://nomads.ncep.noaa.gov/pub/data/nccf/com/gens/prod/gefs.20240202/00/wave/gridded/gefs.wave.t00z.mean.global.0p25.f228.grib2',\n",
       " 'https://nomads.ncep.noaa.gov/pub/data/nccf/com/gens/prod/gefs.20240202/00/wave/gridded/gefs.wave.t00z.mean.global.0p25.f231.grib2',\n",
       " 'https://nomads.ncep.noaa.gov/pub/data/nccf/com/gens/prod/gefs.20240202/00/wave/gridded/gefs.wave.t00z.mean.global.0p25.f234.grib2',\n",
       " 'https://nomads.ncep.noaa.gov/pub/data/nccf/com/gens/prod/gefs.20240202/00/wave/gridded/gefs.wave.t00z.mean.global.0p25.f237.grib2',\n",
       " 'https://nomads.ncep.noaa.gov/pub/data/nccf/com/gens/prod/gefs.20240202/00/wave/gridded/gefs.wave.t00z.mean.global.0p25.f240.grib2',\n",
       " 'https://nomads.ncep.noaa.gov/pub/data/nccf/com/gens/prod/gefs.20240202/00/wave/gridded/gefs.wave.t00z.mean.global.0p25.f246.grib2',\n",
       " 'https://nomads.ncep.noaa.gov/pub/data/nccf/com/gens/prod/gefs.20240202/00/wave/gridded/gefs.wave.t00z.mean.global.0p25.f252.grib2',\n",
       " 'https://nomads.ncep.noaa.gov/pub/data/nccf/com/gens/prod/gefs.20240202/00/wave/gridded/gefs.wave.t00z.mean.global.0p25.f258.grib2',\n",
       " 'https://nomads.ncep.noaa.gov/pub/data/nccf/com/gens/prod/gefs.20240202/00/wave/gridded/gefs.wave.t00z.mean.global.0p25.f264.grib2',\n",
       " 'https://nomads.ncep.noaa.gov/pub/data/nccf/com/gens/prod/gefs.20240202/00/wave/gridded/gefs.wave.t00z.mean.global.0p25.f270.grib2',\n",
       " 'https://nomads.ncep.noaa.gov/pub/data/nccf/com/gens/prod/gefs.20240202/00/wave/gridded/gefs.wave.t00z.mean.global.0p25.f276.grib2',\n",
       " 'https://nomads.ncep.noaa.gov/pub/data/nccf/com/gens/prod/gefs.20240202/00/wave/gridded/gefs.wave.t00z.mean.global.0p25.f282.grib2',\n",
       " 'https://nomads.ncep.noaa.gov/pub/data/nccf/com/gens/prod/gefs.20240202/00/wave/gridded/gefs.wave.t00z.mean.global.0p25.f288.grib2',\n",
       " 'https://nomads.ncep.noaa.gov/pub/data/nccf/com/gens/prod/gefs.20240202/00/wave/gridded/gefs.wave.t00z.mean.global.0p25.f294.grib2',\n",
       " 'https://nomads.ncep.noaa.gov/pub/data/nccf/com/gens/prod/gefs.20240202/00/wave/gridded/gefs.wave.t00z.mean.global.0p25.f300.grib2',\n",
       " 'https://nomads.ncep.noaa.gov/pub/data/nccf/com/gens/prod/gefs.20240202/00/wave/gridded/gefs.wave.t00z.mean.global.0p25.f306.grib2',\n",
       " 'https://nomads.ncep.noaa.gov/pub/data/nccf/com/gens/prod/gefs.20240202/00/wave/gridded/gefs.wave.t00z.mean.global.0p25.f312.grib2',\n",
       " 'https://nomads.ncep.noaa.gov/pub/data/nccf/com/gens/prod/gefs.20240202/00/wave/gridded/gefs.wave.t00z.mean.global.0p25.f318.grib2',\n",
       " 'https://nomads.ncep.noaa.gov/pub/data/nccf/com/gens/prod/gefs.20240202/00/wave/gridded/gefs.wave.t00z.mean.global.0p25.f324.grib2',\n",
       " 'https://nomads.ncep.noaa.gov/pub/data/nccf/com/gens/prod/gefs.20240202/00/wave/gridded/gefs.wave.t00z.mean.global.0p25.f330.grib2',\n",
       " 'https://nomads.ncep.noaa.gov/pub/data/nccf/com/gens/prod/gefs.20240202/00/wave/gridded/gefs.wave.t00z.mean.global.0p25.f336.grib2',\n",
       " 'https://nomads.ncep.noaa.gov/pub/data/nccf/com/gens/prod/gefs.20240202/00/wave/gridded/gefs.wave.t00z.mean.global.0p25.f342.grib2',\n",
       " 'https://nomads.ncep.noaa.gov/pub/data/nccf/com/gens/prod/gefs.20240202/00/wave/gridded/gefs.wave.t00z.mean.global.0p25.f348.grib2',\n",
       " 'https://nomads.ncep.noaa.gov/pub/data/nccf/com/gens/prod/gefs.20240202/00/wave/gridded/gefs.wave.t00z.mean.global.0p25.f354.grib2',\n",
       " 'https://nomads.ncep.noaa.gov/pub/data/nccf/com/gens/prod/gefs.20240202/00/wave/gridded/gefs.wave.t00z.mean.global.0p25.f360.grib2',\n",
       " 'https://nomads.ncep.noaa.gov/pub/data/nccf/com/gens/prod/gefs.20240202/00/wave/gridded/gefs.wave.t00z.mean.global.0p25.f366.grib2',\n",
       " 'https://nomads.ncep.noaa.gov/pub/data/nccf/com/gens/prod/gefs.20240202/00/wave/gridded/gefs.wave.t00z.mean.global.0p25.f372.grib2',\n",
       " 'https://nomads.ncep.noaa.gov/pub/data/nccf/com/gens/prod/gefs.20240202/00/wave/gridded/gefs.wave.t00z.mean.global.0p25.f378.grib2',\n",
       " 'https://nomads.ncep.noaa.gov/pub/data/nccf/com/gens/prod/gefs.20240202/00/wave/gridded/gefs.wave.t00z.mean.global.0p25.f384.grib2']"
      ]
     },
     "execution_count": 17,
     "metadata": {},
     "output_type": "execute_result"
    }
   ],
   "source": [
    "urls"
   ]
  },
  {
   "cell_type": "code",
   "execution_count": null,
   "metadata": {},
   "outputs": [],
   "source": [
    "soup"
   ]
  },
  {
   "cell_type": "code",
   "execution_count": null,
   "metadata": {},
   "outputs": [],
   "source": []
  }
 ],
 "metadata": {
  "kernelspec": {
   "display_name": ".venv",
   "language": "python",
   "name": "python3"
  },
  "language_info": {
   "codemirror_mode": {
    "name": "ipython",
    "version": 3
   },
   "file_extension": ".py",
   "mimetype": "text/x-python",
   "name": "python",
   "nbconvert_exporter": "python",
   "pygments_lexer": "ipython3",
   "version": "3.10.12"
  }
 },
 "nbformat": 4,
 "nbformat_minor": 2
}
